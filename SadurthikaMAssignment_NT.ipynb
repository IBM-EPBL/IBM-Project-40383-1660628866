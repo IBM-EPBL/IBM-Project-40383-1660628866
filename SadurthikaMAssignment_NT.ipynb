{
 "cells": [
  {
   "cell_type": "markdown",
   "id": "be01c7c0",
   "metadata": {},
   "source": [
    "# 1. Split this string"
   ]
  },
  {
   "cell_type": "code",
   "execution_count": 1,
   "id": "81308b86",
   "metadata": {},
   "outputs": [
    {
     "name": "stdout",
     "output_type": "stream",
     "text": [
      "['Hi', 'there', 'Sam!']\n"
     ]
    }
   ],
   "source": [
    "s = \"Hi there Sam!\"\n",
    "print(s.split())\n"
   ]
  },
  {
   "cell_type": "markdown",
   "id": "04380af9",
   "metadata": {},
   "source": [
    "# 2. Use .format() to print the following string."
   ]
  },
  {
   "cell_type": "code",
   "execution_count": 4,
   "id": "aec32d21",
   "metadata": {},
   "outputs": [
    {
     "name": "stdout",
     "output_type": "stream",
     "text": [
      "The diameter of Earth is 12742 kilometers.\n"
     ]
    }
   ],
   "source": [
    "planet = \"Earth\"\n",
    "diameter = 12742\n",
    "print(\"The diameter of {} is {} kilometers.\".format(planet,diameter))\n"
   ]
  },
  {
   "cell_type": "markdown",
   "id": "62cc7aef",
   "metadata": {},
   "source": [
    "# 3. In this nest dictionary grab the word \"hello\""
   ]
  },
  {
   "cell_type": "code",
   "execution_count": 7,
   "id": "478cec2b",
   "metadata": {},
   "outputs": [
    {
     "name": "stdout",
     "output_type": "stream",
     "text": [
      "hello\n"
     ]
    }
   ],
   "source": [
    "d = {'k1':[1,2,3,{'tricky':['oh','man','inception',{'target':[1,2,3,'hello']}]}]}\n",
    "print(d['k1'][3]['tricky'][3]['target'][3])\n"
   ]
  },
  {
   "cell_type": "markdown",
   "id": "8f5228e3",
   "metadata": {},
   "source": [
    "# Numpy\n"
   ]
  },
  {
   "cell_type": "code",
   "execution_count": 8,
   "id": "9b88861f",
   "metadata": {},
   "outputs": [],
   "source": [
    "import numpy as np"
   ]
  },
  {
   "cell_type": "markdown",
   "id": "ac28ebcc",
   "metadata": {},
   "source": [
    "v# 4.1 Create an array of 10 zeros"
   ]
  },
  {
   "cell_type": "markdown",
   "id": "654f0062",
   "metadata": {},
   "source": [
    "# 4.2 Create an array of 10 fives?"
   ]
  },
  {
   "cell_type": "code",
   "execution_count": 9,
   "id": "92d7df5d",
   "metadata": {},
   "outputs": [
    {
     "data": {
      "text/plain": [
       "array([0, 0, 0, 0, 0, 0, 0, 0, 0, 0])"
      ]
     },
     "execution_count": 9,
     "metadata": {},
     "output_type": "execute_result"
    }
   ],
   "source": [
    "np.zeros(10,dtype=\"int\")\n"
   ]
  },
  {
   "cell_type": "code",
   "execution_count": 10,
   "id": "454c6fa7",
   "metadata": {},
   "outputs": [
    {
     "data": {
      "text/plain": [
       "array([5, 5, 5, 5, 5, 5, 5, 5, 5, 5])"
      ]
     },
     "execution_count": 10,
     "metadata": {},
     "output_type": "execute_result"
    }
   ],
   "source": [
    "np.ones(10,dtype=\"int\")*5"
   ]
  },
  {
   "cell_type": "markdown",
   "id": "b0166e94",
   "metadata": {},
   "source": [
    "# 5. Create an array of all the even integers from 20 to 35\n"
   ]
  },
  {
   "cell_type": "code",
   "execution_count": 17,
   "id": "958df10b",
   "metadata": {},
   "outputs": [
    {
     "data": {
      "text/plain": [
       "array([60, 64, 68, 72, 76, 80, 84, 88])"
      ]
     },
     "execution_count": 17,
     "metadata": {},
     "output_type": "execute_result"
    }
   ],
   "source": [
    "np.arange(60,89,4)\n"
   ]
  },
  {
   "cell_type": "markdown",
   "id": "40d6f69d",
   "metadata": {},
   "source": [
    "# 6. Create a 3x3 matrix with values ranging from 0 to 8\n"
   ]
  },
  {
   "cell_type": "code",
   "execution_count": 13,
   "id": "9e5fbc23",
   "metadata": {},
   "outputs": [
    {
     "data": {
      "text/plain": [
       "array([[0, 1, 2],\n",
       "       [3, 4, 5],\n",
       "       [6, 7, 8]])"
      ]
     },
     "execution_count": 13,
     "metadata": {},
     "output_type": "execute_result"
    }
   ],
   "source": [
    "np.arange(0, 9).reshape(3,3)\n"
   ]
  },
  {
   "cell_type": "markdown",
   "id": "c74398a9",
   "metadata": {},
   "source": [
    "# 7. Concatinate a and b\n"
   ]
  },
  {
   "cell_type": "code",
   "execution_count": 14,
   "id": "cf0d0dbc",
   "metadata": {},
   "outputs": [
    {
     "data": {
      "text/plain": [
       "array([1, 2, 3, 4, 5, 6])"
      ]
     },
     "execution_count": 14,
     "metadata": {},
     "output_type": "execute_result"
    }
   ],
   "source": [
    "a = np.array([1, 2, 3])\n",
    "b = np.array([4, 5, 6])\n",
    "np.concatenate((a,b),axis=0)"
   ]
  },
  {
   "cell_type": "markdown",
   "id": "3813dc44",
   "metadata": {},
   "source": [
    "# 8. Create a dataframe with 3 rows and 2 columns\n"
   ]
  },
  {
   "cell_type": "code",
   "execution_count": 16,
   "id": "4fddce19",
   "metadata": {},
   "outputs": [
    {
     "data": {
      "text/plain": [
       "array([[8, 9],\n",
       "       [1, 6],\n",
       "       [2, 6]])"
      ]
     },
     "execution_count": 16,
     "metadata": {},
     "output_type": "execute_result"
    }
   ],
   "source": [
    "import pandas as pd\n",
    "np.random.randint(10, size=(3,2))\n"
   ]
  },
  {
   "cell_type": "markdown",
   "id": "1db2125e",
   "metadata": {},
   "source": [
    "# 9. Generate the series of dates from 1st Jan, 2023 to 10th Feb, 2023\n"
   ]
  },
  {
   "cell_type": "code",
   "execution_count": 19,
   "id": "dfb727fa",
   "metadata": {},
   "outputs": [
    {
     "name": "stdout",
     "output_type": "stream",
     "text": [
      "2023-01-01\n",
      "2023-01-02\n",
      "2023-01-03\n",
      "2023-01-04\n",
      "2023-01-05\n",
      "2023-01-06\n",
      "2023-01-07\n",
      "2023-01-08\n",
      "2023-01-09\n",
      "2023-01-10\n",
      "2023-01-11\n",
      "2023-01-12\n",
      "2023-01-13\n",
      "2023-01-14\n",
      "2023-01-15\n",
      "2023-01-16\n",
      "2023-01-17\n",
      "2023-01-18\n",
      "2023-01-19\n",
      "2023-01-20\n",
      "2023-01-21\n",
      "2023-01-22\n",
      "2023-01-23\n",
      "2023-01-24\n",
      "2023-01-25\n",
      "2023-01-26\n",
      "2023-01-27\n",
      "2023-01-28\n",
      "2023-01-29\n",
      "2023-01-30\n",
      "2023-01-31\n",
      "2023-02-01\n",
      "2023-02-02\n",
      "2023-02-03\n",
      "2023-02-04\n",
      "2023-02-05\n",
      "2023-02-06\n",
      "2023-02-07\n",
      "2023-02-08\n",
      "2023-02-09\n",
      "2023-02-10\n"
     ]
    }
   ],
   "source": [
    "import pandas as pd\n",
    "\n",
    "mydate = pd.date_range(start='1/1/2023', end='2/10/2023')\n",
    "\n",
    "for i in mydate:\n",
    "    print(i.date())"
   ]
  },
  {
   "cell_type": "markdown",
   "id": "9ed1cdac",
   "metadata": {},
   "source": [
    "# 10. Create 2D list to DataFrame\n"
   ]
  },
  {
   "cell_type": "code",
   "execution_count": 20,
   "id": "c1a4898a",
   "metadata": {},
   "outputs": [
    {
     "name": "stdout",
     "output_type": "stream",
     "text": [
      "   0    1   2\n",
      "0  1  aaa  22\n",
      "1  2  bbb  25\n",
      "2  3  ccc  24\n"
     ]
    }
   ],
   "source": [
    "lists = [[1, 'aaa', 22], [2, 'bbb', 25], [3, 'ccc', 24]]\n",
    "print(pd.DataFrame(lists))\n"
   ]
  },
  {
   "cell_type": "code",
   "execution_count": null,
   "id": "53b06fd7",
   "metadata": {},
   "outputs": [],
   "source": []
  }
 ],
 "metadata": {
  "kernelspec": {
   "display_name": "Python 3",
   "language": "python",
   "name": "python3"
  },
  "language_info": {
   "codemirror_mode": {
    "name": "ipython",
    "version": 3
   },
   "file_extension": ".py",
   "mimetype": "text/x-python",
   "name": "python",
   "nbconvert_exporter": "python",
   "pygments_lexer": "ipython3",
   "version": "3.8.8"
  }
 },
 "nbformat": 4,
 "nbformat_minor": 5
}
