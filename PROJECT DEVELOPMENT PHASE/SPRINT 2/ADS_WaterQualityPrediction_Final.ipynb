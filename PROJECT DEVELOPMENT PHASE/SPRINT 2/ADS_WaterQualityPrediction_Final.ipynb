{
  "cells": [
    {
      "cell_type": "markdown",
      "source": [
        "# **Essential Water Quality Analysis & Prediction**\n",
        "\n",
        "Team members:\n",
        "\n",
        "\n",
        "1.   Donifa Babu B M\n",
        "2.   Eshwaran ABR\n",
        "3.   Sadurthika M\n",
        "4.   Vishnuram VR"
      ],
      "metadata": {
        "id": "ny-rD2O-zzbV"
      },
      "id": "ny-rD2O-zzbV"
    },
    {
      "cell_type": "markdown",
      "source": [
        "# Upload dataset"
      ],
      "metadata": {
        "id": "UES931crz-wY"
      },
      "id": "UES931crz-wY"
    },
    {
      "cell_type": "code",
      "execution_count": 363,
      "id": "79c68002",
      "metadata": {
        "execution": {
          "iopub.execute_input": "2021-09-21T16:06:36.147870Z",
          "iopub.status.busy": "2021-09-21T16:06:36.147011Z",
          "iopub.status.idle": "2021-09-21T16:06:37.308193Z",
          "shell.execute_reply": "2021-09-21T16:06:37.309334Z",
          "shell.execute_reply.started": "2021-09-14T13:36:25.869208Z"
        },
        "papermill": {
          "duration": 1.215514,
          "end_time": "2021-09-21T16:06:37.309740",
          "exception": false,
          "start_time": "2021-09-21T16:06:36.094226",
          "status": "completed"
        },
        "tags": [],
        "id": "79c68002"
      },
      "outputs": [],
      "source": [
        "import numpy as np\n",
        "import pandas as pd\n",
        "import seaborn as sns \n",
        "import matplotlib.pyplot as plt\n",
        "from sklearn.impute import SimpleImputer\n",
        "from sklearn.neighbors import LocalOutlierFactor\n",
        "from scipy.stats import probplot\n",
        "from scipy.stats import zscore"
      ]
    },
    {
      "cell_type": "code",
      "execution_count": 364,
      "id": "4739a8f1",
      "metadata": {
        "execution": {
          "iopub.execute_input": "2021-09-21T16:06:37.394926Z",
          "iopub.status.busy": "2021-09-21T16:06:37.394207Z",
          "iopub.status.idle": "2021-09-21T16:06:37.430450Z",
          "shell.execute_reply": "2021-09-21T16:06:37.431088Z",
          "shell.execute_reply.started": "2021-09-14T13:36:27.094224Z"
        },
        "papermill": {
          "duration": 0.079534,
          "end_time": "2021-09-21T16:06:37.431297",
          "exception": false,
          "start_time": "2021-09-21T16:06:37.351763",
          "status": "completed"
        },
        "tags": [],
        "colab": {
          "base_uri": "https://localhost:8080/"
        },
        "id": "4739a8f1",
        "outputId": "bd89f88b-42b1-4350-86a6-34587bf31d5d"
      },
      "outputs": [
        {
          "output_type": "execute_result",
          "data": {
            "text/plain": [
              "(1900, 12)"
            ]
          },
          "metadata": {},
          "execution_count": 364
        }
      ],
      "source": [
        "# Importing the dataset\n",
        "df = pd.read_csv(\"water_dataX.csv\", encoding= 'unicode_escape')\n",
        "# Selecting 1900 samples, because samples having indices greater than 1900 are not correct\n",
        "df = df.iloc[0:1900, :]\n",
        "df.shape"
      ]
    },
    {
      "cell_type": "code",
      "execution_count": 365,
      "id": "1f210219",
      "metadata": {
        "execution": {
          "iopub.execute_input": "2021-09-21T16:06:37.519972Z",
          "iopub.status.busy": "2021-09-21T16:06:37.519290Z",
          "iopub.status.idle": "2021-09-21T16:06:37.522747Z",
          "shell.execute_reply": "2021-09-21T16:06:37.522111Z",
          "shell.execute_reply.started": "2021-09-14T13:36:27.128207Z"
        },
        "papermill": {
          "duration": 0.051288,
          "end_time": "2021-09-21T16:06:37.522891",
          "exception": false,
          "start_time": "2021-09-21T16:06:37.471603",
          "status": "completed"
        },
        "tags": [],
        "colab": {
          "base_uri": "https://localhost:8080/"
        },
        "id": "1f210219",
        "outputId": "9c929ef3-f5ea-4538-b8d1-17f405b0cdca"
      },
      "outputs": [
        {
          "output_type": "execute_result",
          "data": {
            "text/plain": [
              "STATION CODE                        object\n",
              "LOCATIONS                           object\n",
              "STATE                               object\n",
              "Temp                                object\n",
              "D.O. (mg/l)                         object\n",
              "PH                                  object\n",
              "CONDUCTIVITY (µmhos/cm)             object\n",
              "B.O.D. (mg/l)                       object\n",
              "NITRATENAN N+ NITRITENANN (mg/l)    object\n",
              "FECAL COLIFORM (MPN/100ml)          object\n",
              "TOTAL COLIFORM (MPN/100ml)Mean      object\n",
              "year                                 int64\n",
              "dtype: object"
            ]
          },
          "metadata": {},
          "execution_count": 365
        }
      ],
      "source": [
        "# Checking for datatypes of the dataset\n",
        "df.dtypes"
      ]
    },
    {
      "cell_type": "code",
      "execution_count": 366,
      "id": "b8e356a6",
      "metadata": {
        "execution": {
          "iopub.execute_input": "2021-09-21T16:06:37.604435Z",
          "iopub.status.busy": "2021-09-21T16:06:37.603747Z",
          "iopub.status.idle": "2021-09-21T16:06:37.624521Z",
          "shell.execute_reply": "2021-09-21T16:06:37.623665Z",
          "shell.execute_reply.started": "2021-09-14T13:36:27.140836Z"
        },
        "papermill": {
          "duration": 0.062417,
          "end_time": "2021-09-21T16:06:37.624761",
          "exception": false,
          "start_time": "2021-09-21T16:06:37.562344",
          "status": "completed"
        },
        "tags": [],
        "colab": {
          "base_uri": "https://localhost:8080/",
          "height": 424
        },
        "id": "b8e356a6",
        "outputId": "7ebd9640-20a6-47f8-c5f1-399e1ac7e48e"
      },
      "outputs": [
        {
          "output_type": "execute_result",
          "data": {
            "text/plain": [
              "  STATION CODE                                          LOCATIONS  \\\n",
              "0         1393               DAMANGANGA AT D/S OF MADHUBAN, DAMAN   \n",
              "1         1399  ZUARI AT D/S OF PT. WHERE KUMBARJRIA CANAL JOI...   \n",
              "2         1475                                ZUARI AT PANCHAWADI   \n",
              "3         3181                        RIVER ZUARI AT BORIM BRIDGE   \n",
              "4         3182                       RIVER ZUARI AT MARCAIM JETTY   \n",
              "\n",
              "         STATE  Temp D.O. (mg/l)   PH CONDUCTIVITY (µmhos/cm) B.O.D. (mg/l)  \\\n",
              "0  DAMAN & DIU  30.6         6.7  7.5                     203           NAN   \n",
              "1          GOA  29.8         5.7  7.2                     189             2   \n",
              "2          GOA  29.5         6.3  6.9                     179           1.7   \n",
              "3          GOA  29.7         5.8  6.9                      64           3.8   \n",
              "4          GOA  29.5         5.8  7.3                      83           1.9   \n",
              "\n",
              "  NITRATENAN N+ NITRITENANN (mg/l) FECAL COLIFORM (MPN/100ml)  \\\n",
              "0                              0.1                         11   \n",
              "1                              0.2                       4953   \n",
              "2                              0.1                       3243   \n",
              "3                              0.5                       5382   \n",
              "4                              0.4                       3428   \n",
              "\n",
              "  TOTAL COLIFORM (MPN/100ml)Mean  year  \n",
              "0                             27  2014  \n",
              "1                           8391  2014  \n",
              "2                           5330  2014  \n",
              "3                           8443  2014  \n",
              "4                           5500  2014  "
            ],
            "text/html": [
              "\n",
              "  <div id=\"df-25a01803-787e-4043-b9dd-57f7997eaf9b\">\n",
              "    <div class=\"colab-df-container\">\n",
              "      <div>\n",
              "<style scoped>\n",
              "    .dataframe tbody tr th:only-of-type {\n",
              "        vertical-align: middle;\n",
              "    }\n",
              "\n",
              "    .dataframe tbody tr th {\n",
              "        vertical-align: top;\n",
              "    }\n",
              "\n",
              "    .dataframe thead th {\n",
              "        text-align: right;\n",
              "    }\n",
              "</style>\n",
              "<table border=\"1\" class=\"dataframe\">\n",
              "  <thead>\n",
              "    <tr style=\"text-align: right;\">\n",
              "      <th></th>\n",
              "      <th>STATION CODE</th>\n",
              "      <th>LOCATIONS</th>\n",
              "      <th>STATE</th>\n",
              "      <th>Temp</th>\n",
              "      <th>D.O. (mg/l)</th>\n",
              "      <th>PH</th>\n",
              "      <th>CONDUCTIVITY (µmhos/cm)</th>\n",
              "      <th>B.O.D. (mg/l)</th>\n",
              "      <th>NITRATENAN N+ NITRITENANN (mg/l)</th>\n",
              "      <th>FECAL COLIFORM (MPN/100ml)</th>\n",
              "      <th>TOTAL COLIFORM (MPN/100ml)Mean</th>\n",
              "      <th>year</th>\n",
              "    </tr>\n",
              "  </thead>\n",
              "  <tbody>\n",
              "    <tr>\n",
              "      <th>0</th>\n",
              "      <td>1393</td>\n",
              "      <td>DAMANGANGA AT D/S OF MADHUBAN, DAMAN</td>\n",
              "      <td>DAMAN &amp; DIU</td>\n",
              "      <td>30.6</td>\n",
              "      <td>6.7</td>\n",
              "      <td>7.5</td>\n",
              "      <td>203</td>\n",
              "      <td>NAN</td>\n",
              "      <td>0.1</td>\n",
              "      <td>11</td>\n",
              "      <td>27</td>\n",
              "      <td>2014</td>\n",
              "    </tr>\n",
              "    <tr>\n",
              "      <th>1</th>\n",
              "      <td>1399</td>\n",
              "      <td>ZUARI AT D/S OF PT. WHERE KUMBARJRIA CANAL JOI...</td>\n",
              "      <td>GOA</td>\n",
              "      <td>29.8</td>\n",
              "      <td>5.7</td>\n",
              "      <td>7.2</td>\n",
              "      <td>189</td>\n",
              "      <td>2</td>\n",
              "      <td>0.2</td>\n",
              "      <td>4953</td>\n",
              "      <td>8391</td>\n",
              "      <td>2014</td>\n",
              "    </tr>\n",
              "    <tr>\n",
              "      <th>2</th>\n",
              "      <td>1475</td>\n",
              "      <td>ZUARI AT PANCHAWADI</td>\n",
              "      <td>GOA</td>\n",
              "      <td>29.5</td>\n",
              "      <td>6.3</td>\n",
              "      <td>6.9</td>\n",
              "      <td>179</td>\n",
              "      <td>1.7</td>\n",
              "      <td>0.1</td>\n",
              "      <td>3243</td>\n",
              "      <td>5330</td>\n",
              "      <td>2014</td>\n",
              "    </tr>\n",
              "    <tr>\n",
              "      <th>3</th>\n",
              "      <td>3181</td>\n",
              "      <td>RIVER ZUARI AT BORIM BRIDGE</td>\n",
              "      <td>GOA</td>\n",
              "      <td>29.7</td>\n",
              "      <td>5.8</td>\n",
              "      <td>6.9</td>\n",
              "      <td>64</td>\n",
              "      <td>3.8</td>\n",
              "      <td>0.5</td>\n",
              "      <td>5382</td>\n",
              "      <td>8443</td>\n",
              "      <td>2014</td>\n",
              "    </tr>\n",
              "    <tr>\n",
              "      <th>4</th>\n",
              "      <td>3182</td>\n",
              "      <td>RIVER ZUARI AT MARCAIM JETTY</td>\n",
              "      <td>GOA</td>\n",
              "      <td>29.5</td>\n",
              "      <td>5.8</td>\n",
              "      <td>7.3</td>\n",
              "      <td>83</td>\n",
              "      <td>1.9</td>\n",
              "      <td>0.4</td>\n",
              "      <td>3428</td>\n",
              "      <td>5500</td>\n",
              "      <td>2014</td>\n",
              "    </tr>\n",
              "  </tbody>\n",
              "</table>\n",
              "</div>\n",
              "      <button class=\"colab-df-convert\" onclick=\"convertToInteractive('df-25a01803-787e-4043-b9dd-57f7997eaf9b')\"\n",
              "              title=\"Convert this dataframe to an interactive table.\"\n",
              "              style=\"display:none;\">\n",
              "        \n",
              "  <svg xmlns=\"http://www.w3.org/2000/svg\" height=\"24px\"viewBox=\"0 0 24 24\"\n",
              "       width=\"24px\">\n",
              "    <path d=\"M0 0h24v24H0V0z\" fill=\"none\"/>\n",
              "    <path d=\"M18.56 5.44l.94 2.06.94-2.06 2.06-.94-2.06-.94-.94-2.06-.94 2.06-2.06.94zm-11 1L8.5 8.5l.94-2.06 2.06-.94-2.06-.94L8.5 2.5l-.94 2.06-2.06.94zm10 10l.94 2.06.94-2.06 2.06-.94-2.06-.94-.94-2.06-.94 2.06-2.06.94z\"/><path d=\"M17.41 7.96l-1.37-1.37c-.4-.4-.92-.59-1.43-.59-.52 0-1.04.2-1.43.59L10.3 9.45l-7.72 7.72c-.78.78-.78 2.05 0 2.83L4 21.41c.39.39.9.59 1.41.59.51 0 1.02-.2 1.41-.59l7.78-7.78 2.81-2.81c.8-.78.8-2.07 0-2.86zM5.41 20L4 18.59l7.72-7.72 1.47 1.35L5.41 20z\"/>\n",
              "  </svg>\n",
              "      </button>\n",
              "      \n",
              "  <style>\n",
              "    .colab-df-container {\n",
              "      display:flex;\n",
              "      flex-wrap:wrap;\n",
              "      gap: 12px;\n",
              "    }\n",
              "\n",
              "    .colab-df-convert {\n",
              "      background-color: #E8F0FE;\n",
              "      border: none;\n",
              "      border-radius: 50%;\n",
              "      cursor: pointer;\n",
              "      display: none;\n",
              "      fill: #1967D2;\n",
              "      height: 32px;\n",
              "      padding: 0 0 0 0;\n",
              "      width: 32px;\n",
              "    }\n",
              "\n",
              "    .colab-df-convert:hover {\n",
              "      background-color: #E2EBFA;\n",
              "      box-shadow: 0px 1px 2px rgba(60, 64, 67, 0.3), 0px 1px 3px 1px rgba(60, 64, 67, 0.15);\n",
              "      fill: #174EA6;\n",
              "    }\n",
              "\n",
              "    [theme=dark] .colab-df-convert {\n",
              "      background-color: #3B4455;\n",
              "      fill: #D2E3FC;\n",
              "    }\n",
              "\n",
              "    [theme=dark] .colab-df-convert:hover {\n",
              "      background-color: #434B5C;\n",
              "      box-shadow: 0px 1px 3px 1px rgba(0, 0, 0, 0.15);\n",
              "      filter: drop-shadow(0px 1px 2px rgba(0, 0, 0, 0.3));\n",
              "      fill: #FFFFFF;\n",
              "    }\n",
              "  </style>\n",
              "\n",
              "      <script>\n",
              "        const buttonEl =\n",
              "          document.querySelector('#df-25a01803-787e-4043-b9dd-57f7997eaf9b button.colab-df-convert');\n",
              "        buttonEl.style.display =\n",
              "          google.colab.kernel.accessAllowed ? 'block' : 'none';\n",
              "\n",
              "        async function convertToInteractive(key) {\n",
              "          const element = document.querySelector('#df-25a01803-787e-4043-b9dd-57f7997eaf9b');\n",
              "          const dataTable =\n",
              "            await google.colab.kernel.invokeFunction('convertToInteractive',\n",
              "                                                     [key], {});\n",
              "          if (!dataTable) return;\n",
              "\n",
              "          const docLinkHtml = 'Like what you see? Visit the ' +\n",
              "            '<a target=\"_blank\" href=https://colab.research.google.com/notebooks/data_table.ipynb>data table notebook</a>'\n",
              "            + ' to learn more about interactive tables.';\n",
              "          element.innerHTML = '';\n",
              "          dataTable['output_type'] = 'display_data';\n",
              "          await google.colab.output.renderOutput(dataTable, element);\n",
              "          const docLink = document.createElement('div');\n",
              "          docLink.innerHTML = docLinkHtml;\n",
              "          element.appendChild(docLink);\n",
              "        }\n",
              "      </script>\n",
              "    </div>\n",
              "  </div>\n",
              "  "
            ]
          },
          "metadata": {},
          "execution_count": 366
        }
      ],
      "source": [
        "df.head()"
      ]
    },
    {
      "cell_type": "code",
      "source": [
        "df.info()"
      ],
      "metadata": {
        "colab": {
          "base_uri": "https://localhost:8080/"
        },
        "id": "UbqiTIhOPDsK",
        "outputId": "acfd37be-223f-4488-eee2-c0fcd2bfe15e"
      },
      "id": "UbqiTIhOPDsK",
      "execution_count": 367,
      "outputs": [
        {
          "output_type": "stream",
          "name": "stdout",
          "text": [
            "<class 'pandas.core.frame.DataFrame'>\n",
            "RangeIndex: 1900 entries, 0 to 1899\n",
            "Data columns (total 12 columns):\n",
            " #   Column                            Non-Null Count  Dtype \n",
            "---  ------                            --------------  ----- \n",
            " 0   STATION CODE                      1900 non-null   object\n",
            " 1   LOCATIONS                         1900 non-null   object\n",
            " 2   STATE                             1900 non-null   object\n",
            " 3   Temp                              1900 non-null   object\n",
            " 4   D.O. (mg/l)                       1900 non-null   object\n",
            " 5   PH                                1900 non-null   object\n",
            " 6   CONDUCTIVITY (µmhos/cm)           1900 non-null   object\n",
            " 7   B.O.D. (mg/l)                     1900 non-null   object\n",
            " 8   NITRATENAN N+ NITRITENANN (mg/l)  1900 non-null   object\n",
            " 9   FECAL COLIFORM (MPN/100ml)        1900 non-null   object\n",
            " 10  TOTAL COLIFORM (MPN/100ml)Mean    1900 non-null   object\n",
            " 11  year                              1900 non-null   int64 \n",
            "dtypes: int64(1), object(11)\n",
            "memory usage: 178.2+ KB\n"
          ]
        }
      ]
    },
    {
      "cell_type": "code",
      "source": [
        "df.shape"
      ],
      "metadata": {
        "colab": {
          "base_uri": "https://localhost:8080/"
        },
        "id": "GiCPVvvlPG9U",
        "outputId": "64240c48-6419-4a4f-a83c-72edeac66f99"
      },
      "id": "GiCPVvvlPG9U",
      "execution_count": 368,
      "outputs": [
        {
          "output_type": "execute_result",
          "data": {
            "text/plain": [
              "(1900, 12)"
            ]
          },
          "metadata": {},
          "execution_count": 368
        }
      ]
    },
    {
      "cell_type": "code",
      "source": [
        "df.describe()"
      ],
      "metadata": {
        "colab": {
          "base_uri": "https://localhost:8080/",
          "height": 300
        },
        "id": "C6npK9YKPIkt",
        "outputId": "a4fd485f-f905-4f95-a59f-495b2ccb8a43"
      },
      "id": "C6npK9YKPIkt",
      "execution_count": 369,
      "outputs": [
        {
          "output_type": "execute_result",
          "data": {
            "text/plain": [
              "              year\n",
              "count  1900.000000\n",
              "mean   2010.373158\n",
              "std       2.708444\n",
              "min    2005.000000\n",
              "25%    2008.000000\n",
              "50%    2011.000000\n",
              "75%    2013.000000\n",
              "max    2014.000000"
            ],
            "text/html": [
              "\n",
              "  <div id=\"df-679caa8f-aeec-4d02-a53b-34a98ed3eaa1\">\n",
              "    <div class=\"colab-df-container\">\n",
              "      <div>\n",
              "<style scoped>\n",
              "    .dataframe tbody tr th:only-of-type {\n",
              "        vertical-align: middle;\n",
              "    }\n",
              "\n",
              "    .dataframe tbody tr th {\n",
              "        vertical-align: top;\n",
              "    }\n",
              "\n",
              "    .dataframe thead th {\n",
              "        text-align: right;\n",
              "    }\n",
              "</style>\n",
              "<table border=\"1\" class=\"dataframe\">\n",
              "  <thead>\n",
              "    <tr style=\"text-align: right;\">\n",
              "      <th></th>\n",
              "      <th>year</th>\n",
              "    </tr>\n",
              "  </thead>\n",
              "  <tbody>\n",
              "    <tr>\n",
              "      <th>count</th>\n",
              "      <td>1900.000000</td>\n",
              "    </tr>\n",
              "    <tr>\n",
              "      <th>mean</th>\n",
              "      <td>2010.373158</td>\n",
              "    </tr>\n",
              "    <tr>\n",
              "      <th>std</th>\n",
              "      <td>2.708444</td>\n",
              "    </tr>\n",
              "    <tr>\n",
              "      <th>min</th>\n",
              "      <td>2005.000000</td>\n",
              "    </tr>\n",
              "    <tr>\n",
              "      <th>25%</th>\n",
              "      <td>2008.000000</td>\n",
              "    </tr>\n",
              "    <tr>\n",
              "      <th>50%</th>\n",
              "      <td>2011.000000</td>\n",
              "    </tr>\n",
              "    <tr>\n",
              "      <th>75%</th>\n",
              "      <td>2013.000000</td>\n",
              "    </tr>\n",
              "    <tr>\n",
              "      <th>max</th>\n",
              "      <td>2014.000000</td>\n",
              "    </tr>\n",
              "  </tbody>\n",
              "</table>\n",
              "</div>\n",
              "      <button class=\"colab-df-convert\" onclick=\"convertToInteractive('df-679caa8f-aeec-4d02-a53b-34a98ed3eaa1')\"\n",
              "              title=\"Convert this dataframe to an interactive table.\"\n",
              "              style=\"display:none;\">\n",
              "        \n",
              "  <svg xmlns=\"http://www.w3.org/2000/svg\" height=\"24px\"viewBox=\"0 0 24 24\"\n",
              "       width=\"24px\">\n",
              "    <path d=\"M0 0h24v24H0V0z\" fill=\"none\"/>\n",
              "    <path d=\"M18.56 5.44l.94 2.06.94-2.06 2.06-.94-2.06-.94-.94-2.06-.94 2.06-2.06.94zm-11 1L8.5 8.5l.94-2.06 2.06-.94-2.06-.94L8.5 2.5l-.94 2.06-2.06.94zm10 10l.94 2.06.94-2.06 2.06-.94-2.06-.94-.94-2.06-.94 2.06-2.06.94z\"/><path d=\"M17.41 7.96l-1.37-1.37c-.4-.4-.92-.59-1.43-.59-.52 0-1.04.2-1.43.59L10.3 9.45l-7.72 7.72c-.78.78-.78 2.05 0 2.83L4 21.41c.39.39.9.59 1.41.59.51 0 1.02-.2 1.41-.59l7.78-7.78 2.81-2.81c.8-.78.8-2.07 0-2.86zM5.41 20L4 18.59l7.72-7.72 1.47 1.35L5.41 20z\"/>\n",
              "  </svg>\n",
              "      </button>\n",
              "      \n",
              "  <style>\n",
              "    .colab-df-container {\n",
              "      display:flex;\n",
              "      flex-wrap:wrap;\n",
              "      gap: 12px;\n",
              "    }\n",
              "\n",
              "    .colab-df-convert {\n",
              "      background-color: #E8F0FE;\n",
              "      border: none;\n",
              "      border-radius: 50%;\n",
              "      cursor: pointer;\n",
              "      display: none;\n",
              "      fill: #1967D2;\n",
              "      height: 32px;\n",
              "      padding: 0 0 0 0;\n",
              "      width: 32px;\n",
              "    }\n",
              "\n",
              "    .colab-df-convert:hover {\n",
              "      background-color: #E2EBFA;\n",
              "      box-shadow: 0px 1px 2px rgba(60, 64, 67, 0.3), 0px 1px 3px 1px rgba(60, 64, 67, 0.15);\n",
              "      fill: #174EA6;\n",
              "    }\n",
              "\n",
              "    [theme=dark] .colab-df-convert {\n",
              "      background-color: #3B4455;\n",
              "      fill: #D2E3FC;\n",
              "    }\n",
              "\n",
              "    [theme=dark] .colab-df-convert:hover {\n",
              "      background-color: #434B5C;\n",
              "      box-shadow: 0px 1px 3px 1px rgba(0, 0, 0, 0.15);\n",
              "      filter: drop-shadow(0px 1px 2px rgba(0, 0, 0, 0.3));\n",
              "      fill: #FFFFFF;\n",
              "    }\n",
              "  </style>\n",
              "\n",
              "      <script>\n",
              "        const buttonEl =\n",
              "          document.querySelector('#df-679caa8f-aeec-4d02-a53b-34a98ed3eaa1 button.colab-df-convert');\n",
              "        buttonEl.style.display =\n",
              "          google.colab.kernel.accessAllowed ? 'block' : 'none';\n",
              "\n",
              "        async function convertToInteractive(key) {\n",
              "          const element = document.querySelector('#df-679caa8f-aeec-4d02-a53b-34a98ed3eaa1');\n",
              "          const dataTable =\n",
              "            await google.colab.kernel.invokeFunction('convertToInteractive',\n",
              "                                                     [key], {});\n",
              "          if (!dataTable) return;\n",
              "\n",
              "          const docLinkHtml = 'Like what you see? Visit the ' +\n",
              "            '<a target=\"_blank\" href=https://colab.research.google.com/notebooks/data_table.ipynb>data table notebook</a>'\n",
              "            + ' to learn more about interactive tables.';\n",
              "          element.innerHTML = '';\n",
              "          dataTable['output_type'] = 'display_data';\n",
              "          await google.colab.output.renderOutput(dataTable, element);\n",
              "          const docLink = document.createElement('div');\n",
              "          docLink.innerHTML = docLinkHtml;\n",
              "          element.appendChild(docLink);\n",
              "        }\n",
              "      </script>\n",
              "    </div>\n",
              "  </div>\n",
              "  "
            ]
          },
          "metadata": {},
          "execution_count": 369
        }
      ]
    },
    {
      "cell_type": "markdown",
      "source": [
        "# Handling missing values"
      ],
      "metadata": {
        "id": "TBg2L7V005hl"
      },
      "id": "TBg2L7V005hl"
    },
    {
      "cell_type": "code",
      "execution_count": 370,
      "id": "39f59e75",
      "metadata": {
        "execution": {
          "iopub.execute_input": "2021-09-21T16:06:37.878877Z",
          "iopub.status.busy": "2021-09-21T16:06:37.873496Z",
          "iopub.status.idle": "2021-09-21T16:06:37.902306Z",
          "shell.execute_reply": "2021-09-21T16:06:37.902901Z",
          "shell.execute_reply.started": "2021-09-14T13:36:27.183143Z"
        },
        "papermill": {
          "duration": 0.071264,
          "end_time": "2021-09-21T16:06:37.903078",
          "exception": false,
          "start_time": "2021-09-21T16:06:37.831814",
          "status": "completed"
        },
        "tags": [],
        "colab": {
          "base_uri": "https://localhost:8080/"
        },
        "id": "39f59e75",
        "outputId": "69a106b2-61a3-409a-a5e9-4010a8549dad"
      },
      "outputs": [
        {
          "output_type": "execute_result",
          "data": {
            "text/plain": [
              "STATION CODE                         object\n",
              "LOCATIONS                            object\n",
              "STATE                                object\n",
              "Temp                                float64\n",
              "D.O. (mg/l)                         float64\n",
              "PH                                  float64\n",
              "CONDUCTIVITY (µmhos/cm)             float64\n",
              "B.O.D. (mg/l)                       float64\n",
              "NITRATENAN N+ NITRITENANN (mg/l)    float64\n",
              "FECAL COLIFORM (MPN/100ml)          float64\n",
              "TOTAL COLIFORM (MPN/100ml)Mean      float64\n",
              "year                                  int64\n",
              "dtype: object"
            ]
          },
          "metadata": {},
          "execution_count": 370
        }
      ],
      "source": [
        "# Converting object data type to numeric\n",
        "def convert_to_numeric(df):\n",
        "    num_col = df.shape[1]\n",
        "    # Start from index 3\n",
        "    for index in range(3, num_col):\n",
        "        col_name = df.iloc[:, index].name\n",
        "        df[col_name] = pd.to_numeric(df[col_name], errors=\"coerce\")\n",
        "    return df\n",
        "\n",
        "df = convert_to_numeric(df)\n",
        "df.dtypes"
      ]
    },
    {
      "cell_type": "code",
      "source": [
        "df.isnull().sum()"
      ],
      "metadata": {
        "colab": {
          "base_uri": "https://localhost:8080/"
        },
        "id": "pBa2JUDnXdTy",
        "outputId": "65be47a3-88c1-4a21-e92c-ea297eb1a278"
      },
      "id": "pBa2JUDnXdTy",
      "execution_count": 371,
      "outputs": [
        {
          "output_type": "execute_result",
          "data": {
            "text/plain": [
              "STATION CODE                          0\n",
              "LOCATIONS                             0\n",
              "STATE                                 0\n",
              "Temp                                 89\n",
              "D.O. (mg/l)                          30\n",
              "PH                                    7\n",
              "CONDUCTIVITY (µmhos/cm)              24\n",
              "B.O.D. (mg/l)                        42\n",
              "NITRATENAN N+ NITRITENANN (mg/l)    189\n",
              "FECAL COLIFORM (MPN/100ml)          280\n",
              "TOTAL COLIFORM (MPN/100ml)Mean      130\n",
              "year                                  0\n",
              "dtype: int64"
            ]
          },
          "metadata": {},
          "execution_count": 371
        }
      ]
    },
    {
      "cell_type": "code",
      "source": [
        "#Let us rename the columns for simplification\n",
        "df = df.rename(columns={\"D.O. (mg/l)\": \"DO\", \"CONDUCTIVITY (µmhos/cm)\": \"CO\", \"B.O.D. (mg/l)\": \"BOD\", \"NITRATENAN N+ NITRITENANN (mg/l)\": \"NI\", \"FECAL COLIFORM (MPN/100ml)\": \"Fec_col\", \"TOTAL COLIFORM (MPN/100ml)Mean\": \"Tot_col\"})\n"
      ],
      "metadata": {
        "id": "t5cM9GC9W1ex"
      },
      "id": "t5cM9GC9W1ex",
      "execution_count": 372,
      "outputs": []
    },
    {
      "cell_type": "code",
      "source": [
        "df[ 'Temp' ].fillna(df[ 'Temp' ].mean(), inplace=True)\n",
        "df['DO'].fillna(df['DO'].mean(), inplace=True)\n",
        "df['PH'].fillna(df['PH'].mean(), inplace=True)\n",
        "df['CO'].fillna(df['CO'].mean(), inplace=True)\n",
        "df['BOD'].fillna(df['BOD'].mean(), inplace=True)\n",
        "df['NI'].fillna(df[ 'NI'].mean(), inplace=True)\n",
        "df['Tot_col'].fillna(df[ 'Tot_col'].mean(), inplace=True)"
      ],
      "metadata": {
        "id": "q7ZhzUv6bav6"
      },
      "id": "q7ZhzUv6bav6",
      "execution_count": 373,
      "outputs": []
    },
    {
      "cell_type": "code",
      "source": [
        "df.drop(columns=['Fec_col'])"
      ],
      "metadata": {
        "colab": {
          "base_uri": "https://localhost:8080/",
          "height": 554
        },
        "id": "xW_Z981xW312",
        "outputId": "26d593c3-e0f3-44a4-9ed6-b0532cd685a4"
      },
      "id": "xW_Z981xW312",
      "execution_count": 374,
      "outputs": [
        {
          "output_type": "execute_result",
          "data": {
            "text/plain": [
              "     STATION CODE                                          LOCATIONS  \\\n",
              "0            1393               DAMANGANGA AT D/S OF MADHUBAN, DAMAN   \n",
              "1            1399  ZUARI AT D/S OF PT. WHERE KUMBARJRIA CANAL JOI...   \n",
              "2            1475                                ZUARI AT PANCHAWADI   \n",
              "3            3181                        RIVER ZUARI AT BORIM BRIDGE   \n",
              "4            3182                       RIVER ZUARI AT MARCAIM JETTY   \n",
              "...           ...                                                ...   \n",
              "1895          NAN  TAMBIRAPARANI AT RAIL BDG. NR. AMBASAMUDAM, TA...   \n",
              "1896          NAN            TAMBIRAPARANI AT ARUMUGANERI, TAMILNADU   \n",
              "1897          NAN  PALAR AT VANIYAMBADI WATER SUPPLY HEAD WORK, T...   \n",
              "1898          NAN                 GUMTI AT U/S SOUTH TRIPURA,TRIPURA   \n",
              "1899          NAN                GUMTI AT D/S SOUTH TRIPURA, TRIPURA   \n",
              "\n",
              "            STATE       Temp   DO    PH     CO       BOD        NI  Tot_col  \\\n",
              "0     DAMAN & DIU  30.600000  6.7  7.50  203.0  6.857892  0.100000     27.0   \n",
              "1             GOA  29.800000  5.7  7.20  189.0  2.000000  0.200000   8391.0   \n",
              "2             GOA  29.500000  6.3  6.90  179.0  1.700000  0.100000   5330.0   \n",
              "3             GOA  29.700000  5.8  6.90   64.0  3.800000  0.500000   8443.0   \n",
              "4             GOA  29.500000  5.8  7.30   83.0  1.900000  0.400000   5500.0   \n",
              "...           ...        ...  ...   ...    ...       ...       ...      ...   \n",
              "1895          NAN  27.000000  7.4  7.00   88.5  0.977000  0.186000    105.0   \n",
              "1896          NAN  26.193505  6.6  7.81  603.2  2.675000  0.263000    191.0   \n",
              "1897          NAN  28.000000  6.6  7.49  571.5  2.091000  0.256000    273.0   \n",
              "1898          NAN  28.000000  5.4  7.16   75.8  2.092000  1.658681    513.0   \n",
              "1899          NAN  30.000000  5.4  7.37  104.8  1.802000  0.215000    557.0   \n",
              "\n",
              "      year  \n",
              "0     2014  \n",
              "1     2014  \n",
              "2     2014  \n",
              "3     2014  \n",
              "4     2014  \n",
              "...    ...  \n",
              "1895  2005  \n",
              "1896  2005  \n",
              "1897  2005  \n",
              "1898  2005  \n",
              "1899  2005  \n",
              "\n",
              "[1900 rows x 11 columns]"
            ],
            "text/html": [
              "\n",
              "  <div id=\"df-c37d14f9-60f0-467b-9a5b-7f73e0626758\">\n",
              "    <div class=\"colab-df-container\">\n",
              "      <div>\n",
              "<style scoped>\n",
              "    .dataframe tbody tr th:only-of-type {\n",
              "        vertical-align: middle;\n",
              "    }\n",
              "\n",
              "    .dataframe tbody tr th {\n",
              "        vertical-align: top;\n",
              "    }\n",
              "\n",
              "    .dataframe thead th {\n",
              "        text-align: right;\n",
              "    }\n",
              "</style>\n",
              "<table border=\"1\" class=\"dataframe\">\n",
              "  <thead>\n",
              "    <tr style=\"text-align: right;\">\n",
              "      <th></th>\n",
              "      <th>STATION CODE</th>\n",
              "      <th>LOCATIONS</th>\n",
              "      <th>STATE</th>\n",
              "      <th>Temp</th>\n",
              "      <th>DO</th>\n",
              "      <th>PH</th>\n",
              "      <th>CO</th>\n",
              "      <th>BOD</th>\n",
              "      <th>NI</th>\n",
              "      <th>Tot_col</th>\n",
              "      <th>year</th>\n",
              "    </tr>\n",
              "  </thead>\n",
              "  <tbody>\n",
              "    <tr>\n",
              "      <th>0</th>\n",
              "      <td>1393</td>\n",
              "      <td>DAMANGANGA AT D/S OF MADHUBAN, DAMAN</td>\n",
              "      <td>DAMAN &amp; DIU</td>\n",
              "      <td>30.600000</td>\n",
              "      <td>6.7</td>\n",
              "      <td>7.50</td>\n",
              "      <td>203.0</td>\n",
              "      <td>6.857892</td>\n",
              "      <td>0.100000</td>\n",
              "      <td>27.0</td>\n",
              "      <td>2014</td>\n",
              "    </tr>\n",
              "    <tr>\n",
              "      <th>1</th>\n",
              "      <td>1399</td>\n",
              "      <td>ZUARI AT D/S OF PT. WHERE KUMBARJRIA CANAL JOI...</td>\n",
              "      <td>GOA</td>\n",
              "      <td>29.800000</td>\n",
              "      <td>5.7</td>\n",
              "      <td>7.20</td>\n",
              "      <td>189.0</td>\n",
              "      <td>2.000000</td>\n",
              "      <td>0.200000</td>\n",
              "      <td>8391.0</td>\n",
              "      <td>2014</td>\n",
              "    </tr>\n",
              "    <tr>\n",
              "      <th>2</th>\n",
              "      <td>1475</td>\n",
              "      <td>ZUARI AT PANCHAWADI</td>\n",
              "      <td>GOA</td>\n",
              "      <td>29.500000</td>\n",
              "      <td>6.3</td>\n",
              "      <td>6.90</td>\n",
              "      <td>179.0</td>\n",
              "      <td>1.700000</td>\n",
              "      <td>0.100000</td>\n",
              "      <td>5330.0</td>\n",
              "      <td>2014</td>\n",
              "    </tr>\n",
              "    <tr>\n",
              "      <th>3</th>\n",
              "      <td>3181</td>\n",
              "      <td>RIVER ZUARI AT BORIM BRIDGE</td>\n",
              "      <td>GOA</td>\n",
              "      <td>29.700000</td>\n",
              "      <td>5.8</td>\n",
              "      <td>6.90</td>\n",
              "      <td>64.0</td>\n",
              "      <td>3.800000</td>\n",
              "      <td>0.500000</td>\n",
              "      <td>8443.0</td>\n",
              "      <td>2014</td>\n",
              "    </tr>\n",
              "    <tr>\n",
              "      <th>4</th>\n",
              "      <td>3182</td>\n",
              "      <td>RIVER ZUARI AT MARCAIM JETTY</td>\n",
              "      <td>GOA</td>\n",
              "      <td>29.500000</td>\n",
              "      <td>5.8</td>\n",
              "      <td>7.30</td>\n",
              "      <td>83.0</td>\n",
              "      <td>1.900000</td>\n",
              "      <td>0.400000</td>\n",
              "      <td>5500.0</td>\n",
              "      <td>2014</td>\n",
              "    </tr>\n",
              "    <tr>\n",
              "      <th>...</th>\n",
              "      <td>...</td>\n",
              "      <td>...</td>\n",
              "      <td>...</td>\n",
              "      <td>...</td>\n",
              "      <td>...</td>\n",
              "      <td>...</td>\n",
              "      <td>...</td>\n",
              "      <td>...</td>\n",
              "      <td>...</td>\n",
              "      <td>...</td>\n",
              "      <td>...</td>\n",
              "    </tr>\n",
              "    <tr>\n",
              "      <th>1895</th>\n",
              "      <td>NAN</td>\n",
              "      <td>TAMBIRAPARANI AT RAIL BDG. NR. AMBASAMUDAM, TA...</td>\n",
              "      <td>NAN</td>\n",
              "      <td>27.000000</td>\n",
              "      <td>7.4</td>\n",
              "      <td>7.00</td>\n",
              "      <td>88.5</td>\n",
              "      <td>0.977000</td>\n",
              "      <td>0.186000</td>\n",
              "      <td>105.0</td>\n",
              "      <td>2005</td>\n",
              "    </tr>\n",
              "    <tr>\n",
              "      <th>1896</th>\n",
              "      <td>NAN</td>\n",
              "      <td>TAMBIRAPARANI AT ARUMUGANERI, TAMILNADU</td>\n",
              "      <td>NAN</td>\n",
              "      <td>26.193505</td>\n",
              "      <td>6.6</td>\n",
              "      <td>7.81</td>\n",
              "      <td>603.2</td>\n",
              "      <td>2.675000</td>\n",
              "      <td>0.263000</td>\n",
              "      <td>191.0</td>\n",
              "      <td>2005</td>\n",
              "    </tr>\n",
              "    <tr>\n",
              "      <th>1897</th>\n",
              "      <td>NAN</td>\n",
              "      <td>PALAR AT VANIYAMBADI WATER SUPPLY HEAD WORK, T...</td>\n",
              "      <td>NAN</td>\n",
              "      <td>28.000000</td>\n",
              "      <td>6.6</td>\n",
              "      <td>7.49</td>\n",
              "      <td>571.5</td>\n",
              "      <td>2.091000</td>\n",
              "      <td>0.256000</td>\n",
              "      <td>273.0</td>\n",
              "      <td>2005</td>\n",
              "    </tr>\n",
              "    <tr>\n",
              "      <th>1898</th>\n",
              "      <td>NAN</td>\n",
              "      <td>GUMTI AT U/S SOUTH TRIPURA,TRIPURA</td>\n",
              "      <td>NAN</td>\n",
              "      <td>28.000000</td>\n",
              "      <td>5.4</td>\n",
              "      <td>7.16</td>\n",
              "      <td>75.8</td>\n",
              "      <td>2.092000</td>\n",
              "      <td>1.658681</td>\n",
              "      <td>513.0</td>\n",
              "      <td>2005</td>\n",
              "    </tr>\n",
              "    <tr>\n",
              "      <th>1899</th>\n",
              "      <td>NAN</td>\n",
              "      <td>GUMTI AT D/S SOUTH TRIPURA, TRIPURA</td>\n",
              "      <td>NAN</td>\n",
              "      <td>30.000000</td>\n",
              "      <td>5.4</td>\n",
              "      <td>7.37</td>\n",
              "      <td>104.8</td>\n",
              "      <td>1.802000</td>\n",
              "      <td>0.215000</td>\n",
              "      <td>557.0</td>\n",
              "      <td>2005</td>\n",
              "    </tr>\n",
              "  </tbody>\n",
              "</table>\n",
              "<p>1900 rows × 11 columns</p>\n",
              "</div>\n",
              "      <button class=\"colab-df-convert\" onclick=\"convertToInteractive('df-c37d14f9-60f0-467b-9a5b-7f73e0626758')\"\n",
              "              title=\"Convert this dataframe to an interactive table.\"\n",
              "              style=\"display:none;\">\n",
              "        \n",
              "  <svg xmlns=\"http://www.w3.org/2000/svg\" height=\"24px\"viewBox=\"0 0 24 24\"\n",
              "       width=\"24px\">\n",
              "    <path d=\"M0 0h24v24H0V0z\" fill=\"none\"/>\n",
              "    <path d=\"M18.56 5.44l.94 2.06.94-2.06 2.06-.94-2.06-.94-.94-2.06-.94 2.06-2.06.94zm-11 1L8.5 8.5l.94-2.06 2.06-.94-2.06-.94L8.5 2.5l-.94 2.06-2.06.94zm10 10l.94 2.06.94-2.06 2.06-.94-2.06-.94-.94-2.06-.94 2.06-2.06.94z\"/><path d=\"M17.41 7.96l-1.37-1.37c-.4-.4-.92-.59-1.43-.59-.52 0-1.04.2-1.43.59L10.3 9.45l-7.72 7.72c-.78.78-.78 2.05 0 2.83L4 21.41c.39.39.9.59 1.41.59.51 0 1.02-.2 1.41-.59l7.78-7.78 2.81-2.81c.8-.78.8-2.07 0-2.86zM5.41 20L4 18.59l7.72-7.72 1.47 1.35L5.41 20z\"/>\n",
              "  </svg>\n",
              "      </button>\n",
              "      \n",
              "  <style>\n",
              "    .colab-df-container {\n",
              "      display:flex;\n",
              "      flex-wrap:wrap;\n",
              "      gap: 12px;\n",
              "    }\n",
              "\n",
              "    .colab-df-convert {\n",
              "      background-color: #E8F0FE;\n",
              "      border: none;\n",
              "      border-radius: 50%;\n",
              "      cursor: pointer;\n",
              "      display: none;\n",
              "      fill: #1967D2;\n",
              "      height: 32px;\n",
              "      padding: 0 0 0 0;\n",
              "      width: 32px;\n",
              "    }\n",
              "\n",
              "    .colab-df-convert:hover {\n",
              "      background-color: #E2EBFA;\n",
              "      box-shadow: 0px 1px 2px rgba(60, 64, 67, 0.3), 0px 1px 3px 1px rgba(60, 64, 67, 0.15);\n",
              "      fill: #174EA6;\n",
              "    }\n",
              "\n",
              "    [theme=dark] .colab-df-convert {\n",
              "      background-color: #3B4455;\n",
              "      fill: #D2E3FC;\n",
              "    }\n",
              "\n",
              "    [theme=dark] .colab-df-convert:hover {\n",
              "      background-color: #434B5C;\n",
              "      box-shadow: 0px 1px 3px 1px rgba(0, 0, 0, 0.15);\n",
              "      filter: drop-shadow(0px 1px 2px rgba(0, 0, 0, 0.3));\n",
              "      fill: #FFFFFF;\n",
              "    }\n",
              "  </style>\n",
              "\n",
              "      <script>\n",
              "        const buttonEl =\n",
              "          document.querySelector('#df-c37d14f9-60f0-467b-9a5b-7f73e0626758 button.colab-df-convert');\n",
              "        buttonEl.style.display =\n",
              "          google.colab.kernel.accessAllowed ? 'block' : 'none';\n",
              "\n",
              "        async function convertToInteractive(key) {\n",
              "          const element = document.querySelector('#df-c37d14f9-60f0-467b-9a5b-7f73e0626758');\n",
              "          const dataTable =\n",
              "            await google.colab.kernel.invokeFunction('convertToInteractive',\n",
              "                                                     [key], {});\n",
              "          if (!dataTable) return;\n",
              "\n",
              "          const docLinkHtml = 'Like what you see? Visit the ' +\n",
              "            '<a target=\"_blank\" href=https://colab.research.google.com/notebooks/data_table.ipynb>data table notebook</a>'\n",
              "            + ' to learn more about interactive tables.';\n",
              "          element.innerHTML = '';\n",
              "          dataTable['output_type'] = 'display_data';\n",
              "          await google.colab.output.renderOutput(dataTable, element);\n",
              "          const docLink = document.createElement('div');\n",
              "          docLink.innerHTML = docLinkHtml;\n",
              "          element.appendChild(docLink);\n",
              "        }\n",
              "      </script>\n",
              "    </div>\n",
              "  </div>\n",
              "  "
            ]
          },
          "metadata": {},
          "execution_count": 374
        }
      ]
    },
    {
      "cell_type": "code",
      "source": [
        "df.columns"
      ],
      "metadata": {
        "colab": {
          "base_uri": "https://localhost:8080/"
        },
        "id": "yPaCoYXoaFoE",
        "outputId": "04e1a65a-146d-481e-d072-27af57dcbf7d"
      },
      "id": "yPaCoYXoaFoE",
      "execution_count": 375,
      "outputs": [
        {
          "output_type": "execute_result",
          "data": {
            "text/plain": [
              "Index(['STATION CODE', 'LOCATIONS', 'STATE', 'Temp', 'DO', 'PH', 'CO', 'BOD',\n",
              "       'NI', 'Fec_col', 'Tot_col', 'year'],\n",
              "      dtype='object')"
            ]
          },
          "metadata": {},
          "execution_count": 375
        }
      ]
    },
    {
      "cell_type": "markdown",
      "source": [
        "# Water Quality Index Calculation"
      ],
      "metadata": {
        "id": "PP_zelVx3j_L"
      },
      "id": "PP_zelVx3j_L"
    },
    {
      "cell_type": "code",
      "source": [
        "#calulation of Ph\n",
        "\n",
        "df[ 'npH' ]=df.PH. apply(lambda x: (100 if (8.5>=x>=7)\n",
        "                                else(80 if (8.6>= x >=8.5) or (6.9>=x>=6.8)\n",
        "                                    else(60 if (8.8>=x>=8.6) or (6.8>=x>=6.7)\n",
        "                                        else(40 if (9>=x>=8.8) or (6.7>=x>=6.5)\n",
        "                                            else 0)))))"
      ],
      "metadata": {
        "id": "C3syaZqsHbKB"
      },
      "id": "C3syaZqsHbKB",
      "execution_count": 376,
      "outputs": []
    },
    {
      "cell_type": "code",
      "source": [
        "#calculation of dissolved oxygen\n",
        "df[ 'ndo' ]=df. DO. apply(lambda x: (100 if (x>=6)\n",
        "\n",
        "else(80 if (6>=x>=5.1)\n",
        "else(60 if (5>=x>=4.1)\n",
        "else(40 if (4>=x>=3)\n",
        "else 0) )) ) )"
      ],
      "metadata": {
        "id": "xIn9yTzAHhRv"
      },
      "id": "xIn9yTzAHhRv",
      "execution_count": 377,
      "outputs": []
    },
    {
      "cell_type": "code",
      "source": [
        "#calculation of total coliform\n",
        "df[ 'nco' ]=df.Tot_col . apply(lambda x: (100 if (5>=x>=0)\n",
        "else(80 if (50>=x>=5)\n",
        "\n",
        "else(60 if (500>=x>=50)\n",
        "else(40 if (10000>=x>=500)\n",
        "else 0) ))) )\n",
        "\n"
      ],
      "metadata": {
        "id": "agrT3sZXHsRu"
      },
      "id": "agrT3sZXHsRu",
      "execution_count": 378,
      "outputs": []
    },
    {
      "cell_type": "code",
      "source": [
        "#calc of B.D.O\n",
        "\n",
        "df[ 'nbdo' ]=df.BOD. apply(lambda x: (100 if (3>=x>=0)\n",
        "else(80 if (6>=x>=3)\n",
        "\n",
        "else(60 if (80>=x>=6)\n",
        "else(40 if (125>=x>=80)\n",
        "else 0)))) )"
      ],
      "metadata": {
        "id": "iMytA94XHt2H"
      },
      "id": "iMytA94XHt2H",
      "execution_count": 379,
      "outputs": []
    },
    {
      "cell_type": "code",
      "source": [
        "#calculation of electrical conductivity\n",
        "df[ 'nec' ]=df.CO. apply (lambda x: (100 if (75>=x>=0)\n",
        "else(80 if (150>=x>=75)\n",
        "\n",
        "else(60 if (225>=x>=150)\n",
        "else(40 if (300>=x>=225)\n",
        "else 0))) ) )\n"
      ],
      "metadata": {
        "id": "KHUexHosH0GH"
      },
      "id": "KHUexHosH0GH",
      "execution_count": 380,
      "outputs": []
    },
    {
      "cell_type": "code",
      "source": [
        "#Calulation of nitrate\n",
        "df[ 'nna' ]=df. NI. apply( lambda x: (100 if (20>=x>=0)\n",
        "else(80 if (50>=x>=20)\n",
        "\n",
        "else(60 if (100>=x>=50)\n",
        "else(40 if (200>=x>=100)\n",
        "else 0) ) ) ) )"
      ],
      "metadata": {
        "id": "8jpmMp1KH1ks"
      },
      "id": "8jpmMp1KH1ks",
      "execution_count": 381,
      "outputs": []
    },
    {
      "cell_type": "code",
      "execution_count": 382,
      "id": "68024503",
      "metadata": {
        "execution": {
          "iopub.execute_input": "2021-09-21T16:06:46.469170Z",
          "iopub.status.busy": "2021-09-21T16:06:46.468206Z",
          "iopub.status.idle": "2021-09-21T16:06:46.471062Z",
          "shell.execute_reply": "2021-09-21T16:06:46.470488Z",
          "shell.execute_reply.started": "2021-09-14T13:36:32.352844Z"
        },
        "papermill": {
          "duration": 0.078316,
          "end_time": "2021-09-21T16:06:46.471214",
          "exception": false,
          "start_time": "2021-09-21T16:06:46.392898",
          "status": "completed"
        },
        "tags": [],
        "id": "68024503",
        "colab": {
          "base_uri": "https://localhost:8080/",
          "height": 886
        },
        "outputId": "93d89a94-1bfe-4534-894d-6633b9db6d6c"
      },
      "outputs": [
        {
          "output_type": "execute_result",
          "data": {
            "text/plain": [
              "     STATION CODE                                          LOCATIONS  \\\n",
              "0            1393               DAMANGANGA AT D/S OF MADHUBAN, DAMAN   \n",
              "1            1399  ZUARI AT D/S OF PT. WHERE KUMBARJRIA CANAL JOI...   \n",
              "2            1475                                ZUARI AT PANCHAWADI   \n",
              "3            3181                        RIVER ZUARI AT BORIM BRIDGE   \n",
              "4            3182                       RIVER ZUARI AT MARCAIM JETTY   \n",
              "...           ...                                                ...   \n",
              "1895          NAN  TAMBIRAPARANI AT RAIL BDG. NR. AMBASAMUDAM, TA...   \n",
              "1896          NAN            TAMBIRAPARANI AT ARUMUGANERI, TAMILNADU   \n",
              "1897          NAN  PALAR AT VANIYAMBADI WATER SUPPLY HEAD WORK, T...   \n",
              "1898          NAN                 GUMTI AT U/S SOUTH TRIPURA,TRIPURA   \n",
              "1899          NAN                GUMTI AT D/S SOUTH TRIPURA, TRIPURA   \n",
              "\n",
              "            STATE       Temp   DO    PH     CO       BOD        NI  Fec_col  \\\n",
              "0     DAMAN & DIU  30.600000  6.7  7.50  203.0  6.857892  0.100000     11.0   \n",
              "1             GOA  29.800000  5.7  7.20  189.0  2.000000  0.200000   4953.0   \n",
              "2             GOA  29.500000  6.3  6.90  179.0  1.700000  0.100000   3243.0   \n",
              "3             GOA  29.700000  5.8  6.90   64.0  3.800000  0.500000   5382.0   \n",
              "4             GOA  29.500000  5.8  7.30   83.0  1.900000  0.400000   3428.0   \n",
              "...           ...        ...  ...   ...    ...       ...       ...      ...   \n",
              "1895          NAN  27.000000  7.4  7.00   88.5  0.977000  0.186000     27.0   \n",
              "1896          NAN  26.193505  6.6  7.81  603.2  2.675000  0.263000     40.0   \n",
              "1897          NAN  28.000000  6.6  7.49  571.5  2.091000  0.256000    151.0   \n",
              "1898          NAN  28.000000  5.4  7.16   75.8  2.092000  1.658681    404.0   \n",
              "1899          NAN  30.000000  5.4  7.37  104.8  1.802000  0.215000    456.0   \n",
              "\n",
              "      ...  nbdo  nec  nna   wph    wdo   wbdo   wec  wna    wco    wqi  \n",
              "0     ...    60   60  100  16.5  28.10  14.04  0.54  2.8  22.48  84.46  \n",
              "1     ...   100   60  100  16.5  22.48  23.40  0.54  2.8  11.24  76.96  \n",
              "2     ...   100   60  100  13.2  28.10  23.40  0.54  2.8  11.24  79.28  \n",
              "3     ...    80  100  100  13.2  22.48  18.72  0.90  2.8  11.24  69.34  \n",
              "4     ...   100   80  100  16.5  22.48  23.40  0.72  2.8  11.24  77.14  \n",
              "...   ...   ...  ...  ...   ...    ...    ...   ...  ...    ...    ...  \n",
              "1895  ...   100   80  100  16.5  28.10  23.40  0.72  2.8  16.86  88.38  \n",
              "1896  ...   100    0  100  16.5  28.10  23.40  0.00  2.8  16.86  87.66  \n",
              "1897  ...   100    0  100  16.5  28.10  23.40  0.00  2.8  16.86  87.66  \n",
              "1898  ...   100   80  100  16.5  22.48  23.40  0.72  2.8  11.24  77.14  \n",
              "1899  ...   100   80  100  16.5  22.48  23.40  0.72  2.8  11.24  77.14  \n",
              "\n",
              "[1900 rows x 25 columns]"
            ],
            "text/html": [
              "\n",
              "  <div id=\"df-3885a9e5-5fc6-4319-aa6e-44dbd098c67d\">\n",
              "    <div class=\"colab-df-container\">\n",
              "      <div>\n",
              "<style scoped>\n",
              "    .dataframe tbody tr th:only-of-type {\n",
              "        vertical-align: middle;\n",
              "    }\n",
              "\n",
              "    .dataframe tbody tr th {\n",
              "        vertical-align: top;\n",
              "    }\n",
              "\n",
              "    .dataframe thead th {\n",
              "        text-align: right;\n",
              "    }\n",
              "</style>\n",
              "<table border=\"1\" class=\"dataframe\">\n",
              "  <thead>\n",
              "    <tr style=\"text-align: right;\">\n",
              "      <th></th>\n",
              "      <th>STATION CODE</th>\n",
              "      <th>LOCATIONS</th>\n",
              "      <th>STATE</th>\n",
              "      <th>Temp</th>\n",
              "      <th>DO</th>\n",
              "      <th>PH</th>\n",
              "      <th>CO</th>\n",
              "      <th>BOD</th>\n",
              "      <th>NI</th>\n",
              "      <th>Fec_col</th>\n",
              "      <th>...</th>\n",
              "      <th>nbdo</th>\n",
              "      <th>nec</th>\n",
              "      <th>nna</th>\n",
              "      <th>wph</th>\n",
              "      <th>wdo</th>\n",
              "      <th>wbdo</th>\n",
              "      <th>wec</th>\n",
              "      <th>wna</th>\n",
              "      <th>wco</th>\n",
              "      <th>wqi</th>\n",
              "    </tr>\n",
              "  </thead>\n",
              "  <tbody>\n",
              "    <tr>\n",
              "      <th>0</th>\n",
              "      <td>1393</td>\n",
              "      <td>DAMANGANGA AT D/S OF MADHUBAN, DAMAN</td>\n",
              "      <td>DAMAN &amp; DIU</td>\n",
              "      <td>30.600000</td>\n",
              "      <td>6.7</td>\n",
              "      <td>7.50</td>\n",
              "      <td>203.0</td>\n",
              "      <td>6.857892</td>\n",
              "      <td>0.100000</td>\n",
              "      <td>11.0</td>\n",
              "      <td>...</td>\n",
              "      <td>60</td>\n",
              "      <td>60</td>\n",
              "      <td>100</td>\n",
              "      <td>16.5</td>\n",
              "      <td>28.10</td>\n",
              "      <td>14.04</td>\n",
              "      <td>0.54</td>\n",
              "      <td>2.8</td>\n",
              "      <td>22.48</td>\n",
              "      <td>84.46</td>\n",
              "    </tr>\n",
              "    <tr>\n",
              "      <th>1</th>\n",
              "      <td>1399</td>\n",
              "      <td>ZUARI AT D/S OF PT. WHERE KUMBARJRIA CANAL JOI...</td>\n",
              "      <td>GOA</td>\n",
              "      <td>29.800000</td>\n",
              "      <td>5.7</td>\n",
              "      <td>7.20</td>\n",
              "      <td>189.0</td>\n",
              "      <td>2.000000</td>\n",
              "      <td>0.200000</td>\n",
              "      <td>4953.0</td>\n",
              "      <td>...</td>\n",
              "      <td>100</td>\n",
              "      <td>60</td>\n",
              "      <td>100</td>\n",
              "      <td>16.5</td>\n",
              "      <td>22.48</td>\n",
              "      <td>23.40</td>\n",
              "      <td>0.54</td>\n",
              "      <td>2.8</td>\n",
              "      <td>11.24</td>\n",
              "      <td>76.96</td>\n",
              "    </tr>\n",
              "    <tr>\n",
              "      <th>2</th>\n",
              "      <td>1475</td>\n",
              "      <td>ZUARI AT PANCHAWADI</td>\n",
              "      <td>GOA</td>\n",
              "      <td>29.500000</td>\n",
              "      <td>6.3</td>\n",
              "      <td>6.90</td>\n",
              "      <td>179.0</td>\n",
              "      <td>1.700000</td>\n",
              "      <td>0.100000</td>\n",
              "      <td>3243.0</td>\n",
              "      <td>...</td>\n",
              "      <td>100</td>\n",
              "      <td>60</td>\n",
              "      <td>100</td>\n",
              "      <td>13.2</td>\n",
              "      <td>28.10</td>\n",
              "      <td>23.40</td>\n",
              "      <td>0.54</td>\n",
              "      <td>2.8</td>\n",
              "      <td>11.24</td>\n",
              "      <td>79.28</td>\n",
              "    </tr>\n",
              "    <tr>\n",
              "      <th>3</th>\n",
              "      <td>3181</td>\n",
              "      <td>RIVER ZUARI AT BORIM BRIDGE</td>\n",
              "      <td>GOA</td>\n",
              "      <td>29.700000</td>\n",
              "      <td>5.8</td>\n",
              "      <td>6.90</td>\n",
              "      <td>64.0</td>\n",
              "      <td>3.800000</td>\n",
              "      <td>0.500000</td>\n",
              "      <td>5382.0</td>\n",
              "      <td>...</td>\n",
              "      <td>80</td>\n",
              "      <td>100</td>\n",
              "      <td>100</td>\n",
              "      <td>13.2</td>\n",
              "      <td>22.48</td>\n",
              "      <td>18.72</td>\n",
              "      <td>0.90</td>\n",
              "      <td>2.8</td>\n",
              "      <td>11.24</td>\n",
              "      <td>69.34</td>\n",
              "    </tr>\n",
              "    <tr>\n",
              "      <th>4</th>\n",
              "      <td>3182</td>\n",
              "      <td>RIVER ZUARI AT MARCAIM JETTY</td>\n",
              "      <td>GOA</td>\n",
              "      <td>29.500000</td>\n",
              "      <td>5.8</td>\n",
              "      <td>7.30</td>\n",
              "      <td>83.0</td>\n",
              "      <td>1.900000</td>\n",
              "      <td>0.400000</td>\n",
              "      <td>3428.0</td>\n",
              "      <td>...</td>\n",
              "      <td>100</td>\n",
              "      <td>80</td>\n",
              "      <td>100</td>\n",
              "      <td>16.5</td>\n",
              "      <td>22.48</td>\n",
              "      <td>23.40</td>\n",
              "      <td>0.72</td>\n",
              "      <td>2.8</td>\n",
              "      <td>11.24</td>\n",
              "      <td>77.14</td>\n",
              "    </tr>\n",
              "    <tr>\n",
              "      <th>...</th>\n",
              "      <td>...</td>\n",
              "      <td>...</td>\n",
              "      <td>...</td>\n",
              "      <td>...</td>\n",
              "      <td>...</td>\n",
              "      <td>...</td>\n",
              "      <td>...</td>\n",
              "      <td>...</td>\n",
              "      <td>...</td>\n",
              "      <td>...</td>\n",
              "      <td>...</td>\n",
              "      <td>...</td>\n",
              "      <td>...</td>\n",
              "      <td>...</td>\n",
              "      <td>...</td>\n",
              "      <td>...</td>\n",
              "      <td>...</td>\n",
              "      <td>...</td>\n",
              "      <td>...</td>\n",
              "      <td>...</td>\n",
              "      <td>...</td>\n",
              "    </tr>\n",
              "    <tr>\n",
              "      <th>1895</th>\n",
              "      <td>NAN</td>\n",
              "      <td>TAMBIRAPARANI AT RAIL BDG. NR. AMBASAMUDAM, TA...</td>\n",
              "      <td>NAN</td>\n",
              "      <td>27.000000</td>\n",
              "      <td>7.4</td>\n",
              "      <td>7.00</td>\n",
              "      <td>88.5</td>\n",
              "      <td>0.977000</td>\n",
              "      <td>0.186000</td>\n",
              "      <td>27.0</td>\n",
              "      <td>...</td>\n",
              "      <td>100</td>\n",
              "      <td>80</td>\n",
              "      <td>100</td>\n",
              "      <td>16.5</td>\n",
              "      <td>28.10</td>\n",
              "      <td>23.40</td>\n",
              "      <td>0.72</td>\n",
              "      <td>2.8</td>\n",
              "      <td>16.86</td>\n",
              "      <td>88.38</td>\n",
              "    </tr>\n",
              "    <tr>\n",
              "      <th>1896</th>\n",
              "      <td>NAN</td>\n",
              "      <td>TAMBIRAPARANI AT ARUMUGANERI, TAMILNADU</td>\n",
              "      <td>NAN</td>\n",
              "      <td>26.193505</td>\n",
              "      <td>6.6</td>\n",
              "      <td>7.81</td>\n",
              "      <td>603.2</td>\n",
              "      <td>2.675000</td>\n",
              "      <td>0.263000</td>\n",
              "      <td>40.0</td>\n",
              "      <td>...</td>\n",
              "      <td>100</td>\n",
              "      <td>0</td>\n",
              "      <td>100</td>\n",
              "      <td>16.5</td>\n",
              "      <td>28.10</td>\n",
              "      <td>23.40</td>\n",
              "      <td>0.00</td>\n",
              "      <td>2.8</td>\n",
              "      <td>16.86</td>\n",
              "      <td>87.66</td>\n",
              "    </tr>\n",
              "    <tr>\n",
              "      <th>1897</th>\n",
              "      <td>NAN</td>\n",
              "      <td>PALAR AT VANIYAMBADI WATER SUPPLY HEAD WORK, T...</td>\n",
              "      <td>NAN</td>\n",
              "      <td>28.000000</td>\n",
              "      <td>6.6</td>\n",
              "      <td>7.49</td>\n",
              "      <td>571.5</td>\n",
              "      <td>2.091000</td>\n",
              "      <td>0.256000</td>\n",
              "      <td>151.0</td>\n",
              "      <td>...</td>\n",
              "      <td>100</td>\n",
              "      <td>0</td>\n",
              "      <td>100</td>\n",
              "      <td>16.5</td>\n",
              "      <td>28.10</td>\n",
              "      <td>23.40</td>\n",
              "      <td>0.00</td>\n",
              "      <td>2.8</td>\n",
              "      <td>16.86</td>\n",
              "      <td>87.66</td>\n",
              "    </tr>\n",
              "    <tr>\n",
              "      <th>1898</th>\n",
              "      <td>NAN</td>\n",
              "      <td>GUMTI AT U/S SOUTH TRIPURA,TRIPURA</td>\n",
              "      <td>NAN</td>\n",
              "      <td>28.000000</td>\n",
              "      <td>5.4</td>\n",
              "      <td>7.16</td>\n",
              "      <td>75.8</td>\n",
              "      <td>2.092000</td>\n",
              "      <td>1.658681</td>\n",
              "      <td>404.0</td>\n",
              "      <td>...</td>\n",
              "      <td>100</td>\n",
              "      <td>80</td>\n",
              "      <td>100</td>\n",
              "      <td>16.5</td>\n",
              "      <td>22.48</td>\n",
              "      <td>23.40</td>\n",
              "      <td>0.72</td>\n",
              "      <td>2.8</td>\n",
              "      <td>11.24</td>\n",
              "      <td>77.14</td>\n",
              "    </tr>\n",
              "    <tr>\n",
              "      <th>1899</th>\n",
              "      <td>NAN</td>\n",
              "      <td>GUMTI AT D/S SOUTH TRIPURA, TRIPURA</td>\n",
              "      <td>NAN</td>\n",
              "      <td>30.000000</td>\n",
              "      <td>5.4</td>\n",
              "      <td>7.37</td>\n",
              "      <td>104.8</td>\n",
              "      <td>1.802000</td>\n",
              "      <td>0.215000</td>\n",
              "      <td>456.0</td>\n",
              "      <td>...</td>\n",
              "      <td>100</td>\n",
              "      <td>80</td>\n",
              "      <td>100</td>\n",
              "      <td>16.5</td>\n",
              "      <td>22.48</td>\n",
              "      <td>23.40</td>\n",
              "      <td>0.72</td>\n",
              "      <td>2.8</td>\n",
              "      <td>11.24</td>\n",
              "      <td>77.14</td>\n",
              "    </tr>\n",
              "  </tbody>\n",
              "</table>\n",
              "<p>1900 rows × 25 columns</p>\n",
              "</div>\n",
              "      <button class=\"colab-df-convert\" onclick=\"convertToInteractive('df-3885a9e5-5fc6-4319-aa6e-44dbd098c67d')\"\n",
              "              title=\"Convert this dataframe to an interactive table.\"\n",
              "              style=\"display:none;\">\n",
              "        \n",
              "  <svg xmlns=\"http://www.w3.org/2000/svg\" height=\"24px\"viewBox=\"0 0 24 24\"\n",
              "       width=\"24px\">\n",
              "    <path d=\"M0 0h24v24H0V0z\" fill=\"none\"/>\n",
              "    <path d=\"M18.56 5.44l.94 2.06.94-2.06 2.06-.94-2.06-.94-.94-2.06-.94 2.06-2.06.94zm-11 1L8.5 8.5l.94-2.06 2.06-.94-2.06-.94L8.5 2.5l-.94 2.06-2.06.94zm10 10l.94 2.06.94-2.06 2.06-.94-2.06-.94-.94-2.06-.94 2.06-2.06.94z\"/><path d=\"M17.41 7.96l-1.37-1.37c-.4-.4-.92-.59-1.43-.59-.52 0-1.04.2-1.43.59L10.3 9.45l-7.72 7.72c-.78.78-.78 2.05 0 2.83L4 21.41c.39.39.9.59 1.41.59.51 0 1.02-.2 1.41-.59l7.78-7.78 2.81-2.81c.8-.78.8-2.07 0-2.86zM5.41 20L4 18.59l7.72-7.72 1.47 1.35L5.41 20z\"/>\n",
              "  </svg>\n",
              "      </button>\n",
              "      \n",
              "  <style>\n",
              "    .colab-df-container {\n",
              "      display:flex;\n",
              "      flex-wrap:wrap;\n",
              "      gap: 12px;\n",
              "    }\n",
              "\n",
              "    .colab-df-convert {\n",
              "      background-color: #E8F0FE;\n",
              "      border: none;\n",
              "      border-radius: 50%;\n",
              "      cursor: pointer;\n",
              "      display: none;\n",
              "      fill: #1967D2;\n",
              "      height: 32px;\n",
              "      padding: 0 0 0 0;\n",
              "      width: 32px;\n",
              "    }\n",
              "\n",
              "    .colab-df-convert:hover {\n",
              "      background-color: #E2EBFA;\n",
              "      box-shadow: 0px 1px 2px rgba(60, 64, 67, 0.3), 0px 1px 3px 1px rgba(60, 64, 67, 0.15);\n",
              "      fill: #174EA6;\n",
              "    }\n",
              "\n",
              "    [theme=dark] .colab-df-convert {\n",
              "      background-color: #3B4455;\n",
              "      fill: #D2E3FC;\n",
              "    }\n",
              "\n",
              "    [theme=dark] .colab-df-convert:hover {\n",
              "      background-color: #434B5C;\n",
              "      box-shadow: 0px 1px 3px 1px rgba(0, 0, 0, 0.15);\n",
              "      filter: drop-shadow(0px 1px 2px rgba(0, 0, 0, 0.3));\n",
              "      fill: #FFFFFF;\n",
              "    }\n",
              "  </style>\n",
              "\n",
              "      <script>\n",
              "        const buttonEl =\n",
              "          document.querySelector('#df-3885a9e5-5fc6-4319-aa6e-44dbd098c67d button.colab-df-convert');\n",
              "        buttonEl.style.display =\n",
              "          google.colab.kernel.accessAllowed ? 'block' : 'none';\n",
              "\n",
              "        async function convertToInteractive(key) {\n",
              "          const element = document.querySelector('#df-3885a9e5-5fc6-4319-aa6e-44dbd098c67d');\n",
              "          const dataTable =\n",
              "            await google.colab.kernel.invokeFunction('convertToInteractive',\n",
              "                                                     [key], {});\n",
              "          if (!dataTable) return;\n",
              "\n",
              "          const docLinkHtml = 'Like what you see? Visit the ' +\n",
              "            '<a target=\"_blank\" href=https://colab.research.google.com/notebooks/data_table.ipynb>data table notebook</a>'\n",
              "            + ' to learn more about interactive tables.';\n",
              "          element.innerHTML = '';\n",
              "          dataTable['output_type'] = 'display_data';\n",
              "          await google.colab.output.renderOutput(dataTable, element);\n",
              "          const docLink = document.createElement('div');\n",
              "          docLink.innerHTML = docLinkHtml;\n",
              "          element.appendChild(docLink);\n",
              "        }\n",
              "      </script>\n",
              "    </div>\n",
              "  </div>\n",
              "  "
            ]
          },
          "metadata": {},
          "execution_count": 382
        }
      ],
      "source": [
        "# Calculate water quality index WQI\n",
        "df[ 'wph' ]=df.npH * 0.165\n",
        "df[ 'wdo' ]=df. ndo * 0.281\n",
        "\n",
        "df[ 'wbdo' ]=df. nbdo * 0.234\n",
        "df[ 'wec' ]=df.nec* 0.009\n",
        "df[ 'wna' ]=df.nna * 0.028\n",
        "\n",
        "df[ 'wco' ]=df.nco * 0.281\n",
        "df[ 'wqi' ]=df.wph+df.wdo+df.wbdo+df.wec+df.wna+df.wco\n",
        "df"
      ]
    },
    {
      "cell_type": "code",
      "source": [
        "#calculation overall wai for each year\n",
        "average=df. groupby( 'year' ) [ 'wqi' ]. mean()\n",
        "average . head()"
      ],
      "metadata": {
        "colab": {
          "base_uri": "https://localhost:8080/"
        },
        "id": "fNr8TIntIDks",
        "outputId": "8a35afd1-88f8-4d13-c106-42183929df0d"
      },
      "id": "fNr8TIntIDks",
      "execution_count": 383,
      "outputs": [
        {
          "output_type": "execute_result",
          "data": {
            "text/plain": [
              "year\n",
              "2005    74.013729\n",
              "2006    72.909714\n",
              "2007    74.233000\n",
              "2008    73.506289\n",
              "2009    74.456685\n",
              "Name: wqi, dtype: float64"
            ]
          },
          "metadata": {},
          "execution_count": 383
        }
      ]
    },
    {
      "cell_type": "markdown",
      "source": [
        "# Visualization of Dataset"
      ],
      "metadata": {
        "id": "2OlQdOmr3NlQ"
      },
      "id": "2OlQdOmr3NlQ"
    },
    {
      "cell_type": "code",
      "execution_count": 384,
      "id": "074e2eab",
      "metadata": {
        "execution": {
          "iopub.execute_input": "2021-09-21T16:06:41.423874Z",
          "iopub.status.busy": "2021-09-21T16:06:41.423149Z",
          "iopub.status.idle": "2021-09-21T16:06:43.470623Z",
          "shell.execute_reply": "2021-09-21T16:06:43.469987Z",
          "shell.execute_reply.started": "2021-09-14T13:36:28.720606Z"
        },
        "papermill": {
          "duration": 2.121757,
          "end_time": "2021-09-21T16:06:43.470773",
          "exception": false,
          "start_time": "2021-09-21T16:06:41.349016",
          "status": "completed"
        },
        "tags": [],
        "colab": {
          "base_uri": "https://localhost:8080/",
          "height": 1000
        },
        "id": "074e2eab",
        "outputId": "b63f037f-e76f-444f-e50f-86aa57ec82eb"
      },
      "outputs": [
        {
          "output_type": "stream",
          "name": "stderr",
          "text": [
            "/usr/local/lib/python3.7/dist-packages/ipykernel_launcher.py:9: RuntimeWarning: More than 20 figures have been opened. Figures created through the pyplot interface (`matplotlib.pyplot.figure`) are retained until explicitly closed and may consume too much memory. (To control this warning, see the rcParam `figure.max_open_warning`).\n",
            "  if __name__ == '__main__':\n",
            "/usr/local/lib/python3.7/dist-packages/ipykernel_launcher.py:9: RuntimeWarning: More than 20 figures have been opened. Figures created through the pyplot interface (`matplotlib.pyplot.figure`) are retained until explicitly closed and may consume too much memory. (To control this warning, see the rcParam `figure.max_open_warning`).\n",
            "  if __name__ == '__main__':\n"
          ]
        },
        {
          "output_type": "display_data",
          "data": {
            "text/plain": [
              "<Figure size 504x360 with 1 Axes>"
            ],
            "image/png": "[encoded data removed]"
          },
          "metadata": {
            "needs_background": "light"
          }
        },
        {
          "output_type": "display_data",
          "data": {
            "text/plain": [
              "<Figure size 504x360 with 1 Axes>"
            ],
            "image/png": "[encoded data removed]"
          },
          "metadata": {
            "needs_background": "light"
          }
        },
        {
          "output_type": "display_data",
          "data": {
            "text/plain": [
              "<Figure size 504x360 with 1 Axes>"
            ],
            "image/png": "[encoded data removed]"
          },
          "metadata": {
            "needs_background": "light"
          }
        },
        {
          "output_type": "display_data",
          "data": {
            "text/plain": [
              "<Figure size 504x360 with 1 Axes>"
            ],
            "image/png": "[encoded data removed]"
          },
          "metadata": {
            "needs_background": "light"
          }
        },
        {
          "output_type": "display_data",
          "data": {
            "text/plain": [
              "<Figure size 504x360 with 1 Axes>"
            ],
            "image/png": "[encoded data removed]"
          },
          "metadata": {
            "needs_background": "light"
          }
        },
        {
          "output_type": "display_data",
          "data": {
            "text/plain": [
              "<Figure size 504x360 with 1 Axes>"
            ],
            "image/png": "[encoded data removed]"
          },
          "metadata": {
            "needs_background": "light"
          }
        },
        {
          "output_type": "display_data",
          "data": {
            "text/plain": [
              "<Figure size 504x360 with 1 Axes>"
            ],
            "image/png": "[encoded data removed]"
          },
          "metadata": {
            "needs_background": "light"
          }
        },
        {
          "output_type": "display_data",
          "data": {
            "text/plain": [
              "<Figure size 504x360 with 1 Axes>"
            ],
            "image/png": "[encoded data removed]"
          },
          "metadata": {
            "needs_background": "light"
          }
        },
        {
          "output_type": "display_data",
          "data": {
            "text/plain": [
              "<Figure size 504x360 with 1 Axes>"
            ],
            "image/png": "[encoded data removed]"
          },
          "metadata": {
            "needs_background": "light"
          }
        },
        {
          "output_type": "display_data",
          "data": {
            "text/plain": [
              "<Figure size 504x360 with 1 Axes>"
            ],
            "image/png": "[encoded data removed]"
          },
          "metadata": {
            "needs_background": "light"
          }
        },
        {
          "output_type": "display_data",
          "data": {
            "text/plain": [
              "<Figure size 504x360 with 1 Axes>"
            ],
            "image/png": "[encoded data removed]"
          },
          "metadata": {
            "needs_background": "light"
          }
        },
        {
          "output_type": "display_data",
          "data": {
            "text/plain": [
              "<Figure size 504x360 with 1 Axes>"
            ],
            "image/png": "[encoded data removed]"
          },
          "metadata": {
            "needs_background": "light"
          }
        },
        {
          "output_type": "display_data",
          "data": {
            "text/plain": [
              "<Figure size 504x360 with 1 Axes>"
            ],
            "image/png": "[encoded data removed]"
          },
          "metadata": {
            "needs_background": "light"
          }
        },
        {
          "output_type": "display_data",
          "data": {
            "text/plain": [
              "<Figure size 504x360 with 1 Axes>"
            ],
            "image/png": "[encoded data removed]"
          },
          "metadata": {
            "needs_background": "light"
          }
        },
        {
          "output_type": "display_data",
          "data": {
            "text/plain": [
              "<Figure size 504x360 with 1 Axes>"
            ],
            "image/png": "[encoded data removed]"
          },
          "metadata": {
            "needs_background": "light"
          }
        },
        {
          "output_type": "display_data",
          "data": {
            "text/plain": [
              "<Figure size 504x360 with 1 Axes>"
            ],
            "image/png": "[encoded data removed]"
          },
          "metadata": {
            "needs_background": "light"
          }
        },
        {
          "output_type": "display_data",
          "data": {
            "text/plain": [
              "<Figure size 504x360 with 1 Axes>"
            ],
            "image/png": "[encoded data removed]"
          },
          "metadata": {
            "needs_background": "light"
          }
        },
        {
          "output_type": "display_data",
          "data": {
            "text/plain": [
              "<Figure size 504x360 with 1 Axes>"
            ],
            "image/png": "[encoded data removed]"
          },
          "metadata": {
            "needs_background": "light"
          }
        },
        {
          "output_type": "display_data",
          "data": {
            "text/plain": [
              "<Figure size 504x360 with 1 Axes>"
            ],
            "image/png": "[encoded data removed]"
          },
          "metadata": {
            "needs_background": "light"
          }
        },
        {
          "output_type": "display_data",
          "data": {
            "text/plain": [
              "<Figure size 504x360 with 1 Axes>"
            ],
            "image/png": "[encoded data removed]"
          },
          "metadata": {
            "needs_background": "light"
          }
        },
        {
          "output_type": "display_data",
          "data": {
            "text/plain": [
              "<Figure size 504x360 with 1 Axes>"
            ],
            "image/png": "[encoded data removed]"
          },
          "metadata": {
            "needs_background": "light"
          }
        },
        {
          "output_type": "display_data",
          "data": {
            "text/plain": [
              "<Figure size 504x360 with 1 Axes>"
            ],
            "image/png": "[encoded data removed]"
          },
          "metadata": {
            "needs_background": "light"
          }
        }
      ],
      "source": [
        "# PLotting PDFs of all the numeric attributes in the dataset\n",
        "\n",
        "df = df.select_dtypes(exclude=\"object\")\n",
        "\n",
        "def plot_kde(df):\n",
        "    n_col = df.shape[1]\n",
        "    for index in range(n_col):\n",
        "        col_index = df.iloc[:, index]\n",
        "        fig, ax = plt.subplots(1,1, figsize=(7, 5))\n",
        "        sns.kdeplot(data=df, x=col_index.name)\n",
        "        \n",
        "plot_kde(df)"
      ]
    },
    {
      "cell_type": "markdown",
      "source": [
        "# Classification based on WQI"
      ],
      "metadata": {
        "id": "phL8_1W-30YC"
      },
      "id": "phL8_1W-30YC"
    },
    {
      "cell_type": "code",
      "source": [
        "df.shape"
      ],
      "metadata": {
        "colab": {
          "base_uri": "https://localhost:8080/"
        },
        "id": "0D8vLEmJXxDP",
        "outputId": "85858eb7-ceb8-4778-f949-19f8c471f4ba"
      },
      "id": "0D8vLEmJXxDP",
      "execution_count": 385,
      "outputs": [
        {
          "output_type": "execute_result",
          "data": {
            "text/plain": [
              "(1900, 22)"
            ]
          },
          "metadata": {},
          "execution_count": 385
        }
      ]
    },
    {
      "cell_type": "code",
      "source": [
        "df['wqi']"
      ],
      "metadata": {
        "colab": {
          "base_uri": "https://localhost:8080/"
        },
        "id": "sx8sfD5zLbYt",
        "outputId": "147c8478-6127-4084-c9a4-4b4c888e2e46"
      },
      "id": "sx8sfD5zLbYt",
      "execution_count": 386,
      "outputs": [
        {
          "output_type": "execute_result",
          "data": {
            "text/plain": [
              "0       84.46\n",
              "1       76.96\n",
              "2       79.28\n",
              "3       69.34\n",
              "4       77.14\n",
              "        ...  \n",
              "1895    88.38\n",
              "1896    87.66\n",
              "1897    87.66\n",
              "1898    77.14\n",
              "1899    77.14\n",
              "Name: wqi, Length: 1900, dtype: float64"
            ]
          },
          "metadata": {},
          "execution_count": 386
        }
      ]
    },
    {
      "cell_type": "code",
      "source": [
        "df.columns"
      ],
      "metadata": {
        "colab": {
          "base_uri": "https://localhost:8080/"
        },
        "id": "YBaFWPMfIxoA",
        "outputId": "5679c727-1e3b-45cd-ac90-6acd83672a06"
      },
      "id": "YBaFWPMfIxoA",
      "execution_count": 387,
      "outputs": [
        {
          "output_type": "execute_result",
          "data": {
            "text/plain": [
              "Index(['Temp', 'DO', 'PH', 'CO', 'BOD', 'NI', 'Fec_col', 'Tot_col', 'year',\n",
              "       'npH', 'ndo', 'nco', 'nbdo', 'nec', 'nna', 'wph', 'wdo', 'wbdo', 'wec',\n",
              "       'wna', 'wco', 'wqi'],\n",
              "      dtype='object')"
            ]
          },
          "metadata": {},
          "execution_count": 387
        }
      ]
    },
    {
      "cell_type": "code",
      "execution_count": 388,
      "id": "0b3ed2d8",
      "metadata": {
        "execution": {
          "iopub.execute_input": "2021-09-21T16:06:47.873718Z",
          "iopub.status.busy": "2021-09-21T16:06:47.872992Z",
          "iopub.status.idle": "2021-09-21T16:06:47.895303Z",
          "shell.execute_reply": "2021-09-21T16:06:47.895938Z",
          "shell.execute_reply.started": "2021-09-14T13:36:32.701739Z"
        },
        "papermill": {
          "duration": 0.091825,
          "end_time": "2021-09-21T16:06:47.896119",
          "exception": false,
          "start_time": "2021-09-21T16:06:47.804294",
          "status": "completed"
        },
        "tags": [],
        "colab": {
          "base_uri": "https://localhost:8080/",
          "height": 279
        },
        "id": "0b3ed2d8",
        "outputId": "b4288f48-388d-49c0-d68a-8238041c8a2c"
      },
      "outputs": [
        {
          "output_type": "execute_result",
          "data": {
            "text/plain": [
              "           Temp   DO    PH     CO    BOD        NI  Fec_col  Tot_col  year  \\\n",
              "1895  27.000000  7.4  7.00   88.5  0.977  0.186000     27.0    105.0  2005   \n",
              "1896  26.193505  6.6  7.81  603.2  2.675  0.263000     40.0    191.0  2005   \n",
              "1897  28.000000  6.6  7.49  571.5  2.091  0.256000    151.0    273.0  2005   \n",
              "1898  28.000000  5.4  7.16   75.8  2.092  1.658681    404.0    513.0  2005   \n",
              "1899  30.000000  5.4  7.37  104.8  1.802  0.215000    456.0    557.0  2005   \n",
              "\n",
              "      npH  ...  nbdo  nec  nna   wph    wdo  wbdo   wec  wna    wco    wqi  \n",
              "1895  100  ...   100   80  100  16.5  28.10  23.4  0.72  2.8  16.86  88.38  \n",
              "1896  100  ...   100    0  100  16.5  28.10  23.4  0.00  2.8  16.86  87.66  \n",
              "1897  100  ...   100    0  100  16.5  28.10  23.4  0.00  2.8  16.86  87.66  \n",
              "1898  100  ...   100   80  100  16.5  22.48  23.4  0.72  2.8  11.24  77.14  \n",
              "1899  100  ...   100   80  100  16.5  22.48  23.4  0.72  2.8  11.24  77.14  \n",
              "\n",
              "[5 rows x 22 columns]"
            ],
            "text/html": [
              "\n",
              "  <div id=\"df-2d480b84-b230-4715-96f7-4a92f765e8b1\">\n",
              "    <div class=\"colab-df-container\">\n",
              "      <div>\n",
              "<style scoped>\n",
              "    .dataframe tbody tr th:only-of-type {\n",
              "        vertical-align: middle;\n",
              "    }\n",
              "\n",
              "    .dataframe tbody tr th {\n",
              "        vertical-align: top;\n",
              "    }\n",
              "\n",
              "    .dataframe thead th {\n",
              "        text-align: right;\n",
              "    }\n",
              "</style>\n",
              "<table border=\"1\" class=\"dataframe\">\n",
              "  <thead>\n",
              "    <tr style=\"text-align: right;\">\n",
              "      <th></th>\n",
              "      <th>Temp</th>\n",
              "      <th>DO</th>\n",
              "      <th>PH</th>\n",
              "      <th>CO</th>\n",
              "      <th>BOD</th>\n",
              "      <th>NI</th>\n",
              "      <th>Fec_col</th>\n",
              "      <th>Tot_col</th>\n",
              "      <th>year</th>\n",
              "      <th>npH</th>\n",
              "      <th>...</th>\n",
              "      <th>nbdo</th>\n",
              "      <th>nec</th>\n",
              "      <th>nna</th>\n",
              "      <th>wph</th>\n",
              "      <th>wdo</th>\n",
              "      <th>wbdo</th>\n",
              "      <th>wec</th>\n",
              "      <th>wna</th>\n",
              "      <th>wco</th>\n",
              "      <th>wqi</th>\n",
              "    </tr>\n",
              "  </thead>\n",
              "  <tbody>\n",
              "    <tr>\n",
              "      <th>1895</th>\n",
              "      <td>27.000000</td>\n",
              "      <td>7.4</td>\n",
              "      <td>7.00</td>\n",
              "      <td>88.5</td>\n",
              "      <td>0.977</td>\n",
              "      <td>0.186000</td>\n",
              "      <td>27.0</td>\n",
              "      <td>105.0</td>\n",
              "      <td>2005</td>\n",
              "      <td>100</td>\n",
              "      <td>...</td>\n",
              "      <td>100</td>\n",
              "      <td>80</td>\n",
              "      <td>100</td>\n",
              "      <td>16.5</td>\n",
              "      <td>28.10</td>\n",
              "      <td>23.4</td>\n",
              "      <td>0.72</td>\n",
              "      <td>2.8</td>\n",
              "      <td>16.86</td>\n",
              "      <td>88.38</td>\n",
              "    </tr>\n",
              "    <tr>\n",
              "      <th>1896</th>\n",
              "      <td>26.193505</td>\n",
              "      <td>6.6</td>\n",
              "      <td>7.81</td>\n",
              "      <td>603.2</td>\n",
              "      <td>2.675</td>\n",
              "      <td>0.263000</td>\n",
              "      <td>40.0</td>\n",
              "      <td>191.0</td>\n",
              "      <td>2005</td>\n",
              "      <td>100</td>\n",
              "      <td>...</td>\n",
              "      <td>100</td>\n",
              "      <td>0</td>\n",
              "      <td>100</td>\n",
              "      <td>16.5</td>\n",
              "      <td>28.10</td>\n",
              "      <td>23.4</td>\n",
              "      <td>0.00</td>\n",
              "      <td>2.8</td>\n",
              "      <td>16.86</td>\n",
              "      <td>87.66</td>\n",
              "    </tr>\n",
              "    <tr>\n",
              "      <th>1897</th>\n",
              "      <td>28.000000</td>\n",
              "      <td>6.6</td>\n",
              "      <td>7.49</td>\n",
              "      <td>571.5</td>\n",
              "      <td>2.091</td>\n",
              "      <td>0.256000</td>\n",
              "      <td>151.0</td>\n",
              "      <td>273.0</td>\n",
              "      <td>2005</td>\n",
              "      <td>100</td>\n",
              "      <td>...</td>\n",
              "      <td>100</td>\n",
              "      <td>0</td>\n",
              "      <td>100</td>\n",
              "      <td>16.5</td>\n",
              "      <td>28.10</td>\n",
              "      <td>23.4</td>\n",
              "      <td>0.00</td>\n",
              "      <td>2.8</td>\n",
              "      <td>16.86</td>\n",
              "      <td>87.66</td>\n",
              "    </tr>\n",
              "    <tr>\n",
              "      <th>1898</th>\n",
              "      <td>28.000000</td>\n",
              "      <td>5.4</td>\n",
              "      <td>7.16</td>\n",
              "      <td>75.8</td>\n",
              "      <td>2.092</td>\n",
              "      <td>1.658681</td>\n",
              "      <td>404.0</td>\n",
              "      <td>513.0</td>\n",
              "      <td>2005</td>\n",
              "      <td>100</td>\n",
              "      <td>...</td>\n",
              "      <td>100</td>\n",
              "      <td>80</td>\n",
              "      <td>100</td>\n",
              "      <td>16.5</td>\n",
              "      <td>22.48</td>\n",
              "      <td>23.4</td>\n",
              "      <td>0.72</td>\n",
              "      <td>2.8</td>\n",
              "      <td>11.24</td>\n",
              "      <td>77.14</td>\n",
              "    </tr>\n",
              "    <tr>\n",
              "      <th>1899</th>\n",
              "      <td>30.000000</td>\n",
              "      <td>5.4</td>\n",
              "      <td>7.37</td>\n",
              "      <td>104.8</td>\n",
              "      <td>1.802</td>\n",
              "      <td>0.215000</td>\n",
              "      <td>456.0</td>\n",
              "      <td>557.0</td>\n",
              "      <td>2005</td>\n",
              "      <td>100</td>\n",
              "      <td>...</td>\n",
              "      <td>100</td>\n",
              "      <td>80</td>\n",
              "      <td>100</td>\n",
              "      <td>16.5</td>\n",
              "      <td>22.48</td>\n",
              "      <td>23.4</td>\n",
              "      <td>0.72</td>\n",
              "      <td>2.8</td>\n",
              "      <td>11.24</td>\n",
              "      <td>77.14</td>\n",
              "    </tr>\n",
              "  </tbody>\n",
              "</table>\n",
              "<p>5 rows × 22 columns</p>\n",
              "</div>\n",
              "      <button class=\"colab-df-convert\" onclick=\"convertToInteractive('df-2d480b84-b230-4715-96f7-4a92f765e8b1')\"\n",
              "              title=\"Convert this dataframe to an interactive table.\"\n",
              "              style=\"display:none;\">\n",
              "        \n",
              "  <svg xmlns=\"http://www.w3.org/2000/svg\" height=\"24px\"viewBox=\"0 0 24 24\"\n",
              "       width=\"24px\">\n",
              "    <path d=\"M0 0h24v24H0V0z\" fill=\"none\"/>\n",
              "    <path d=\"M18.56 5.44l.94 2.06.94-2.06 2.06-.94-2.06-.94-.94-2.06-.94 2.06-2.06.94zm-11 1L8.5 8.5l.94-2.06 2.06-.94-2.06-.94L8.5 2.5l-.94 2.06-2.06.94zm10 10l.94 2.06.94-2.06 2.06-.94-2.06-.94-.94-2.06-.94 2.06-2.06.94z\"/><path d=\"M17.41 7.96l-1.37-1.37c-.4-.4-.92-.59-1.43-.59-.52 0-1.04.2-1.43.59L10.3 9.45l-7.72 7.72c-.78.78-.78 2.05 0 2.83L4 21.41c.39.39.9.59 1.41.59.51 0 1.02-.2 1.41-.59l7.78-7.78 2.81-2.81c.8-.78.8-2.07 0-2.86zM5.41 20L4 18.59l7.72-7.72 1.47 1.35L5.41 20z\"/>\n",
              "  </svg>\n",
              "      </button>\n",
              "      \n",
              "  <style>\n",
              "    .colab-df-container {\n",
              "      display:flex;\n",
              "      flex-wrap:wrap;\n",
              "      gap: 12px;\n",
              "    }\n",
              "\n",
              "    .colab-df-convert {\n",
              "      background-color: #E8F0FE;\n",
              "      border: none;\n",
              "      border-radius: 50%;\n",
              "      cursor: pointer;\n",
              "      display: none;\n",
              "      fill: #1967D2;\n",
              "      height: 32px;\n",
              "      padding: 0 0 0 0;\n",
              "      width: 32px;\n",
              "    }\n",
              "\n",
              "    .colab-df-convert:hover {\n",
              "      background-color: #E2EBFA;\n",
              "      box-shadow: 0px 1px 2px rgba(60, 64, 67, 0.3), 0px 1px 3px 1px rgba(60, 64, 67, 0.15);\n",
              "      fill: #174EA6;\n",
              "    }\n",
              "\n",
              "    [theme=dark] .colab-df-convert {\n",
              "      background-color: #3B4455;\n",
              "      fill: #D2E3FC;\n",
              "    }\n",
              "\n",
              "    [theme=dark] .colab-df-convert:hover {\n",
              "      background-color: #434B5C;\n",
              "      box-shadow: 0px 1px 3px 1px rgba(0, 0, 0, 0.15);\n",
              "      filter: drop-shadow(0px 1px 2px rgba(0, 0, 0, 0.3));\n",
              "      fill: #FFFFFF;\n",
              "    }\n",
              "  </style>\n",
              "\n",
              "      <script>\n",
              "        const buttonEl =\n",
              "          document.querySelector('#df-2d480b84-b230-4715-96f7-4a92f765e8b1 button.colab-df-convert');\n",
              "        buttonEl.style.display =\n",
              "          google.colab.kernel.accessAllowed ? 'block' : 'none';\n",
              "\n",
              "        async function convertToInteractive(key) {\n",
              "          const element = document.querySelector('#df-2d480b84-b230-4715-96f7-4a92f765e8b1');\n",
              "          const dataTable =\n",
              "            await google.colab.kernel.invokeFunction('convertToInteractive',\n",
              "                                                     [key], {});\n",
              "          if (!dataTable) return;\n",
              "\n",
              "          const docLinkHtml = 'Like what you see? Visit the ' +\n",
              "            '<a target=\"_blank\" href=https://colab.research.google.com/notebooks/data_table.ipynb>data table notebook</a>'\n",
              "            + ' to learn more about interactive tables.';\n",
              "          element.innerHTML = '';\n",
              "          dataTable['output_type'] = 'display_data';\n",
              "          await google.colab.output.renderOutput(dataTable, element);\n",
              "          const docLink = document.createElement('div');\n",
              "          docLink.innerHTML = docLinkHtml;\n",
              "          element.appendChild(docLink);\n",
              "        }\n",
              "      </script>\n",
              "    </div>\n",
              "  </div>\n",
              "  "
            ]
          },
          "metadata": {},
          "execution_count": 388
        }
      ],
      "source": [
        "df.tail()"
      ]
    },
    {
      "cell_type": "code",
      "execution_count": 389,
      "id": "27c768c4",
      "metadata": {
        "execution": {
          "iopub.execute_input": "2021-09-21T16:06:48.040933Z",
          "iopub.status.busy": "2021-09-21T16:06:48.040130Z",
          "iopub.status.idle": "2021-09-21T16:06:48.098156Z",
          "shell.execute_reply": "2021-09-21T16:06:48.098873Z",
          "shell.execute_reply.started": "2021-09-14T13:36:32.732323Z"
        },
        "papermill": {
          "duration": 0.137895,
          "end_time": "2021-09-21T16:06:48.099060",
          "exception": false,
          "start_time": "2021-09-21T16:06:47.961165",
          "status": "completed"
        },
        "tags": [],
        "colab": {
          "base_uri": "https://localhost:8080/",
          "height": 393
        },
        "id": "27c768c4",
        "outputId": "3236f3d0-61d9-41ca-aea6-2ffcedf519ae"
      },
      "outputs": [
        {
          "output_type": "execute_result",
          "data": {
            "text/plain": [
              "              Temp           DO           PH            CO          BOD  \\\n",
              "count  1900.000000  1900.000000  1900.000000   1900.000000  1900.000000   \n",
              "mean     26.193505     6.354635     7.227912   1871.808225     6.857892   \n",
              "std       3.294322     1.333341     0.649011   5634.005557    27.381555   \n",
              "min      10.000000     0.000000     0.000000     11.000000     0.100000   \n",
              "25%      25.000000     5.900000     6.900000     88.000000     1.200000   \n",
              "50%      27.000000     6.600000     7.300000    202.000000     1.900000   \n",
              "75%      28.300000     7.100000     7.600000    668.000000     3.900000   \n",
              "max      35.000000    11.400000     9.010000  65700.000000   534.500000   \n",
              "\n",
              "                NI       Fec_col       Tot_col         year          npH  ...  \\\n",
              "count  1900.000000  1.620000e+03  1.900000e+03  1900.000000  1900.000000  ...   \n",
              "mean      1.658681  3.748371e+05  5.604394e+05  2010.373158    84.926316  ...   \n",
              "std       3.938236  8.912142e+06  1.407929e+07     2.708444    29.109024  ...   \n",
              "min       0.000000  0.000000e+00  0.000000e+00  2005.000000     0.000000  ...   \n",
              "25%       0.270000  3.300000e+01  1.147500e+02  2008.000000    80.000000  ...   \n",
              "50%       0.620000  2.330000e+02  5.410000e+02  2011.000000   100.000000  ...   \n",
              "75%       1.658681  1.074250e+03  2.983500e+03  2013.000000   100.000000  ...   \n",
              "max     108.700000  2.725216e+08  5.110909e+08  2014.000000   100.000000  ...   \n",
              "\n",
              "              nbdo          nec          nna          wph          wdo  \\\n",
              "count  1900.000000  1900.000000  1900.000000  1900.000000  1900.000000   \n",
              "mean     89.221053    46.915789    99.905263    14.012842    25.207179   \n",
              "std      17.609167    41.203118     1.889934     4.802989     6.156114   \n",
              "min       0.000000     0.000000    40.000000     0.000000     0.000000   \n",
              "25%      80.000000     0.000000   100.000000    13.200000    22.480000   \n",
              "50%     100.000000    60.000000   100.000000    16.500000    28.100000   \n",
              "75%     100.000000    80.000000   100.000000    16.500000    28.100000   \n",
              "max     100.000000   100.000000   100.000000    16.500000    28.100000   \n",
              "\n",
              "              wbdo          wec          wna          wco          wqi  \n",
              "count  1900.000000  1900.000000  1900.000000  1900.000000  1900.000000  \n",
              "mean     20.877726     0.422242     2.797347    12.834305    76.151642  \n",
              "std       4.120545     0.370828     0.052918     7.023706    13.607085  \n",
              "min       0.000000     0.000000     1.120000     0.000000    19.300000  \n",
              "25%      18.720000     0.000000     2.800000    11.240000    70.800000  \n",
              "50%      23.400000     0.540000     2.800000    11.240000    79.640000  \n",
              "75%      23.400000     0.720000     2.800000    16.860000    84.360000  \n",
              "max      23.400000     0.900000     2.800000    28.100000    99.800000  \n",
              "\n",
              "[8 rows x 22 columns]"
            ],
            "text/html": [
              "\n",
              "  <div id=\"df-d0101f91-9940-48ba-89a5-4b4e7d61d846\">\n",
              "    <div class=\"colab-df-container\">\n",
              "      <div>\n",
              "<style scoped>\n",
              "    .dataframe tbody tr th:only-of-type {\n",
              "        vertical-align: middle;\n",
              "    }\n",
              "\n",
              "    .dataframe tbody tr th {\n",
              "        vertical-align: top;\n",
              "    }\n",
              "\n",
              "    .dataframe thead th {\n",
              "        text-align: right;\n",
              "    }\n",
              "</style>\n",
              "<table border=\"1\" class=\"dataframe\">\n",
              "  <thead>\n",
              "    <tr style=\"text-align: right;\">\n",
              "      <th></th>\n",
              "      <th>Temp</th>\n",
              "      <th>DO</th>\n",
              "      <th>PH</th>\n",
              "      <th>CO</th>\n",
              "      <th>BOD</th>\n",
              "      <th>NI</th>\n",
              "      <th>Fec_col</th>\n",
              "      <th>Tot_col</th>\n",
              "      <th>year</th>\n",
              "      <th>npH</th>\n",
              "      <th>...</th>\n",
              "      <th>nbdo</th>\n",
              "      <th>nec</th>\n",
              "      <th>nna</th>\n",
              "      <th>wph</th>\n",
              "      <th>wdo</th>\n",
              "      <th>wbdo</th>\n",
              "      <th>wec</th>\n",
              "      <th>wna</th>\n",
              "      <th>wco</th>\n",
              "      <th>wqi</th>\n",
              "    </tr>\n",
              "  </thead>\n",
              "  <tbody>\n",
              "    <tr>\n",
              "      <th>count</th>\n",
              "      <td>1900.000000</td>\n",
              "      <td>1900.000000</td>\n",
              "      <td>1900.000000</td>\n",
              "      <td>1900.000000</td>\n",
              "      <td>1900.000000</td>\n",
              "      <td>1900.000000</td>\n",
              "      <td>1.620000e+03</td>\n",
              "      <td>1.900000e+03</td>\n",
              "      <td>1900.000000</td>\n",
              "      <td>1900.000000</td>\n",
              "      <td>...</td>\n",
              "      <td>1900.000000</td>\n",
              "      <td>1900.000000</td>\n",
              "      <td>1900.000000</td>\n",
              "      <td>1900.000000</td>\n",
              "      <td>1900.000000</td>\n",
              "      <td>1900.000000</td>\n",
              "      <td>1900.000000</td>\n",
              "      <td>1900.000000</td>\n",
              "      <td>1900.000000</td>\n",
              "      <td>1900.000000</td>\n",
              "    </tr>\n",
              "    <tr>\n",
              "      <th>mean</th>\n",
              "      <td>26.193505</td>\n",
              "      <td>6.354635</td>\n",
              "      <td>7.227912</td>\n",
              "      <td>1871.808225</td>\n",
              "      <td>6.857892</td>\n",
              "      <td>1.658681</td>\n",
              "      <td>3.748371e+05</td>\n",
              "      <td>5.604394e+05</td>\n",
              "      <td>2010.373158</td>\n",
              "      <td>84.926316</td>\n",
              "      <td>...</td>\n",
              "      <td>89.221053</td>\n",
              "      <td>46.915789</td>\n",
              "      <td>99.905263</td>\n",
              "      <td>14.012842</td>\n",
              "      <td>25.207179</td>\n",
              "      <td>20.877726</td>\n",
              "      <td>0.422242</td>\n",
              "      <td>2.797347</td>\n",
              "      <td>12.834305</td>\n",
              "      <td>76.151642</td>\n",
              "    </tr>\n",
              "    <tr>\n",
              "      <th>std</th>\n",
              "      <td>3.294322</td>\n",
              "      <td>1.333341</td>\n",
              "      <td>0.649011</td>\n",
              "      <td>5634.005557</td>\n",
              "      <td>27.381555</td>\n",
              "      <td>3.938236</td>\n",
              "      <td>8.912142e+06</td>\n",
              "      <td>1.407929e+07</td>\n",
              "      <td>2.708444</td>\n",
              "      <td>29.109024</td>\n",
              "      <td>...</td>\n",
              "      <td>17.609167</td>\n",
              "      <td>41.203118</td>\n",
              "      <td>1.889934</td>\n",
              "      <td>4.802989</td>\n",
              "      <td>6.156114</td>\n",
              "      <td>4.120545</td>\n",
              "      <td>0.370828</td>\n",
              "      <td>0.052918</td>\n",
              "      <td>7.023706</td>\n",
              "      <td>13.607085</td>\n",
              "    </tr>\n",
              "    <tr>\n",
              "      <th>min</th>\n",
              "      <td>10.000000</td>\n",
              "      <td>0.000000</td>\n",
              "      <td>0.000000</td>\n",
              "      <td>11.000000</td>\n",
              "      <td>0.100000</td>\n",
              "      <td>0.000000</td>\n",
              "      <td>0.000000e+00</td>\n",
              "      <td>0.000000e+00</td>\n",
              "      <td>2005.000000</td>\n",
              "      <td>0.000000</td>\n",
              "      <td>...</td>\n",
              "      <td>0.000000</td>\n",
              "      <td>0.000000</td>\n",
              "      <td>40.000000</td>\n",
              "      <td>0.000000</td>\n",
              "      <td>0.000000</td>\n",
              "      <td>0.000000</td>\n",
              "      <td>0.000000</td>\n",
              "      <td>1.120000</td>\n",
              "      <td>0.000000</td>\n",
              "      <td>19.300000</td>\n",
              "    </tr>\n",
              "    <tr>\n",
              "      <th>25%</th>\n",
              "      <td>25.000000</td>\n",
              "      <td>5.900000</td>\n",
              "      <td>6.900000</td>\n",
              "      <td>88.000000</td>\n",
              "      <td>1.200000</td>\n",
              "      <td>0.270000</td>\n",
              "      <td>3.300000e+01</td>\n",
              "      <td>1.147500e+02</td>\n",
              "      <td>2008.000000</td>\n",
              "      <td>80.000000</td>\n",
              "      <td>...</td>\n",
              "      <td>80.000000</td>\n",
              "      <td>0.000000</td>\n",
              "      <td>100.000000</td>\n",
              "      <td>13.200000</td>\n",
              "      <td>22.480000</td>\n",
              "      <td>18.720000</td>\n",
              "      <td>0.000000</td>\n",
              "      <td>2.800000</td>\n",
              "      <td>11.240000</td>\n",
              "      <td>70.800000</td>\n",
              "    </tr>\n",
              "    <tr>\n",
              "      <th>50%</th>\n",
              "      <td>27.000000</td>\n",
              "      <td>6.600000</td>\n",
              "      <td>7.300000</td>\n",
              "      <td>202.000000</td>\n",
              "      <td>1.900000</td>\n",
              "      <td>0.620000</td>\n",
              "      <td>2.330000e+02</td>\n",
              "      <td>5.410000e+02</td>\n",
              "      <td>2011.000000</td>\n",
              "      <td>100.000000</td>\n",
              "      <td>...</td>\n",
              "      <td>100.000000</td>\n",
              "      <td>60.000000</td>\n",
              "      <td>100.000000</td>\n",
              "      <td>16.500000</td>\n",
              "      <td>28.100000</td>\n",
              "      <td>23.400000</td>\n",
              "      <td>0.540000</td>\n",
              "      <td>2.800000</td>\n",
              "      <td>11.240000</td>\n",
              "      <td>79.640000</td>\n",
              "    </tr>\n",
              "    <tr>\n",
              "      <th>75%</th>\n",
              "      <td>28.300000</td>\n",
              "      <td>7.100000</td>\n",
              "      <td>7.600000</td>\n",
              "      <td>668.000000</td>\n",
              "      <td>3.900000</td>\n",
              "      <td>1.658681</td>\n",
              "      <td>1.074250e+03</td>\n",
              "      <td>2.983500e+03</td>\n",
              "      <td>2013.000000</td>\n",
              "      <td>100.000000</td>\n",
              "      <td>...</td>\n",
              "      <td>100.000000</td>\n",
              "      <td>80.000000</td>\n",
              "      <td>100.000000</td>\n",
              "      <td>16.500000</td>\n",
              "      <td>28.100000</td>\n",
              "      <td>23.400000</td>\n",
              "      <td>0.720000</td>\n",
              "      <td>2.800000</td>\n",
              "      <td>16.860000</td>\n",
              "      <td>84.360000</td>\n",
              "    </tr>\n",
              "    <tr>\n",
              "      <th>max</th>\n",
              "      <td>35.000000</td>\n",
              "      <td>11.400000</td>\n",
              "      <td>9.010000</td>\n",
              "      <td>65700.000000</td>\n",
              "      <td>534.500000</td>\n",
              "      <td>108.700000</td>\n",
              "      <td>2.725216e+08</td>\n",
              "      <td>5.110909e+08</td>\n",
              "      <td>2014.000000</td>\n",
              "      <td>100.000000</td>\n",
              "      <td>...</td>\n",
              "      <td>100.000000</td>\n",
              "      <td>100.000000</td>\n",
              "      <td>100.000000</td>\n",
              "      <td>16.500000</td>\n",
              "      <td>28.100000</td>\n",
              "      <td>23.400000</td>\n",
              "      <td>0.900000</td>\n",
              "      <td>2.800000</td>\n",
              "      <td>28.100000</td>\n",
              "      <td>99.800000</td>\n",
              "    </tr>\n",
              "  </tbody>\n",
              "</table>\n",
              "<p>8 rows × 22 columns</p>\n",
              "</div>\n",
              "      <button class=\"colab-df-convert\" onclick=\"convertToInteractive('df-d0101f91-9940-48ba-89a5-4b4e7d61d846')\"\n",
              "              title=\"Convert this dataframe to an interactive table.\"\n",
              "              style=\"display:none;\">\n",
              "        \n",
              "  <svg xmlns=\"http://www.w3.org/2000/svg\" height=\"24px\"viewBox=\"0 0 24 24\"\n",
              "       width=\"24px\">\n",
              "    <path d=\"M0 0h24v24H0V0z\" fill=\"none\"/>\n",
              "    <path d=\"M18.56 5.44l.94 2.06.94-2.06 2.06-.94-2.06-.94-.94-2.06-.94 2.06-2.06.94zm-11 1L8.5 8.5l.94-2.06 2.06-.94-2.06-.94L8.5 2.5l-.94 2.06-2.06.94zm10 10l.94 2.06.94-2.06 2.06-.94-2.06-.94-.94-2.06-.94 2.06-2.06.94z\"/><path d=\"M17.41 7.96l-1.37-1.37c-.4-.4-.92-.59-1.43-.59-.52 0-1.04.2-1.43.59L10.3 9.45l-7.72 7.72c-.78.78-.78 2.05 0 2.83L4 21.41c.39.39.9.59 1.41.59.51 0 1.02-.2 1.41-.59l7.78-7.78 2.81-2.81c.8-.78.8-2.07 0-2.86zM5.41 20L4 18.59l7.72-7.72 1.47 1.35L5.41 20z\"/>\n",
              "  </svg>\n",
              "      </button>\n",
              "      \n",
              "  <style>\n",
              "    .colab-df-container {\n",
              "      display:flex;\n",
              "      flex-wrap:wrap;\n",
              "      gap: 12px;\n",
              "    }\n",
              "\n",
              "    .colab-df-convert {\n",
              "      background-color: #E8F0FE;\n",
              "      border: none;\n",
              "      border-radius: 50%;\n",
              "      cursor: pointer;\n",
              "      display: none;\n",
              "      fill: #1967D2;\n",
              "      height: 32px;\n",
              "      padding: 0 0 0 0;\n",
              "      width: 32px;\n",
              "    }\n",
              "\n",
              "    .colab-df-convert:hover {\n",
              "      background-color: #E2EBFA;\n",
              "      box-shadow: 0px 1px 2px rgba(60, 64, 67, 0.3), 0px 1px 3px 1px rgba(60, 64, 67, 0.15);\n",
              "      fill: #174EA6;\n",
              "    }\n",
              "\n",
              "    [theme=dark] .colab-df-convert {\n",
              "      background-color: #3B4455;\n",
              "      fill: #D2E3FC;\n",
              "    }\n",
              "\n",
              "    [theme=dark] .colab-df-convert:hover {\n",
              "      background-color: #434B5C;\n",
              "      box-shadow: 0px 1px 3px 1px rgba(0, 0, 0, 0.15);\n",
              "      filter: drop-shadow(0px 1px 2px rgba(0, 0, 0, 0.3));\n",
              "      fill: #FFFFFF;\n",
              "    }\n",
              "  </style>\n",
              "\n",
              "      <script>\n",
              "        const buttonEl =\n",
              "          document.querySelector('#df-d0101f91-9940-48ba-89a5-4b4e7d61d846 button.colab-df-convert');\n",
              "        buttonEl.style.display =\n",
              "          google.colab.kernel.accessAllowed ? 'block' : 'none';\n",
              "\n",
              "        async function convertToInteractive(key) {\n",
              "          const element = document.querySelector('#df-d0101f91-9940-48ba-89a5-4b4e7d61d846');\n",
              "          const dataTable =\n",
              "            await google.colab.kernel.invokeFunction('convertToInteractive',\n",
              "                                                     [key], {});\n",
              "          if (!dataTable) return;\n",
              "\n",
              "          const docLinkHtml = 'Like what you see? Visit the ' +\n",
              "            '<a target=\"_blank\" href=https://colab.research.google.com/notebooks/data_table.ipynb>data table notebook</a>'\n",
              "            + ' to learn more about interactive tables.';\n",
              "          element.innerHTML = '';\n",
              "          dataTable['output_type'] = 'display_data';\n",
              "          await google.colab.output.renderOutput(dataTable, element);\n",
              "          const docLink = document.createElement('div');\n",
              "          docLink.innerHTML = docLinkHtml;\n",
              "          element.appendChild(docLink);\n",
              "        }\n",
              "      </script>\n",
              "    </div>\n",
              "  </div>\n",
              "  "
            ]
          },
          "metadata": {},
          "execution_count": 389
        }
      ],
      "source": [
        "df.describe()"
      ]
    },
    {
      "cell_type": "code",
      "source": [
        "df.dtypes"
      ],
      "metadata": {
        "colab": {
          "base_uri": "https://localhost:8080/"
        },
        "id": "StNIojy6jI01",
        "outputId": "ca085fbe-9380-4569-ed95-dd06b1ca75c2"
      },
      "id": "StNIojy6jI01",
      "execution_count": 390,
      "outputs": [
        {
          "output_type": "execute_result",
          "data": {
            "text/plain": [
              "Temp       float64\n",
              "DO         float64\n",
              "PH         float64\n",
              "CO         float64\n",
              "BOD        float64\n",
              "NI         float64\n",
              "Fec_col    float64\n",
              "Tot_col    float64\n",
              "year         int64\n",
              "npH          int64\n",
              "ndo          int64\n",
              "nco          int64\n",
              "nbdo         int64\n",
              "nec          int64\n",
              "nna          int64\n",
              "wph        float64\n",
              "wdo        float64\n",
              "wbdo       float64\n",
              "wec        float64\n",
              "wna        float64\n",
              "wco        float64\n",
              "wqi        float64\n",
              "dtype: object"
            ]
          },
          "metadata": {},
          "execution_count": 390
        }
      ]
    },
    {
      "cell_type": "markdown",
      "source": [
        "# Prediction - 5 Algorithms\n",
        "#  & Model Evaluation "
      ],
      "metadata": {
        "id": "lNQJq8856CVW"
      },
      "id": "lNQJq8856CVW"
    },
    {
      "cell_type": "code",
      "source": [
        "pip install sklearn"
      ],
      "metadata": {
        "colab": {
          "base_uri": "https://localhost:8080/"
        },
        "id": "aVwSV3cR-K95",
        "outputId": "8df044e9-98b7-4075-e20e-77ea67844935"
      },
      "id": "aVwSV3cR-K95",
      "execution_count": 391,
      "outputs": [
        {
          "output_type": "stream",
          "name": "stdout",
          "text": [
            "Looking in indexes: https://pypi.org/simple, https://us-python.pkg.dev/colab-wheels/public/simple/\n",
            "Requirement already satisfied: sklearn in /usr/local/lib/python3.7/dist-packages (0.0.post1)\n"
          ]
        }
      ]
    },
    {
      "cell_type": "code",
      "source": [
        "#Splitting the data into dependent and independent variables\n",
        "X= df[['year', 'DO', 'PH', 'CO','BOD','NI','Tot_col']]  \n",
        "df['wqi']=df['wqi'].astype('int')\n",
        "Y= df[['wqi']]"
      ],
      "metadata": {
        "id": "vs5yX7AEBQVi",
        "colab": {
          "base_uri": "https://localhost:8080/"
        },
        "outputId": "b2bb41a9-5bc8-491b-a51d-3dd80a9217ba"
      },
      "id": "vs5yX7AEBQVi",
      "execution_count": 392,
      "outputs": [
        {
          "output_type": "stream",
          "name": "stderr",
          "text": [
            "/usr/local/lib/python3.7/dist-packages/ipykernel_launcher.py:3: SettingWithCopyWarning: \n",
            "A value is trying to be set on a copy of a slice from a DataFrame.\n",
            "Try using .loc[row_indexer,col_indexer] = value instead\n",
            "\n",
            "See the caveats in the documentation: https://pandas.pydata.org/pandas-docs/stable/user_guide/indexing.html#returning-a-view-versus-a-copy\n",
            "  This is separate from the ipykernel package so we can avoid doing imports until\n"
          ]
        }
      ]
    },
    {
      "cell_type": "code",
      "source": [
        "X.shape"
      ],
      "metadata": {
        "colab": {
          "base_uri": "https://localhost:8080/"
        },
        "id": "We55NCXyX6F1",
        "outputId": "9e771a4a-3e10-4f12-e7b8-ed70c81edb47"
      },
      "id": "We55NCXyX6F1",
      "execution_count": 393,
      "outputs": [
        {
          "output_type": "execute_result",
          "data": {
            "text/plain": [
              "(1900, 7)"
            ]
          },
          "metadata": {},
          "execution_count": 393
        }
      ]
    },
    {
      "cell_type": "code",
      "source": [
        "Y.shape"
      ],
      "metadata": {
        "colab": {
          "base_uri": "https://localhost:8080/"
        },
        "id": "mffzDzJaX76l",
        "outputId": "e71e44b6-9c80-4bb8-dacc-1e1e07f71d5c"
      },
      "id": "mffzDzJaX76l",
      "execution_count": 394,
      "outputs": [
        {
          "output_type": "execute_result",
          "data": {
            "text/plain": [
              "(1900, 1)"
            ]
          },
          "metadata": {},
          "execution_count": 394
        }
      ]
    },
    {
      "cell_type": "code",
      "source": [
        "from sklearn.model_selection import train_test_split\n",
        "from sklearn.tree import DecisionTreeClassifier\n",
        "from sklearn.neighbors import KNeighborsClassifier\n",
        "from sklearn.neural_network import MLPClassifier\n",
        "from sklearn.ensemble import RandomForestClassifier\n",
        "from sklearn import linear_model\n",
        "from sklearn import metrics \n",
        "import math\n",
        "from sklearn.metrics import mean_squared_error\n",
        "\n",
        "X_train, X_test, Y_train, Y_test = train_test_split( X, Y,test_size=0.2, random_state=10)\n",
        "\n",
        "#from sklearn.preprocessing import StandardScaler\n",
        "#sc_X = StandardScaler()\n",
        "#X_train = sc_X.fit_transform(X_train)\n",
        "#X_test = sc_X.transform(X_test)\n",
        "\n",
        "#{Decision Tree Model}\n",
        "clf = DecisionTreeClassifier()\n",
        "clf = clf.fit(X_train,Y_train)\n",
        "clf_pred=clf.predict(X_test)\n",
        "clf_accuracy=metrics.accuracy_score(Y_test,clf_pred)\n",
        "print(\"1) Using Decision Tree Prediction, Accuracy is \" + str(clf_accuracy))\n",
        "\n",
        "#{K Neighbors Classifier}\n",
        "knn = KNeighborsClassifier(n_neighbors=7)\n",
        "knn=knn.fit(X_train,Y_train.values.ravel())\n",
        "knn_pred=knn.predict(X_test)\n",
        "knn_accuracy=metrics.accuracy_score(Y_test,knn_pred)\n",
        "print (\"2) Using K Neighbors Classifier Prediction, Accuracy is \" + str(knn_accuracy))\n",
        "\n",
        "#{using MLPClassifier}\n",
        "mlpc = MLPClassifier()\n",
        "mlpc.fit(X_train,Y_train.values.ravel())\n",
        "mlpc_pred=mlpc.predict(X_test)\n",
        "mlpc_accuracy=metrics.accuracy_score(Y_test,mlpc_pred)\n",
        "print (\"3) Using MLPC Classifier Prediction, Accuracy is \" + str(mlpc_accuracy))\n",
        "\n",
        "#{using MLPClassifier}\n",
        "rfor = RandomForestClassifier()\n",
        "rfor.fit(X_train,Y_train.values.ravel())\n",
        "rfor_pred=rfor.predict(X_test)\n",
        "rfor_accuracy=metrics.accuracy_score(Y_test,rfor_pred)\n",
        "print (\"4) Using RandomForest Classifier Prediction, Accuracy is \" + str(rfor_accuracy))\n",
        "\n",
        "#{using Linear Regression}\n",
        "linreg=linear_model.LinearRegression()\n",
        "linreg.fit(X_train,Y_train)\n",
        "linreg_pred=rfor.predict(X_test)\n",
        "linreg_accuracy=metrics.accuracy_score(Y_test,linreg_pred)\n",
        "rmse = math.sqrt(mean_squared_error(Y_test,linreg_pred))\n",
        "print (\"5) Using Linear Regression Prediction, Accuracy is \" + str(linreg_accuracy))"
      ],
      "metadata": {
        "colab": {
          "base_uri": "https://localhost:8080/"
        },
        "id": "4TeIelwF6CHO",
        "outputId": "23a6f689-c9f9-4143-ed23-a2177420e8b7"
      },
      "id": "4TeIelwF6CHO",
      "execution_count": 395,
      "outputs": [
        {
          "output_type": "stream",
          "name": "stdout",
          "text": [
            "1) Using Decision Tree Prediction, Accuracy is 0.8157894736842105\n",
            "2) Using K Neighbors Classifier Prediction, Accuracy is 0.3157894736842105\n",
            "3) Using MLPC Classifier Prediction, Accuracy is 0.12368421052631579\n",
            "4) Using RandomForest Classifier Prediction, Accuracy is 0.8210526315789474\n",
            "5) Using Linear Regression Prediction, Accuracy is 0.8210526315789474\n"
          ]
        }
      ]
    },
    {
      "cell_type": "markdown",
      "source": [
        "# Accuracy found maximum in RandomForest and Linear Regression\n",
        "\n",
        "\n",
        "\n",
        "*   Decision Tree - 81.57%\n",
        "*   KNN - 31.57%\n",
        "*   MLPC classifier - 12.36%\n",
        "*   Random Forest - 82.10%\n",
        "*   Linear Regression - 82.10% \n",
        "\n"
      ],
      "metadata": {
        "id": "CIbYREaFCJCd"
      },
      "id": "CIbYREaFCJCd"
    },
    {
      "cell_type": "markdown",
      "source": [
        "# Model Evaluation"
      ],
      "metadata": {
        "id": "rtOyD1VN4Uek"
      },
      "id": "rtOyD1VN4Uek"
    },
    {
      "cell_type": "code",
      "source": [
        "metrics.confusion_matrix(Y_test, rfor_pred)"
      ],
      "metadata": {
        "colab": {
          "base_uri": "https://localhost:8080/"
        },
        "id": "FUhqsHhN4Wkv",
        "outputId": "a91b0c1d-1ab7-4cb9-f6c4-32d6595fc377"
      },
      "id": "FUhqsHhN4Wkv",
      "execution_count": 396,
      "outputs": [
        {
          "output_type": "execute_result",
          "data": {
            "text/plain": [
              "array([[ 0,  0,  1, ...,  0,  0,  0],\n",
              "       [ 0,  0,  0, ...,  0,  0,  0],\n",
              "       [ 0,  0,  4, ...,  0,  0,  0],\n",
              "       ...,\n",
              "       [ 0,  0,  0, ..., 12,  0,  0],\n",
              "       [ 0,  0,  0, ...,  0, 11,  0],\n",
              "       [ 0,  0,  0, ...,  1,  1,  1]])"
            ]
          },
          "metadata": {},
          "execution_count": 396
        }
      ]
    },
    {
      "cell_type": "code",
      "source": [
        "print(metrics.classification_report(Y_test, rfor_pred))"
      ],
      "metadata": {
        "colab": {
          "base_uri": "https://localhost:8080/"
        },
        "id": "whfWx53u5bGL",
        "outputId": "76b14e24-4192-406f-8c80-87b3dcb29447"
      },
      "id": "whfWx53u5bGL",
      "execution_count": 397,
      "outputs": [
        {
          "output_type": "stream",
          "name": "stdout",
          "text": [
            "              precision    recall  f1-score   support\n",
            "\n",
            "          30       0.00      0.00      0.00         1\n",
            "          32       0.00      0.00      0.00         1\n",
            "          33       0.67      1.00      0.80         4\n",
            "          37       0.00      0.00      0.00         0\n",
            "          38       0.00      0.00      0.00         1\n",
            "          41       0.00      0.00      0.00         1\n",
            "          44       0.50      0.67      0.57         3\n",
            "          45       0.00      0.00      0.00         1\n",
            "          47       0.00      0.00      0.00         0\n",
            "          50       0.71      0.83      0.77         6\n",
            "          51       0.00      0.00      0.00         2\n",
            "          52       0.00      0.00      0.00         1\n",
            "          53       0.00      0.00      0.00         1\n",
            "          54       0.00      0.00      0.00         1\n",
            "          55       0.85      0.85      0.85        13\n",
            "          56       0.00      0.00      0.00         2\n",
            "          58       0.00      0.00      0.00         1\n",
            "          59       0.00      0.00      0.00         1\n",
            "          60       1.00      0.67      0.80         6\n",
            "          61       0.79      0.94      0.86        16\n",
            "          62       0.00      0.00      0.00         1\n",
            "          64       0.00      0.00      0.00         1\n",
            "          65       0.00      0.00      0.00         3\n",
            "          66       0.73      0.62      0.67        13\n",
            "          67       0.71      0.77      0.74        13\n",
            "          68       0.00      0.00      0.00         2\n",
            "          69       0.50      1.00      0.67         1\n",
            "          70       0.67      1.00      0.80         6\n",
            "          71       0.83      0.62      0.71         8\n",
            "          72       0.75      0.88      0.81        17\n",
            "          73       0.78      0.64      0.70        11\n",
            "          74       0.00      0.00      0.00         1\n",
            "          75       0.00      0.00      0.00         2\n",
            "          76       0.81      0.76      0.79        17\n",
            "          77       0.78      0.88      0.82         8\n",
            "          78       0.71      0.67      0.69        15\n",
            "          79       0.80      0.89      0.84        18\n",
            "          81       0.50      1.00      0.67         2\n",
            "          82       0.93      0.97      0.95        69\n",
            "          83       0.80      0.89      0.84        18\n",
            "          84       0.86      1.00      0.92         6\n",
            "          85       0.83      0.83      0.83         6\n",
            "          87       1.00      1.00      1.00         4\n",
            "          88       0.93      0.98      0.95        42\n",
            "          89       0.86      1.00      0.92         6\n",
            "          90       1.00      1.00      1.00         2\n",
            "          93       0.92      1.00      0.96        12\n",
            "          94       0.92      1.00      0.96        11\n",
            "          99       1.00      0.33      0.50         3\n",
            "\n",
            "    accuracy                           0.82       380\n",
            "   macro avg       0.47      0.50      0.48       380\n",
            "weighted avg       0.79      0.82      0.80       380\n",
            "\n"
          ]
        },
        {
          "output_type": "stream",
          "name": "stderr",
          "text": [
            "/usr/local/lib/python3.7/dist-packages/sklearn/metrics/_classification.py:1318: UndefinedMetricWarning: Precision and F-score are ill-defined and being set to 0.0 in labels with no predicted samples. Use `zero_division` parameter to control this behavior.\n",
            "  _warn_prf(average, modifier, msg_start, len(result))\n",
            "/usr/local/lib/python3.7/dist-packages/sklearn/metrics/_classification.py:1318: UndefinedMetricWarning: Recall and F-score are ill-defined and being set to 0.0 in labels with no true samples. Use `zero_division` parameter to control this behavior.\n",
            "  _warn_prf(average, modifier, msg_start, len(result))\n",
            "/usr/local/lib/python3.7/dist-packages/sklearn/metrics/_classification.py:1318: UndefinedMetricWarning: Precision and F-score are ill-defined and being set to 0.0 in labels with no predicted samples. Use `zero_division` parameter to control this behavior.\n",
            "  _warn_prf(average, modifier, msg_start, len(result))\n",
            "/usr/local/lib/python3.7/dist-packages/sklearn/metrics/_classification.py:1318: UndefinedMetricWarning: Recall and F-score are ill-defined and being set to 0.0 in labels with no true samples. Use `zero_division` parameter to control this behavior.\n",
            "  _warn_prf(average, modifier, msg_start, len(result))\n",
            "/usr/local/lib/python3.7/dist-packages/sklearn/metrics/_classification.py:1318: UndefinedMetricWarning: Precision and F-score are ill-defined and being set to 0.0 in labels with no predicted samples. Use `zero_division` parameter to control this behavior.\n",
            "  _warn_prf(average, modifier, msg_start, len(result))\n",
            "/usr/local/lib/python3.7/dist-packages/sklearn/metrics/_classification.py:1318: UndefinedMetricWarning: Recall and F-score are ill-defined and being set to 0.0 in labels with no true samples. Use `zero_division` parameter to control this behavior.\n",
            "  _warn_prf(average, modifier, msg_start, len(result))\n"
          ]
        }
      ]
    },
    {
      "cell_type": "markdown",
      "source": [
        "\n",
        "# Saving the model"
      ],
      "metadata": {
        "id": "lCfYhonbAu7c"
      },
      "id": "lCfYhonbAu7c"
    },
    {
      "cell_type": "code",
      "source": [
        "pip install sklearn"
      ],
      "metadata": {
        "colab": {
          "base_uri": "https://localhost:8080/"
        },
        "id": "EU1-Bq2MF6bm",
        "outputId": "6777f772-76dd-4df0-b50e-e91f23ebf1d9"
      },
      "id": "EU1-Bq2MF6bm",
      "execution_count": 398,
      "outputs": [
        {
          "output_type": "stream",
          "name": "stdout",
          "text": [
            "Looking in indexes: https://pypi.org/simple, https://us-python.pkg.dev/colab-wheels/public/simple/\n",
            "Requirement already satisfied: sklearn in /usr/local/lib/python3.7/dist-packages (0.0.post1)\n"
          ]
        }
      ]
    },
    {
      "cell_type": "code",
      "source": [
        "# loading library\n",
        "import pickle\n",
        "# create an iterator object with write permission - model.pkl\n",
        "with open('WaterQuality_RFModel.pkl', 'wb') as files:\n",
        "    pickle.dump(rfor, files)"
      ],
      "metadata": {
        "id": "xB32vQKnAyhO"
      },
      "id": "xB32vQKnAyhO",
      "execution_count": 399,
      "outputs": []
    },
    {
      "cell_type": "markdown",
      "source": [
        "# Example"
      ],
      "metadata": {
        "id": "cBaNMvXV6PmO"
      },
      "id": "cBaNMvXV6PmO"
    },
    {
      "cell_type": "code",
      "source": [
        "#Working out on input values\n",
        "t=[[ 6.7,7.50,203.0,1.8965,0.100,27.0,2001]]\n",
        "output=rfor.predict(t)\n",
        "output\n"
      ],
      "metadata": {
        "colab": {
          "base_uri": "https://localhost:8080/"
        },
        "id": "Ir0pzc6LB1q2",
        "outputId": "cd0f6c7f-5d8f-4ae5-825e-16921ffe0644"
      },
      "id": "Ir0pzc6LB1q2",
      "execution_count": 400,
      "outputs": [
        {
          "output_type": "stream",
          "name": "stderr",
          "text": [
            "/usr/local/lib/python3.7/dist-packages/sklearn/base.py:451: UserWarning: X does not have valid feature names, but RandomForestClassifier was fitted with feature names\n",
            "  \"X does not have valid feature names, but\"\n"
          ]
        },
        {
          "output_type": "execute_result",
          "data": {
            "text/plain": [
              "array([82])"
            ]
          },
          "metadata": {},
          "execution_count": 400
        }
      ]
    },
    {
      "cell_type": "markdown",
      "source": [
        "# END OF ANALYSIS"
      ],
      "metadata": {
        "id": "2ZPKaYYa-Tus"
      },
      "id": "2ZPKaYYa-Tus"
    }
  ],
  "metadata": {
    "kernelspec": {
      "display_name": "Python 3",
      "language": "python",
      "name": "python3"
    },
    "language_info": {
      "codemirror_mode": {
        "name": "ipython",
        "version": 3
      },
      "file_extension": ".py",
      "mimetype": "text/x-python",
      "name": "python",
      "nbconvert_exporter": "python",
      "pygments_lexer": "ipython3",
      "version": "3.7.10"
    },
    "papermill": {
      "default_parameters": {},
      "duration": 21.833294,
      "end_time": "2021-09-21T16:06:49.842380",
      "environment_variables": {},
      "exception": null,
      "input_path": "__notebook__.ipynb",
      "output_path": "__notebook__.ipynb",
      "parameters": {},
      "start_time": "2021-09-21T16:06:28.009086",
      "version": "2.3.3"
    },
    "colab": {
      "provenance": [],
      "collapsed_sections": [
        "a6f803e9",
        "2OlQdOmr3NlQ",
        "Uo5ZE5gU3Xpw",
        "PP_zelVx3j_L"
      ]
    }
  },
  "nbformat": 4,
  "nbformat_minor": 5
}