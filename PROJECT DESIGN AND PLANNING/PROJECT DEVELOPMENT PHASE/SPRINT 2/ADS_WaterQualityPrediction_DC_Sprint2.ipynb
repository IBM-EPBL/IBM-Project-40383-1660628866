{
  "cells": [
    {
      "cell_type": "markdown",
      "source": [
        "# **Essential Water Quality Analysis & Prediction**\n",
        "\n",
        "Team members:\n",
        "\n",
        "\n",
        "1.   Donifa Babu B M\n",
        "2.   Eshwaran ABR\n",
        "3.   Sadurthika M\n",
        "4.   Vishnuram VR"
      ],
      "metadata": {
        "id": "ny-rD2O-zzbV"
      },
      "id": "ny-rD2O-zzbV"
    },
    {
      "cell_type": "markdown",
      "source": [
        "# Upload dataset"
      ],
      "metadata": {
        "id": "UES931crz-wY"
      },
      "id": "UES931crz-wY"
    },
    {
      "cell_type": "code",
      "execution_count": null,
      "id": "79c68002",
      "metadata": {
        "execution": {
          "iopub.execute_input": "2021-09-21T16:06:36.147870Z",
          "iopub.status.busy": "2021-09-21T16:06:36.147011Z",
          "iopub.status.idle": "2021-09-21T16:06:37.308193Z",
          "shell.execute_reply": "2021-09-21T16:06:37.309334Z",
          "shell.execute_reply.started": "2021-09-14T13:36:25.869208Z"
        },
        "papermill": {
          "duration": 1.215514,
          "end_time": "2021-09-21T16:06:37.309740",
          "exception": false,
          "start_time": "2021-09-21T16:06:36.094226",
          "status": "completed"
        },
        "tags": [],
        "id": "79c68002"
      },
      "outputs": [],
      "source": [
        "import numpy as np\n",
        "import pandas as pd\n",
        "import seaborn as sns \n",
        "import matplotlib.pyplot as plt\n",
        "from sklearn.impute import SimpleImputer\n",
        "from sklearn.neighbors import LocalOutlierFactor\n",
        "from scipy.stats import probplot\n",
        "from scipy.stats import zscore"
      ]
    },
    {
      "cell_type": "code",
      "execution_count": null,
      "id": "4739a8f1",
      "metadata": {
        "execution": {
          "iopub.execute_input": "2021-09-21T16:06:37.394926Z",
          "iopub.status.busy": "2021-09-21T16:06:37.394207Z",
          "iopub.status.idle": "2021-09-21T16:06:37.430450Z",
          "shell.execute_reply": "2021-09-21T16:06:37.431088Z",
          "shell.execute_reply.started": "2021-09-14T13:36:27.094224Z"
        },
        "papermill": {
          "duration": 0.079534,
          "end_time": "2021-09-21T16:06:37.431297",
          "exception": false,
          "start_time": "2021-09-21T16:06:37.351763",
          "status": "completed"
        },
        "tags": [],
        "colab": {
          "base_uri": "https://localhost:8080/"
        },
        "id": "4739a8f1",
        "outputId": "e3dd2af2-626a-4f89-823f-b8089cb832fa"
      },
      "outputs": [
        {
          "output_type": "execute_result",
          "data": {
            "text/plain": [
              "(1900, 12)"
            ]
          },
          "metadata": {},
          "execution_count": 567
        }
      ],
      "source": [
        "# Importing the dataset\n",
        "df = pd.read_csv(\"water_dataX.csv\", encoding= 'unicode_escape')\n",
        "# Selecting 1900 samples, because samples having indices greater than 1900 are not correct\n",
        "df = df.iloc[0:1900, :]\n",
        "df.shape"
      ]
    },
    {
      "cell_type": "code",
      "execution_count": null,
      "id": "1f210219",
      "metadata": {
        "execution": {
          "iopub.execute_input": "2021-09-21T16:06:37.519972Z",
          "iopub.status.busy": "2021-09-21T16:06:37.519290Z",
          "iopub.status.idle": "2021-09-21T16:06:37.522747Z",
          "shell.execute_reply": "2021-09-21T16:06:37.522111Z",
          "shell.execute_reply.started": "2021-09-14T13:36:27.128207Z"
        },
        "papermill": {
          "duration": 0.051288,
          "end_time": "2021-09-21T16:06:37.522891",
          "exception": false,
          "start_time": "2021-09-21T16:06:37.471603",
          "status": "completed"
        },
        "tags": [],
        "colab": {
          "base_uri": "https://localhost:8080/"
        },
        "id": "1f210219",
        "outputId": "47d9f883-e8f7-4d16-f6b8-8d4cd859936f"
      },
      "outputs": [
        {
          "output_type": "execute_result",
          "data": {
            "text/plain": [
              "STATION CODE                        object\n",
              "LOCATIONS                           object\n",
              "STATE                               object\n",
              "Temp                                object\n",
              "D.O. (mg/l)                         object\n",
              "PH                                  object\n",
              "CONDUCTIVITY (µmhos/cm)             object\n",
              "B.O.D. (mg/l)                       object\n",
              "NITRATENAN N+ NITRITENANN (mg/l)    object\n",
              "FECAL COLIFORM (MPN/100ml)          object\n",
              "TOTAL COLIFORM (MPN/100ml)Mean      object\n",
              "year                                 int64\n",
              "dtype: object"
            ]
          },
          "metadata": {},
          "execution_count": 568
        }
      ],
      "source": [
        "# Checking for datatypes of the dataset\n",
        "df.dtypes"
      ]
    },
    {
      "cell_type": "code",
      "execution_count": null,
      "id": "b8e356a6",
      "metadata": {
        "execution": {
          "iopub.execute_input": "2021-09-21T16:06:37.604435Z",
          "iopub.status.busy": "2021-09-21T16:06:37.603747Z",
          "iopub.status.idle": "2021-09-21T16:06:37.624521Z",
          "shell.execute_reply": "2021-09-21T16:06:37.623665Z",
          "shell.execute_reply.started": "2021-09-14T13:36:27.140836Z"
        },
        "papermill": {
          "duration": 0.062417,
          "end_time": "2021-09-21T16:06:37.624761",
          "exception": false,
          "start_time": "2021-09-21T16:06:37.562344",
          "status": "completed"
        },
        "tags": [],
        "colab": {
          "base_uri": "https://localhost:8080/",
          "height": 424
        },
        "id": "b8e356a6",
        "outputId": "f70a3340-f990-45ad-ab85-875a977a3181"
      },
      "outputs": [
        {
          "output_type": "execute_result",
          "data": {
            "text/plain": [
              "  STATION CODE                                          LOCATIONS  \\\n",
              "0         1393               DAMANGANGA AT D/S OF MADHUBAN, DAMAN   \n",
              "1         1399  ZUARI AT D/S OF PT. WHERE KUMBARJRIA CANAL JOI...   \n",
              "2         1475                                ZUARI AT PANCHAWADI   \n",
              "3         3181                        RIVER ZUARI AT BORIM BRIDGE   \n",
              "4         3182                       RIVER ZUARI AT MARCAIM JETTY   \n",
              "\n",
              "         STATE  Temp D.O. (mg/l)   PH CONDUCTIVITY (µmhos/cm) B.O.D. (mg/l)  \\\n",
              "0  DAMAN & DIU  30.6         6.7  7.5                     203           NAN   \n",
              "1          GOA  29.8         5.7  7.2                     189             2   \n",
              "2          GOA  29.5         6.3  6.9                     179           1.7   \n",
              "3          GOA  29.7         5.8  6.9                      64           3.8   \n",
              "4          GOA  29.5         5.8  7.3                      83           1.9   \n",
              "\n",
              "  NITRATENAN N+ NITRITENANN (mg/l) FECAL COLIFORM (MPN/100ml)  \\\n",
              "0                              0.1                         11   \n",
              "1                              0.2                       4953   \n",
              "2                              0.1                       3243   \n",
              "3                              0.5                       5382   \n",
              "4                              0.4                       3428   \n",
              "\n",
              "  TOTAL COLIFORM (MPN/100ml)Mean  year  \n",
              "0                             27  2014  \n",
              "1                           8391  2014  \n",
              "2                           5330  2014  \n",
              "3                           8443  2014  \n",
              "4                           5500  2014  "
            ],
            "text/html": [
              "\n",
              "  <div id=\"df-6ee5aa6f-35d2-4ad4-80c7-7ffd5d87aa1c\">\n",
              "    <div class=\"colab-df-container\">\n",
              "      <div>\n",
              "<style scoped>\n",
              "    .dataframe tbody tr th:only-of-type {\n",
              "        vertical-align: middle;\n",
              "    }\n",
              "\n",
              "    .dataframe tbody tr th {\n",
              "        vertical-align: top;\n",
              "    }\n",
              "\n",
              "    .dataframe thead th {\n",
              "        text-align: right;\n",
              "    }\n",
              "</style>\n",
              "<table border=\"1\" class=\"dataframe\">\n",
              "  <thead>\n",
              "    <tr style=\"text-align: right;\">\n",
              "      <th></th>\n",
              "      <th>STATION CODE</th>\n",
              "      <th>LOCATIONS</th>\n",
              "      <th>STATE</th>\n",
              "      <th>Temp</th>\n",
              "      <th>D.O. (mg/l)</th>\n",
              "      <th>PH</th>\n",
              "      <th>CONDUCTIVITY (µmhos/cm)</th>\n",
              "      <th>B.O.D. (mg/l)</th>\n",
              "      <th>NITRATENAN N+ NITRITENANN (mg/l)</th>\n",
              "      <th>FECAL COLIFORM (MPN/100ml)</th>\n",
              "      <th>TOTAL COLIFORM (MPN/100ml)Mean</th>\n",
              "      <th>year</th>\n",
              "    </tr>\n",
              "  </thead>\n",
              "  <tbody>\n",
              "    <tr>\n",
              "      <th>0</th>\n",
              "      <td>1393</td>\n",
              "      <td>DAMANGANGA AT D/S OF MADHUBAN, DAMAN</td>\n",
              "      <td>DAMAN &amp; DIU</td>\n",
              "      <td>30.6</td>\n",
              "      <td>6.7</td>\n",
              "      <td>7.5</td>\n",
              "      <td>203</td>\n",
              "      <td>NAN</td>\n",
              "      <td>0.1</td>\n",
              "      <td>11</td>\n",
              "      <td>27</td>\n",
              "      <td>2014</td>\n",
              "    </tr>\n",
              "    <tr>\n",
              "      <th>1</th>\n",
              "      <td>1399</td>\n",
              "      <td>ZUARI AT D/S OF PT. WHERE KUMBARJRIA CANAL JOI...</td>\n",
              "      <td>GOA</td>\n",
              "      <td>29.8</td>\n",
              "      <td>5.7</td>\n",
              "      <td>7.2</td>\n",
              "      <td>189</td>\n",
              "      <td>2</td>\n",
              "      <td>0.2</td>\n",
              "      <td>4953</td>\n",
              "      <td>8391</td>\n",
              "      <td>2014</td>\n",
              "    </tr>\n",
              "    <tr>\n",
              "      <th>2</th>\n",
              "      <td>1475</td>\n",
              "      <td>ZUARI AT PANCHAWADI</td>\n",
              "      <td>GOA</td>\n",
              "      <td>29.5</td>\n",
              "      <td>6.3</td>\n",
              "      <td>6.9</td>\n",
              "      <td>179</td>\n",
              "      <td>1.7</td>\n",
              "      <td>0.1</td>\n",
              "      <td>3243</td>\n",
              "      <td>5330</td>\n",
              "      <td>2014</td>\n",
              "    </tr>\n",
              "    <tr>\n",
              "      <th>3</th>\n",
              "      <td>3181</td>\n",
              "      <td>RIVER ZUARI AT BORIM BRIDGE</td>\n",
              "      <td>GOA</td>\n",
              "      <td>29.7</td>\n",
              "      <td>5.8</td>\n",
              "      <td>6.9</td>\n",
              "      <td>64</td>\n",
              "      <td>3.8</td>\n",
              "      <td>0.5</td>\n",
              "      <td>5382</td>\n",
              "      <td>8443</td>\n",
              "      <td>2014</td>\n",
              "    </tr>\n",
              "    <tr>\n",
              "      <th>4</th>\n",
              "      <td>3182</td>\n",
              "      <td>RIVER ZUARI AT MARCAIM JETTY</td>\n",
              "      <td>GOA</td>\n",
              "      <td>29.5</td>\n",
              "      <td>5.8</td>\n",
              "      <td>7.3</td>\n",
              "      <td>83</td>\n",
              "      <td>1.9</td>\n",
              "      <td>0.4</td>\n",
              "      <td>3428</td>\n",
              "      <td>5500</td>\n",
              "      <td>2014</td>\n",
              "    </tr>\n",
              "  </tbody>\n",
              "</table>\n",
              "</div>\n",
              "      <button class=\"colab-df-convert\" onclick=\"convertToInteractive('df-6ee5aa6f-35d2-4ad4-80c7-7ffd5d87aa1c')\"\n",
              "              title=\"Convert this dataframe to an interactive table.\"\n",
              "              style=\"display:none;\">\n",
              "        \n",
              "  <svg xmlns=\"http://www.w3.org/2000/svg\" height=\"24px\"viewBox=\"0 0 24 24\"\n",
              "       width=\"24px\">\n",
              "    <path d=\"M0 0h24v24H0V0z\" fill=\"none\"/>\n",
              "    <path d=\"M18.56 5.44l.94 2.06.94-2.06 2.06-.94-2.06-.94-.94-2.06-.94 2.06-2.06.94zm-11 1L8.5 8.5l.94-2.06 2.06-.94-2.06-.94L8.5 2.5l-.94 2.06-2.06.94zm10 10l.94 2.06.94-2.06 2.06-.94-2.06-.94-.94-2.06-.94 2.06-2.06.94z\"/><path d=\"M17.41 7.96l-1.37-1.37c-.4-.4-.92-.59-1.43-.59-.52 0-1.04.2-1.43.59L10.3 9.45l-7.72 7.72c-.78.78-.78 2.05 0 2.83L4 21.41c.39.39.9.59 1.41.59.51 0 1.02-.2 1.41-.59l7.78-7.78 2.81-2.81c.8-.78.8-2.07 0-2.86zM5.41 20L4 18.59l7.72-7.72 1.47 1.35L5.41 20z\"/>\n",
              "  </svg>\n",
              "      </button>\n",
              "      \n",
              "  <style>\n",
              "    .colab-df-container {\n",
              "      display:flex;\n",
              "      flex-wrap:wrap;\n",
              "      gap: 12px;\n",
              "    }\n",
              "\n",
              "    .colab-df-convert {\n",
              "      background-color: #E8F0FE;\n",
              "      border: none;\n",
              "      border-radius: 50%;\n",
              "      cursor: pointer;\n",
              "      display: none;\n",
              "      fill: #1967D2;\n",
              "      height: 32px;\n",
              "      padding: 0 0 0 0;\n",
              "      width: 32px;\n",
              "    }\n",
              "\n",
              "    .colab-df-convert:hover {\n",
              "      background-color: #E2EBFA;\n",
              "      box-shadow: 0px 1px 2px rgba(60, 64, 67, 0.3), 0px 1px 3px 1px rgba(60, 64, 67, 0.15);\n",
              "      fill: #174EA6;\n",
              "    }\n",
              "\n",
              "    [theme=dark] .colab-df-convert {\n",
              "      background-color: #3B4455;\n",
              "      fill: #D2E3FC;\n",
              "    }\n",
              "\n",
              "    [theme=dark] .colab-df-convert:hover {\n",
              "      background-color: #434B5C;\n",
              "      box-shadow: 0px 1px 3px 1px rgba(0, 0, 0, 0.15);\n",
              "      filter: drop-shadow(0px 1px 2px rgba(0, 0, 0, 0.3));\n",
              "      fill: #FFFFFF;\n",
              "    }\n",
              "  </style>\n",
              "\n",
              "      <script>\n",
              "        const buttonEl =\n",
              "          document.querySelector('#df-6ee5aa6f-35d2-4ad4-80c7-7ffd5d87aa1c button.colab-df-convert');\n",
              "        buttonEl.style.display =\n",
              "          google.colab.kernel.accessAllowed ? 'block' : 'none';\n",
              "\n",
              "        async function convertToInteractive(key) {\n",
              "          const element = document.querySelector('#df-6ee5aa6f-35d2-4ad4-80c7-7ffd5d87aa1c');\n",
              "          const dataTable =\n",
              "            await google.colab.kernel.invokeFunction('convertToInteractive',\n",
              "                                                     [key], {});\n",
              "          if (!dataTable) return;\n",
              "\n",
              "          const docLinkHtml = 'Like what you see? Visit the ' +\n",
              "            '<a target=\"_blank\" href=https://colab.research.google.com/notebooks/data_table.ipynb>data table notebook</a>'\n",
              "            + ' to learn more about interactive tables.';\n",
              "          element.innerHTML = '';\n",
              "          dataTable['output_type'] = 'display_data';\n",
              "          await google.colab.output.renderOutput(dataTable, element);\n",
              "          const docLink = document.createElement('div');\n",
              "          docLink.innerHTML = docLinkHtml;\n",
              "          element.appendChild(docLink);\n",
              "        }\n",
              "      </script>\n",
              "    </div>\n",
              "  </div>\n",
              "  "
            ]
          },
          "metadata": {},
          "execution_count": 569
        }
      ],
      "source": [
        "df.head()"
      ]
    },
    {
      "cell_type": "code",
      "execution_count": null,
      "id": "21f5a081",
      "metadata": {
        "execution": {
          "iopub.execute_input": "2021-09-21T16:06:37.705974Z",
          "iopub.status.busy": "2021-09-21T16:06:37.705256Z",
          "iopub.status.idle": "2021-09-21T16:06:37.713751Z",
          "shell.execute_reply": "2021-09-21T16:06:37.713047Z",
          "shell.execute_reply.started": "2021-09-14T13:36:27.172084Z"
        },
        "papermill": {
          "duration": 0.049841,
          "end_time": "2021-09-21T16:06:37.713899",
          "exception": false,
          "start_time": "2021-09-21T16:06:37.664058",
          "status": "completed"
        },
        "tags": [],
        "id": "21f5a081"
      },
      "outputs": [],
      "source": [
        "# Changing column names\n",
        "df = df.rename(columns={\"D.O. (mg/l)\": \"DO\", \"CONDUCTIVITY (µmhos/cm)\": \"Conductivity\", \"B.O.D. (mg/l)\": \"BOD\", \"NITRATENAN N+ NITRITENANN (mg/l)\": \"NI\", \"FECAL COLIFORM (MPN/100ml)\": \"Fec_col\", \"TOTAL COLIFORM (MPN/100ml)Mean\": \"Tot_col\"})"
      ]
    },
    {
      "cell_type": "markdown",
      "source": [
        "# Convert categorical variables to numeric"
      ],
      "metadata": {
        "id": "TBg2L7V005hl"
      },
      "id": "TBg2L7V005hl"
    },
    {
      "cell_type": "code",
      "execution_count": null,
      "id": "39f59e75",
      "metadata": {
        "execution": {
          "iopub.execute_input": "2021-09-21T16:06:37.878877Z",
          "iopub.status.busy": "2021-09-21T16:06:37.873496Z",
          "iopub.status.idle": "2021-09-21T16:06:37.902306Z",
          "shell.execute_reply": "2021-09-21T16:06:37.902901Z",
          "shell.execute_reply.started": "2021-09-14T13:36:27.183143Z"
        },
        "papermill": {
          "duration": 0.071264,
          "end_time": "2021-09-21T16:06:37.903078",
          "exception": false,
          "start_time": "2021-09-21T16:06:37.831814",
          "status": "completed"
        },
        "tags": [],
        "colab": {
          "base_uri": "https://localhost:8080/"
        },
        "id": "39f59e75",
        "outputId": "97e236ad-7fea-4e77-d99b-5125026ccc2e"
      },
      "outputs": [
        {
          "output_type": "execute_result",
          "data": {
            "text/plain": [
              "STATION CODE     object\n",
              "LOCATIONS        object\n",
              "STATE            object\n",
              "Temp            float64\n",
              "DO              float64\n",
              "PH              float64\n",
              "Conductivity    float64\n",
              "BOD             float64\n",
              "NI              float64\n",
              "Fec_col         float64\n",
              "Tot_col         float64\n",
              "year              int64\n",
              "dtype: object"
            ]
          },
          "metadata": {},
          "execution_count": 571
        }
      ],
      "source": [
        "# Converting object data type to numeric\n",
        "def convert_to_numeric(df):\n",
        "    num_col = df.shape[1]\n",
        "    # Start from index 3\n",
        "    for index in range(3, num_col):\n",
        "        col_name = df.iloc[:, index].name\n",
        "        df[col_name] = pd.to_numeric(df[col_name], errors=\"coerce\")\n",
        "    return df\n",
        "\n",
        "df = convert_to_numeric(df)\n",
        "df.dtypes"
      ]
    },
    {
      "cell_type": "markdown",
      "source": [
        "# Convert NAN values "
      ],
      "metadata": {
        "id": "XtmIjc5X1TMI"
      },
      "id": "XtmIjc5X1TMI"
    },
    {
      "cell_type": "code",
      "execution_count": null,
      "id": "baca40b0",
      "metadata": {
        "execution": {
          "iopub.execute_input": "2021-09-21T16:06:37.989816Z",
          "iopub.status.busy": "2021-09-21T16:06:37.989039Z",
          "iopub.status.idle": "2021-09-21T16:06:37.996549Z",
          "shell.execute_reply": "2021-09-21T16:06:37.997125Z",
          "shell.execute_reply.started": "2021-09-14T13:36:27.218705Z"
        },
        "papermill": {
          "duration": 0.0547,
          "end_time": "2021-09-21T16:06:37.997321",
          "exception": false,
          "start_time": "2021-09-21T16:06:37.942621",
          "status": "completed"
        },
        "tags": [],
        "id": "baca40b0"
      },
      "outputs": [],
      "source": [
        "# Replacing string NAN values with actual NAN value (np.nan)\n",
        "def convert_to_nan(df):\n",
        "    n_col = df.shape[1]\n",
        "    for index in range(n_col):\n",
        "        df.iloc[:, index]  = df.iloc[:, index].replace(\"NAN\", np.nan)\n",
        "    return df\n",
        "\n",
        "df = convert_to_nan(df)"
      ]
    },
    {
      "cell_type": "code",
      "execution_count": null,
      "id": "7d2f2e93",
      "metadata": {
        "execution": {
          "iopub.execute_input": "2021-09-21T16:06:38.087430Z",
          "iopub.status.busy": "2021-09-21T16:06:38.084498Z",
          "iopub.status.idle": "2021-09-21T16:06:38.091000Z",
          "shell.execute_reply": "2021-09-21T16:06:38.090436Z",
          "shell.execute_reply.started": "2021-09-14T13:36:27.232969Z"
        },
        "papermill": {
          "duration": 0.054319,
          "end_time": "2021-09-21T16:06:38.091154",
          "exception": false,
          "start_time": "2021-09-21T16:06:38.036835",
          "status": "completed"
        },
        "tags": [],
        "colab": {
          "base_uri": "https://localhost:8080/"
        },
        "id": "7d2f2e93",
        "outputId": "53f76e39-8724-4c21-8729-73bb32a16440"
      },
      "outputs": [
        {
          "output_type": "execute_result",
          "data": {
            "text/plain": [
              "year              0\n",
              "PH                7\n",
              "Conductivity     24\n",
              "DO               30\n",
              "BOD              42\n",
              "Temp             89\n",
              "STATION CODE    120\n",
              "Tot_col         130\n",
              "LOCATIONS       183\n",
              "NI              189\n",
              "Fec_col         280\n",
              "STATE           670\n",
              "dtype: int64"
            ]
          },
          "metadata": {},
          "execution_count": 573
        }
      ],
      "source": [
        "# Checking for missing values\n",
        "df.isnull().sum().sort_values()"
      ]
    },
    {
      "cell_type": "markdown",
      "id": "a5ac5160",
      "metadata": {
        "papermill": {
          "duration": 0.038988,
          "end_time": "2021-09-21T16:06:38.169582",
          "exception": false,
          "start_time": "2021-09-21T16:06:38.130594",
          "status": "completed"
        },
        "tags": [],
        "id": "a5ac5160"
      },
      "source": [
        "# Replace NAN values with Median of column"
      ]
    },
    {
      "cell_type": "code",
      "execution_count": null,
      "id": "f8d20fcb",
      "metadata": {
        "execution": {
          "iopub.execute_input": "2021-09-21T16:06:38.264478Z",
          "iopub.status.busy": "2021-09-21T16:06:38.258443Z",
          "iopub.status.idle": "2021-09-21T16:06:38.273755Z",
          "shell.execute_reply": "2021-09-21T16:06:38.273120Z",
          "shell.execute_reply.started": "2021-09-14T13:36:27.252252Z"
        },
        "papermill": {
          "duration": 0.065077,
          "end_time": "2021-09-21T16:06:38.273904",
          "exception": false,
          "start_time": "2021-09-21T16:06:38.208827",
          "status": "completed"
        },
        "tags": [],
        "id": "f8d20fcb"
      },
      "outputs": [],
      "source": [
        "# Replacing NULL values with median of column\n",
        "# Selecting numeric data\n",
        "df_num = df.select_dtypes(exclude=\"object\")\n",
        "df_num_col = df_num.columns\n",
        "imputer = SimpleImputer(strategy=\"median\")\n",
        "\n",
        "df_num = imputer.fit_transform(df_num)\n",
        "df_num = pd.DataFrame(df_num, columns=df_num_col)"
      ]
    },
    {
      "cell_type": "code",
      "execution_count": null,
      "id": "3ec8ef85",
      "metadata": {
        "execution": {
          "iopub.execute_input": "2021-09-21T16:06:38.356090Z",
          "iopub.status.busy": "2021-09-21T16:06:38.355429Z",
          "iopub.status.idle": "2021-09-21T16:06:38.363973Z",
          "shell.execute_reply": "2021-09-21T16:06:38.364641Z",
          "shell.execute_reply.started": "2021-09-14T13:36:27.281962Z"
        },
        "papermill": {
          "duration": 0.050904,
          "end_time": "2021-09-21T16:06:38.364809",
          "exception": false,
          "start_time": "2021-09-21T16:06:38.313905",
          "status": "completed"
        },
        "tags": [],
        "colab": {
          "base_uri": "https://localhost:8080/"
        },
        "id": "3ec8ef85",
        "outputId": "907b2770-d79b-43b2-cef2-4d7bcb7c20d3"
      },
      "outputs": [
        {
          "output_type": "execute_result",
          "data": {
            "text/plain": [
              "STATION CODE    120\n",
              "LOCATIONS       183\n",
              "STATE           670\n",
              "dtype: int64"
            ]
          },
          "metadata": {},
          "execution_count": 575
        }
      ],
      "source": [
        "# Filling Categorical missing values\n",
        "df_cat = df.select_dtypes(include=\"object\")\n",
        "df_cat.isnull().sum()"
      ]
    },
    {
      "cell_type": "code",
      "execution_count": null,
      "id": "ed87eff7",
      "metadata": {
        "execution": {
          "iopub.execute_input": "2021-09-21T16:06:38.447346Z",
          "iopub.status.busy": "2021-09-21T16:06:38.446662Z",
          "iopub.status.idle": "2021-09-21T16:06:38.466945Z",
          "shell.execute_reply": "2021-09-21T16:06:38.467535Z",
          "shell.execute_reply.started": "2021-09-14T13:36:27.29464Z"
        },
        "papermill": {
          "duration": 0.063241,
          "end_time": "2021-09-21T16:06:38.467718",
          "exception": false,
          "start_time": "2021-09-21T16:06:38.404477",
          "status": "completed"
        },
        "tags": [],
        "colab": {
          "base_uri": "https://localhost:8080/",
          "height": 763
        },
        "id": "ed87eff7",
        "outputId": "6e8352a1-5155-474e-9de4-e55649746312"
      },
      "outputs": [
        {
          "output_type": "execute_result",
          "data": {
            "text/plain": [
              "     STATION CODE                                LOCATIONS  \\\n",
              "166          1330  TAMBIRAPARANI AT ARUMUGANERI, TAMILNADU   \n",
              "424          1330  TAMBIRAPARANI AT ARUMUGANERI, TAMILNADU   \n",
              "677          1330             TAMBIRAPARANI AT ARUMUGANERI   \n",
              "1168         1330             TAMBIRAPARANI AT ARUMUGANERI   \n",
              "1351         1330                                      NaN   \n",
              "1513         1330  TAMBIRAPARANI AT ARUMUGANERI, TAMILNADU   \n",
              "1626         1330  TAMBIRAPARANI AT ARUMUGANERI, TAMILNADU   \n",
              "1745         1330  TAMBIRAPARANI AT ARUMUGANERI, TAMILNADU   \n",
              "\n",
              "                                        STATE  \n",
              "166                                 TAMILNADU  \n",
              "424                                 TAMILNADU  \n",
              "677                                 TAMILNADU  \n",
              "1168                                TAMILNADU  \n",
              "1351  TAMBIRAPARANI AT ARUMUGANERI, TAMILNADU  \n",
              "1513                                TAMILNADU  \n",
              "1626                                TAMILNADU  \n",
              "1745                                TAMILNADU  "
            ],
            "text/html": [
              "\n",
              "  <div id=\"df-79353d6a-e84f-4f31-abf4-08e54885eafd\">\n",
              "    <div class=\"colab-df-container\">\n",
              "      <div>\n",
              "<style scoped>\n",
              "    .dataframe tbody tr th:only-of-type {\n",
              "        vertical-align: middle;\n",
              "    }\n",
              "\n",
              "    .dataframe tbody tr th {\n",
              "        vertical-align: top;\n",
              "    }\n",
              "\n",
              "    .dataframe thead th {\n",
              "        text-align: right;\n",
              "    }\n",
              "</style>\n",
              "<table border=\"1\" class=\"dataframe\">\n",
              "  <thead>\n",
              "    <tr style=\"text-align: right;\">\n",
              "      <th></th>\n",
              "      <th>STATION CODE</th>\n",
              "      <th>LOCATIONS</th>\n",
              "      <th>STATE</th>\n",
              "    </tr>\n",
              "  </thead>\n",
              "  <tbody>\n",
              "    <tr>\n",
              "      <th>166</th>\n",
              "      <td>1330</td>\n",
              "      <td>TAMBIRAPARANI AT ARUMUGANERI, TAMILNADU</td>\n",
              "      <td>TAMILNADU</td>\n",
              "    </tr>\n",
              "    <tr>\n",
              "      <th>424</th>\n",
              "      <td>1330</td>\n",
              "      <td>TAMBIRAPARANI AT ARUMUGANERI, TAMILNADU</td>\n",
              "      <td>TAMILNADU</td>\n",
              "    </tr>\n",
              "    <tr>\n",
              "      <th>677</th>\n",
              "      <td>1330</td>\n",
              "      <td>TAMBIRAPARANI AT ARUMUGANERI</td>\n",
              "      <td>TAMILNADU</td>\n",
              "    </tr>\n",
              "    <tr>\n",
              "      <th>1168</th>\n",
              "      <td>1330</td>\n",
              "      <td>TAMBIRAPARANI AT ARUMUGANERI</td>\n",
              "      <td>TAMILNADU</td>\n",
              "    </tr>\n",
              "    <tr>\n",
              "      <th>1351</th>\n",
              "      <td>1330</td>\n",
              "      <td>NaN</td>\n",
              "      <td>TAMBIRAPARANI AT ARUMUGANERI, TAMILNADU</td>\n",
              "    </tr>\n",
              "    <tr>\n",
              "      <th>1513</th>\n",
              "      <td>1330</td>\n",
              "      <td>TAMBIRAPARANI AT ARUMUGANERI, TAMILNADU</td>\n",
              "      <td>TAMILNADU</td>\n",
              "    </tr>\n",
              "    <tr>\n",
              "      <th>1626</th>\n",
              "      <td>1330</td>\n",
              "      <td>TAMBIRAPARANI AT ARUMUGANERI, TAMILNADU</td>\n",
              "      <td>TAMILNADU</td>\n",
              "    </tr>\n",
              "    <tr>\n",
              "      <th>1745</th>\n",
              "      <td>1330</td>\n",
              "      <td>TAMBIRAPARANI AT ARUMUGANERI, TAMILNADU</td>\n",
              "      <td>TAMILNADU</td>\n",
              "    </tr>\n",
              "  </tbody>\n",
              "</table>\n",
              "</div>\n",
              "      <button class=\"colab-df-convert\" onclick=\"convertToInteractive('df-79353d6a-e84f-4f31-abf4-08e54885eafd')\"\n",
              "              title=\"Convert this dataframe to an interactive table.\"\n",
              "              style=\"display:none;\">\n",
              "        \n",
              "  <svg xmlns=\"http://www.w3.org/2000/svg\" height=\"24px\"viewBox=\"0 0 24 24\"\n",
              "       width=\"24px\">\n",
              "    <path d=\"M0 0h24v24H0V0z\" fill=\"none\"/>\n",
              "    <path d=\"M18.56 5.44l.94 2.06.94-2.06 2.06-.94-2.06-.94-.94-2.06-.94 2.06-2.06.94zm-11 1L8.5 8.5l.94-2.06 2.06-.94-2.06-.94L8.5 2.5l-.94 2.06-2.06.94zm10 10l.94 2.06.94-2.06 2.06-.94-2.06-.94-.94-2.06-.94 2.06-2.06.94z\"/><path d=\"M17.41 7.96l-1.37-1.37c-.4-.4-.92-.59-1.43-.59-.52 0-1.04.2-1.43.59L10.3 9.45l-7.72 7.72c-.78.78-.78 2.05 0 2.83L4 21.41c.39.39.9.59 1.41.59.51 0 1.02-.2 1.41-.59l7.78-7.78 2.81-2.81c.8-.78.8-2.07 0-2.86zM5.41 20L4 18.59l7.72-7.72 1.47 1.35L5.41 20z\"/>\n",
              "  </svg>\n",
              "      </button>\n",
              "      \n",
              "  <style>\n",
              "    .colab-df-container {\n",
              "      display:flex;\n",
              "      flex-wrap:wrap;\n",
              "      gap: 12px;\n",
              "    }\n",
              "\n",
              "    .colab-df-convert {\n",
              "      background-color: #E8F0FE;\n",
              "      border: none;\n",
              "      border-radius: 50%;\n",
              "      cursor: pointer;\n",
              "      display: none;\n",
              "      fill: #1967D2;\n",
              "      height: 32px;\n",
              "      padding: 0 0 0 0;\n",
              "      width: 32px;\n",
              "    }\n",
              "\n",
              "    .colab-df-convert:hover {\n",
              "      background-color: #E2EBFA;\n",
              "      box-shadow: 0px 1px 2px rgba(60, 64, 67, 0.3), 0px 1px 3px 1px rgba(60, 64, 67, 0.15);\n",
              "      fill: #174EA6;\n",
              "    }\n",
              "\n",
              "    [theme=dark] .colab-df-convert {\n",
              "      background-color: #3B4455;\n",
              "      fill: #D2E3FC;\n",
              "    }\n",
              "\n",
              "    [theme=dark] .colab-df-convert:hover {\n",
              "      background-color: #434B5C;\n",
              "      box-shadow: 0px 1px 3px 1px rgba(0, 0, 0, 0.15);\n",
              "      filter: drop-shadow(0px 1px 2px rgba(0, 0, 0, 0.3));\n",
              "      fill: #FFFFFF;\n",
              "    }\n",
              "  </style>\n",
              "\n",
              "      <script>\n",
              "        const buttonEl =\n",
              "          document.querySelector('#df-79353d6a-e84f-4f31-abf4-08e54885eafd button.colab-df-convert');\n",
              "        buttonEl.style.display =\n",
              "          google.colab.kernel.accessAllowed ? 'block' : 'none';\n",
              "\n",
              "        async function convertToInteractive(key) {\n",
              "          const element = document.querySelector('#df-79353d6a-e84f-4f31-abf4-08e54885eafd');\n",
              "          const dataTable =\n",
              "            await google.colab.kernel.invokeFunction('convertToInteractive',\n",
              "                                                     [key], {});\n",
              "          if (!dataTable) return;\n",
              "\n",
              "          const docLinkHtml = 'Like what you see? Visit the ' +\n",
              "            '<a target=\"_blank\" href=https://colab.research.google.com/notebooks/data_table.ipynb>data table notebook</a>'\n",
              "            + ' to learn more about interactive tables.';\n",
              "          element.innerHTML = '';\n",
              "          dataTable['output_type'] = 'display_data';\n",
              "          await google.colab.output.renderOutput(dataTable, element);\n",
              "          const docLink = document.createElement('div');\n",
              "          docLink.innerHTML = docLinkHtml;\n",
              "          element.appendChild(docLink);\n",
              "        }\n",
              "      </script>\n",
              "    </div>\n",
              "  </div>\n",
              "  "
            ]
          },
          "metadata": {},
          "execution_count": 576
        }
      ],
      "source": [
        "# Here we can fill these values by obeserving other attributes\n",
        "# Example - \n",
        "pd.set_option('mode.chained_assignment', None)\n",
        "df_cat_copy = df_cat.copy()\n",
        "\n",
        "df_cat_copy[df_cat_copy[\"STATION CODE\"] == \"1330\"]\n",
        "# Station Code with value 1330 will have Location - TAMBIRAPARANI which belongs in STATE - TAMIL NADU\n",
        "# I can replace all the NAN occurences in STATE with TAMILNADU\n",
        "df_cat_copy[\"STATE\"][df_cat_copy[\"STATION CODE\"] == \"1330\"] = df_cat_copy[\"STATE\"][df_cat_copy[\"STATION CODE\"] == \"1330\"].fillna(\"TAMILNADU\")\n",
        "\n",
        "df_cat_copy[df_cat_copy[\"STATION CODE\"] == \"1330\"]"
      ]
    },
    {
      "cell_type": "code",
      "execution_count": null,
      "id": "a55dde35",
      "metadata": {
        "execution": {
          "iopub.execute_input": "2021-09-21T16:06:38.551288Z",
          "iopub.status.busy": "2021-09-21T16:06:38.550624Z",
          "iopub.status.idle": "2021-09-21T16:06:38.596093Z",
          "shell.execute_reply": "2021-09-21T16:06:38.596797Z",
          "shell.execute_reply.started": "2021-09-14T13:36:27.322779Z"
        },
        "papermill": {
          "duration": 0.089088,
          "end_time": "2021-09-21T16:06:38.596986",
          "exception": false,
          "start_time": "2021-09-21T16:06:38.507898",
          "status": "completed"
        },
        "tags": [],
        "colab": {
          "base_uri": "https://localhost:8080/",
          "height": 763
        },
        "id": "a55dde35",
        "outputId": "1aacb4ef-fb6d-4db5-ba31-9ca4c8f1fbf5"
      },
      "outputs": [
        {
          "output_type": "execute_result",
          "data": {
            "text/plain": [
              "     STATION CODE                                LOCATIONS      STATE\n",
              "166          1330  TAMBIRAPARANI AT ARUMUGANERI, TAMILNADU  TAMILNADU\n",
              "424          1330  TAMBIRAPARANI AT ARUMUGANERI, TAMILNADU  TAMILNADU\n",
              "677          1330             TAMBIRAPARANI AT ARUMUGANERI  TAMILNADU\n",
              "1168         1330             TAMBIRAPARANI AT ARUMUGANERI  TAMILNADU\n",
              "1351         1330  TAMBIRAPARANI AT ARUMUGANERI, TAMILNADU        NaN\n",
              "1513         1330  TAMBIRAPARANI AT ARUMUGANERI, TAMILNADU  TAMILNADU\n",
              "1626         1330  TAMBIRAPARANI AT ARUMUGANERI, TAMILNADU  TAMILNADU\n",
              "1745         1330  TAMBIRAPARANI AT ARUMUGANERI, TAMILNADU  TAMILNADU"
            ],
            "text/html": [
              "\n",
              "  <div id=\"df-93eb8181-cfb0-4097-8e42-a69de5285a04\">\n",
              "    <div class=\"colab-df-container\">\n",
              "      <div>\n",
              "<style scoped>\n",
              "    .dataframe tbody tr th:only-of-type {\n",
              "        vertical-align: middle;\n",
              "    }\n",
              "\n",
              "    .dataframe tbody tr th {\n",
              "        vertical-align: top;\n",
              "    }\n",
              "\n",
              "    .dataframe thead th {\n",
              "        text-align: right;\n",
              "    }\n",
              "</style>\n",
              "<table border=\"1\" class=\"dataframe\">\n",
              "  <thead>\n",
              "    <tr style=\"text-align: right;\">\n",
              "      <th></th>\n",
              "      <th>STATION CODE</th>\n",
              "      <th>LOCATIONS</th>\n",
              "      <th>STATE</th>\n",
              "    </tr>\n",
              "  </thead>\n",
              "  <tbody>\n",
              "    <tr>\n",
              "      <th>166</th>\n",
              "      <td>1330</td>\n",
              "      <td>TAMBIRAPARANI AT ARUMUGANERI, TAMILNADU</td>\n",
              "      <td>TAMILNADU</td>\n",
              "    </tr>\n",
              "    <tr>\n",
              "      <th>424</th>\n",
              "      <td>1330</td>\n",
              "      <td>TAMBIRAPARANI AT ARUMUGANERI, TAMILNADU</td>\n",
              "      <td>TAMILNADU</td>\n",
              "    </tr>\n",
              "    <tr>\n",
              "      <th>677</th>\n",
              "      <td>1330</td>\n",
              "      <td>TAMBIRAPARANI AT ARUMUGANERI</td>\n",
              "      <td>TAMILNADU</td>\n",
              "    </tr>\n",
              "    <tr>\n",
              "      <th>1168</th>\n",
              "      <td>1330</td>\n",
              "      <td>TAMBIRAPARANI AT ARUMUGANERI</td>\n",
              "      <td>TAMILNADU</td>\n",
              "    </tr>\n",
              "    <tr>\n",
              "      <th>1351</th>\n",
              "      <td>1330</td>\n",
              "      <td>TAMBIRAPARANI AT ARUMUGANERI, TAMILNADU</td>\n",
              "      <td>NaN</td>\n",
              "    </tr>\n",
              "    <tr>\n",
              "      <th>1513</th>\n",
              "      <td>1330</td>\n",
              "      <td>TAMBIRAPARANI AT ARUMUGANERI, TAMILNADU</td>\n",
              "      <td>TAMILNADU</td>\n",
              "    </tr>\n",
              "    <tr>\n",
              "      <th>1626</th>\n",
              "      <td>1330</td>\n",
              "      <td>TAMBIRAPARANI AT ARUMUGANERI, TAMILNADU</td>\n",
              "      <td>TAMILNADU</td>\n",
              "    </tr>\n",
              "    <tr>\n",
              "      <th>1745</th>\n",
              "      <td>1330</td>\n",
              "      <td>TAMBIRAPARANI AT ARUMUGANERI, TAMILNADU</td>\n",
              "      <td>TAMILNADU</td>\n",
              "    </tr>\n",
              "  </tbody>\n",
              "</table>\n",
              "</div>\n",
              "      <button class=\"colab-df-convert\" onclick=\"convertToInteractive('df-93eb8181-cfb0-4097-8e42-a69de5285a04')\"\n",
              "              title=\"Convert this dataframe to an interactive table.\"\n",
              "              style=\"display:none;\">\n",
              "        \n",
              "  <svg xmlns=\"http://www.w3.org/2000/svg\" height=\"24px\"viewBox=\"0 0 24 24\"\n",
              "       width=\"24px\">\n",
              "    <path d=\"M0 0h24v24H0V0z\" fill=\"none\"/>\n",
              "    <path d=\"M18.56 5.44l.94 2.06.94-2.06 2.06-.94-2.06-.94-.94-2.06-.94 2.06-2.06.94zm-11 1L8.5 8.5l.94-2.06 2.06-.94-2.06-.94L8.5 2.5l-.94 2.06-2.06.94zm10 10l.94 2.06.94-2.06 2.06-.94-2.06-.94-.94-2.06-.94 2.06-2.06.94z\"/><path d=\"M17.41 7.96l-1.37-1.37c-.4-.4-.92-.59-1.43-.59-.52 0-1.04.2-1.43.59L10.3 9.45l-7.72 7.72c-.78.78-.78 2.05 0 2.83L4 21.41c.39.39.9.59 1.41.59.51 0 1.02-.2 1.41-.59l7.78-7.78 2.81-2.81c.8-.78.8-2.07 0-2.86zM5.41 20L4 18.59l7.72-7.72 1.47 1.35L5.41 20z\"/>\n",
              "  </svg>\n",
              "      </button>\n",
              "      \n",
              "  <style>\n",
              "    .colab-df-container {\n",
              "      display:flex;\n",
              "      flex-wrap:wrap;\n",
              "      gap: 12px;\n",
              "    }\n",
              "\n",
              "    .colab-df-convert {\n",
              "      background-color: #E8F0FE;\n",
              "      border: none;\n",
              "      border-radius: 50%;\n",
              "      cursor: pointer;\n",
              "      display: none;\n",
              "      fill: #1967D2;\n",
              "      height: 32px;\n",
              "      padding: 0 0 0 0;\n",
              "      width: 32px;\n",
              "    }\n",
              "\n",
              "    .colab-df-convert:hover {\n",
              "      background-color: #E2EBFA;\n",
              "      box-shadow: 0px 1px 2px rgba(60, 64, 67, 0.3), 0px 1px 3px 1px rgba(60, 64, 67, 0.15);\n",
              "      fill: #174EA6;\n",
              "    }\n",
              "\n",
              "    [theme=dark] .colab-df-convert {\n",
              "      background-color: #3B4455;\n",
              "      fill: #D2E3FC;\n",
              "    }\n",
              "\n",
              "    [theme=dark] .colab-df-convert:hover {\n",
              "      background-color: #434B5C;\n",
              "      box-shadow: 0px 1px 3px 1px rgba(0, 0, 0, 0.15);\n",
              "      filter: drop-shadow(0px 1px 2px rgba(0, 0, 0, 0.3));\n",
              "      fill: #FFFFFF;\n",
              "    }\n",
              "  </style>\n",
              "\n",
              "      <script>\n",
              "        const buttonEl =\n",
              "          document.querySelector('#df-93eb8181-cfb0-4097-8e42-a69de5285a04 button.colab-df-convert');\n",
              "        buttonEl.style.display =\n",
              "          google.colab.kernel.accessAllowed ? 'block' : 'none';\n",
              "\n",
              "        async function convertToInteractive(key) {\n",
              "          const element = document.querySelector('#df-93eb8181-cfb0-4097-8e42-a69de5285a04');\n",
              "          const dataTable =\n",
              "            await google.colab.kernel.invokeFunction('convertToInteractive',\n",
              "                                                     [key], {});\n",
              "          if (!dataTable) return;\n",
              "\n",
              "          const docLinkHtml = 'Like what you see? Visit the ' +\n",
              "            '<a target=\"_blank\" href=https://colab.research.google.com/notebooks/data_table.ipynb>data table notebook</a>'\n",
              "            + ' to learn more about interactive tables.';\n",
              "          element.innerHTML = '';\n",
              "          dataTable['output_type'] = 'display_data';\n",
              "          await google.colab.output.renderOutput(dataTable, element);\n",
              "          const docLink = document.createElement('div');\n",
              "          docLink.innerHTML = docLinkHtml;\n",
              "          element.appendChild(docLink);\n",
              "        }\n",
              "      </script>\n",
              "    </div>\n",
              "  </div>\n",
              "  "
            ]
          },
          "metadata": {},
          "execution_count": 577
        }
      ],
      "source": [
        "# The NULL values in LOCATION attribute are in STATE attribute (ex - above dataframe)\n",
        "# So, I will fill the NULL values in LOCATION attribute with the corresponding STATE value\n",
        "# And, the state value will be replaced by the function \"fill_state\" defined below this cell\n",
        "\n",
        "def fill_locations(df_cat):\n",
        "    location_null = df_cat[df_cat[\"LOCATIONS\"].isnull()]\n",
        "    location_null_indices = location_null.index\n",
        "    for index in location_null_indices:\n",
        "        state_value = location_null[\"STATE\"][index]\n",
        "        location_null[\"LOCATIONS\"][index] = state_value\n",
        "        location_null[\"STATE\"][index] = np.nan\n",
        "    df_cat[df_cat[\"LOCATIONS\"].isnull()] = location_null\n",
        "    return\n",
        "\n",
        "fill_locations(df_cat_copy)\n",
        "df_cat_copy[df_cat_copy[\"STATION CODE\"] == \"1330\"]"
      ]
    },
    {
      "cell_type": "code",
      "execution_count": null,
      "id": "f92f91cc",
      "metadata": {
        "execution": {
          "iopub.execute_input": "2021-09-21T16:06:38.684621Z",
          "iopub.status.busy": "2021-09-21T16:06:38.683585Z",
          "iopub.status.idle": "2021-09-21T16:06:38.694685Z",
          "shell.execute_reply": "2021-09-21T16:06:38.695187Z",
          "shell.execute_reply.started": "2021-09-14T13:36:27.37184Z"
        },
        "papermill": {
          "duration": 0.056415,
          "end_time": "2021-09-21T16:06:38.695374",
          "exception": false,
          "start_time": "2021-09-21T16:06:38.638959",
          "status": "completed"
        },
        "tags": [],
        "colab": {
          "base_uri": "https://localhost:8080/",
          "height": 269
        },
        "id": "f92f91cc",
        "outputId": "2741c3a3-3508-4d88-bb51-9e8d4aef65fd"
      },
      "outputs": [
        {
          "output_type": "execute_result",
          "data": {
            "text/plain": [
              "     STATION CODE                                LOCATIONS      STATE\n",
              "166          1330  TAMBIRAPARANI AT ARUMUGANERI, TAMILNADU  TAMILNADU\n",
              "424          1330  TAMBIRAPARANI AT ARUMUGANERI, TAMILNADU  TAMILNADU\n",
              "1351         1330  TAMBIRAPARANI AT ARUMUGANERI, TAMILNADU        NaN\n",
              "1513         1330  TAMBIRAPARANI AT ARUMUGANERI, TAMILNADU  TAMILNADU\n",
              "1626         1330  TAMBIRAPARANI AT ARUMUGANERI, TAMILNADU  TAMILNADU\n",
              "1745         1330  TAMBIRAPARANI AT ARUMUGANERI, TAMILNADU  TAMILNADU\n",
              "1896          NaN  TAMBIRAPARANI AT ARUMUGANERI, TAMILNADU        NaN"
            ],
            "text/html": [
              "\n",
              "  <div id=\"df-32766662-0a38-430c-864e-0788b2610d10\">\n",
              "    <div class=\"colab-df-container\">\n",
              "      <div>\n",
              "<style scoped>\n",
              "    .dataframe tbody tr th:only-of-type {\n",
              "        vertical-align: middle;\n",
              "    }\n",
              "\n",
              "    .dataframe tbody tr th {\n",
              "        vertical-align: top;\n",
              "    }\n",
              "\n",
              "    .dataframe thead th {\n",
              "        text-align: right;\n",
              "    }\n",
              "</style>\n",
              "<table border=\"1\" class=\"dataframe\">\n",
              "  <thead>\n",
              "    <tr style=\"text-align: right;\">\n",
              "      <th></th>\n",
              "      <th>STATION CODE</th>\n",
              "      <th>LOCATIONS</th>\n",
              "      <th>STATE</th>\n",
              "    </tr>\n",
              "  </thead>\n",
              "  <tbody>\n",
              "    <tr>\n",
              "      <th>166</th>\n",
              "      <td>1330</td>\n",
              "      <td>TAMBIRAPARANI AT ARUMUGANERI, TAMILNADU</td>\n",
              "      <td>TAMILNADU</td>\n",
              "    </tr>\n",
              "    <tr>\n",
              "      <th>424</th>\n",
              "      <td>1330</td>\n",
              "      <td>TAMBIRAPARANI AT ARUMUGANERI, TAMILNADU</td>\n",
              "      <td>TAMILNADU</td>\n",
              "    </tr>\n",
              "    <tr>\n",
              "      <th>1351</th>\n",
              "      <td>1330</td>\n",
              "      <td>TAMBIRAPARANI AT ARUMUGANERI, TAMILNADU</td>\n",
              "      <td>NaN</td>\n",
              "    </tr>\n",
              "    <tr>\n",
              "      <th>1513</th>\n",
              "      <td>1330</td>\n",
              "      <td>TAMBIRAPARANI AT ARUMUGANERI, TAMILNADU</td>\n",
              "      <td>TAMILNADU</td>\n",
              "    </tr>\n",
              "    <tr>\n",
              "      <th>1626</th>\n",
              "      <td>1330</td>\n",
              "      <td>TAMBIRAPARANI AT ARUMUGANERI, TAMILNADU</td>\n",
              "      <td>TAMILNADU</td>\n",
              "    </tr>\n",
              "    <tr>\n",
              "      <th>1745</th>\n",
              "      <td>1330</td>\n",
              "      <td>TAMBIRAPARANI AT ARUMUGANERI, TAMILNADU</td>\n",
              "      <td>TAMILNADU</td>\n",
              "    </tr>\n",
              "    <tr>\n",
              "      <th>1896</th>\n",
              "      <td>NaN</td>\n",
              "      <td>TAMBIRAPARANI AT ARUMUGANERI, TAMILNADU</td>\n",
              "      <td>NaN</td>\n",
              "    </tr>\n",
              "  </tbody>\n",
              "</table>\n",
              "</div>\n",
              "      <button class=\"colab-df-convert\" onclick=\"convertToInteractive('df-32766662-0a38-430c-864e-0788b2610d10')\"\n",
              "              title=\"Convert this dataframe to an interactive table.\"\n",
              "              style=\"display:none;\">\n",
              "        \n",
              "  <svg xmlns=\"http://www.w3.org/2000/svg\" height=\"24px\"viewBox=\"0 0 24 24\"\n",
              "       width=\"24px\">\n",
              "    <path d=\"M0 0h24v24H0V0z\" fill=\"none\"/>\n",
              "    <path d=\"M18.56 5.44l.94 2.06.94-2.06 2.06-.94-2.06-.94-.94-2.06-.94 2.06-2.06.94zm-11 1L8.5 8.5l.94-2.06 2.06-.94-2.06-.94L8.5 2.5l-.94 2.06-2.06.94zm10 10l.94 2.06.94-2.06 2.06-.94-2.06-.94-.94-2.06-.94 2.06-2.06.94z\"/><path d=\"M17.41 7.96l-1.37-1.37c-.4-.4-.92-.59-1.43-.59-.52 0-1.04.2-1.43.59L10.3 9.45l-7.72 7.72c-.78.78-.78 2.05 0 2.83L4 21.41c.39.39.9.59 1.41.59.51 0 1.02-.2 1.41-.59l7.78-7.78 2.81-2.81c.8-.78.8-2.07 0-2.86zM5.41 20L4 18.59l7.72-7.72 1.47 1.35L5.41 20z\"/>\n",
              "  </svg>\n",
              "      </button>\n",
              "      \n",
              "  <style>\n",
              "    .colab-df-container {\n",
              "      display:flex;\n",
              "      flex-wrap:wrap;\n",
              "      gap: 12px;\n",
              "    }\n",
              "\n",
              "    .colab-df-convert {\n",
              "      background-color: #E8F0FE;\n",
              "      border: none;\n",
              "      border-radius: 50%;\n",
              "      cursor: pointer;\n",
              "      display: none;\n",
              "      fill: #1967D2;\n",
              "      height: 32px;\n",
              "      padding: 0 0 0 0;\n",
              "      width: 32px;\n",
              "    }\n",
              "\n",
              "    .colab-df-convert:hover {\n",
              "      background-color: #E2EBFA;\n",
              "      box-shadow: 0px 1px 2px rgba(60, 64, 67, 0.3), 0px 1px 3px 1px rgba(60, 64, 67, 0.15);\n",
              "      fill: #174EA6;\n",
              "    }\n",
              "\n",
              "    [theme=dark] .colab-df-convert {\n",
              "      background-color: #3B4455;\n",
              "      fill: #D2E3FC;\n",
              "    }\n",
              "\n",
              "    [theme=dark] .colab-df-convert:hover {\n",
              "      background-color: #434B5C;\n",
              "      box-shadow: 0px 1px 3px 1px rgba(0, 0, 0, 0.15);\n",
              "      filter: drop-shadow(0px 1px 2px rgba(0, 0, 0, 0.3));\n",
              "      fill: #FFFFFF;\n",
              "    }\n",
              "  </style>\n",
              "\n",
              "      <script>\n",
              "        const buttonEl =\n",
              "          document.querySelector('#df-32766662-0a38-430c-864e-0788b2610d10 button.colab-df-convert');\n",
              "        buttonEl.style.display =\n",
              "          google.colab.kernel.accessAllowed ? 'block' : 'none';\n",
              "\n",
              "        async function convertToInteractive(key) {\n",
              "          const element = document.querySelector('#df-32766662-0a38-430c-864e-0788b2610d10');\n",
              "          const dataTable =\n",
              "            await google.colab.kernel.invokeFunction('convertToInteractive',\n",
              "                                                     [key], {});\n",
              "          if (!dataTable) return;\n",
              "\n",
              "          const docLinkHtml = 'Like what you see? Visit the ' +\n",
              "            '<a target=\"_blank\" href=https://colab.research.google.com/notebooks/data_table.ipynb>data table notebook</a>'\n",
              "            + ' to learn more about interactive tables.';\n",
              "          element.innerHTML = '';\n",
              "          dataTable['output_type'] = 'display_data';\n",
              "          await google.colab.output.renderOutput(dataTable, element);\n",
              "          const docLink = document.createElement('div');\n",
              "          docLink.innerHTML = docLinkHtml;\n",
              "          element.appendChild(docLink);\n",
              "        }\n",
              "      </script>\n",
              "    </div>\n",
              "  </div>\n",
              "  "
            ]
          },
          "metadata": {},
          "execution_count": 578
        }
      ],
      "source": [
        "df_cat_copy[df_cat_copy[\"LOCATIONS\"] == \"TAMBIRAPARANI AT ARUMUGANERI, TAMILNADU\"]"
      ]
    },
    {
      "cell_type": "code",
      "execution_count": null,
      "id": "7fb35e22",
      "metadata": {
        "execution": {
          "iopub.execute_input": "2021-09-21T16:06:38.782411Z",
          "iopub.status.busy": "2021-09-21T16:06:38.781362Z",
          "iopub.status.idle": "2021-09-21T16:06:38.875710Z",
          "shell.execute_reply": "2021-09-21T16:06:38.876247Z",
          "shell.execute_reply.started": "2021-09-14T13:36:27.392489Z"
        },
        "papermill": {
          "duration": 0.139236,
          "end_time": "2021-09-21T16:06:38.876441",
          "exception": false,
          "start_time": "2021-09-21T16:06:38.737205",
          "status": "completed"
        },
        "tags": [],
        "colab": {
          "base_uri": "https://localhost:8080/",
          "height": 269
        },
        "id": "7fb35e22",
        "outputId": "5a307656-0d69-4a58-8efb-e85563917e2b"
      },
      "outputs": [
        {
          "output_type": "execute_result",
          "data": {
            "text/plain": [
              "     STATION CODE                                LOCATIONS      STATE\n",
              "166          1330  TAMBIRAPARANI AT ARUMUGANERI, TAMILNADU  TAMILNADU\n",
              "424          1330  TAMBIRAPARANI AT ARUMUGANERI, TAMILNADU  TAMILNADU\n",
              "1351         1330  TAMBIRAPARANI AT ARUMUGANERI, TAMILNADU        NaN\n",
              "1513         1330  TAMBIRAPARANI AT ARUMUGANERI, TAMILNADU  TAMILNADU\n",
              "1626         1330  TAMBIRAPARANI AT ARUMUGANERI, TAMILNADU  TAMILNADU\n",
              "1745         1330  TAMBIRAPARANI AT ARUMUGANERI, TAMILNADU  TAMILNADU\n",
              "1896         1330  TAMBIRAPARANI AT ARUMUGANERI, TAMILNADU        NaN"
            ],
            "text/html": [
              "\n",
              "  <div id=\"df-078f40c5-606b-4430-9e62-87328e6e53b7\">\n",
              "    <div class=\"colab-df-container\">\n",
              "      <div>\n",
              "<style scoped>\n",
              "    .dataframe tbody tr th:only-of-type {\n",
              "        vertical-align: middle;\n",
              "    }\n",
              "\n",
              "    .dataframe tbody tr th {\n",
              "        vertical-align: top;\n",
              "    }\n",
              "\n",
              "    .dataframe thead th {\n",
              "        text-align: right;\n",
              "    }\n",
              "</style>\n",
              "<table border=\"1\" class=\"dataframe\">\n",
              "  <thead>\n",
              "    <tr style=\"text-align: right;\">\n",
              "      <th></th>\n",
              "      <th>STATION CODE</th>\n",
              "      <th>LOCATIONS</th>\n",
              "      <th>STATE</th>\n",
              "    </tr>\n",
              "  </thead>\n",
              "  <tbody>\n",
              "    <tr>\n",
              "      <th>166</th>\n",
              "      <td>1330</td>\n",
              "      <td>TAMBIRAPARANI AT ARUMUGANERI, TAMILNADU</td>\n",
              "      <td>TAMILNADU</td>\n",
              "    </tr>\n",
              "    <tr>\n",
              "      <th>424</th>\n",
              "      <td>1330</td>\n",
              "      <td>TAMBIRAPARANI AT ARUMUGANERI, TAMILNADU</td>\n",
              "      <td>TAMILNADU</td>\n",
              "    </tr>\n",
              "    <tr>\n",
              "      <th>1351</th>\n",
              "      <td>1330</td>\n",
              "      <td>TAMBIRAPARANI AT ARUMUGANERI, TAMILNADU</td>\n",
              "      <td>NaN</td>\n",
              "    </tr>\n",
              "    <tr>\n",
              "      <th>1513</th>\n",
              "      <td>1330</td>\n",
              "      <td>TAMBIRAPARANI AT ARUMUGANERI, TAMILNADU</td>\n",
              "      <td>TAMILNADU</td>\n",
              "    </tr>\n",
              "    <tr>\n",
              "      <th>1626</th>\n",
              "      <td>1330</td>\n",
              "      <td>TAMBIRAPARANI AT ARUMUGANERI, TAMILNADU</td>\n",
              "      <td>TAMILNADU</td>\n",
              "    </tr>\n",
              "    <tr>\n",
              "      <th>1745</th>\n",
              "      <td>1330</td>\n",
              "      <td>TAMBIRAPARANI AT ARUMUGANERI, TAMILNADU</td>\n",
              "      <td>TAMILNADU</td>\n",
              "    </tr>\n",
              "    <tr>\n",
              "      <th>1896</th>\n",
              "      <td>1330</td>\n",
              "      <td>TAMBIRAPARANI AT ARUMUGANERI, TAMILNADU</td>\n",
              "      <td>NaN</td>\n",
              "    </tr>\n",
              "  </tbody>\n",
              "</table>\n",
              "</div>\n",
              "      <button class=\"colab-df-convert\" onclick=\"convertToInteractive('df-078f40c5-606b-4430-9e62-87328e6e53b7')\"\n",
              "              title=\"Convert this dataframe to an interactive table.\"\n",
              "              style=\"display:none;\">\n",
              "        \n",
              "  <svg xmlns=\"http://www.w3.org/2000/svg\" height=\"24px\"viewBox=\"0 0 24 24\"\n",
              "       width=\"24px\">\n",
              "    <path d=\"M0 0h24v24H0V0z\" fill=\"none\"/>\n",
              "    <path d=\"M18.56 5.44l.94 2.06.94-2.06 2.06-.94-2.06-.94-.94-2.06-.94 2.06-2.06.94zm-11 1L8.5 8.5l.94-2.06 2.06-.94-2.06-.94L8.5 2.5l-.94 2.06-2.06.94zm10 10l.94 2.06.94-2.06 2.06-.94-2.06-.94-.94-2.06-.94 2.06-2.06.94z\"/><path d=\"M17.41 7.96l-1.37-1.37c-.4-.4-.92-.59-1.43-.59-.52 0-1.04.2-1.43.59L10.3 9.45l-7.72 7.72c-.78.78-.78 2.05 0 2.83L4 21.41c.39.39.9.59 1.41.59.51 0 1.02-.2 1.41-.59l7.78-7.78 2.81-2.81c.8-.78.8-2.07 0-2.86zM5.41 20L4 18.59l7.72-7.72 1.47 1.35L5.41 20z\"/>\n",
              "  </svg>\n",
              "      </button>\n",
              "      \n",
              "  <style>\n",
              "    .colab-df-container {\n",
              "      display:flex;\n",
              "      flex-wrap:wrap;\n",
              "      gap: 12px;\n",
              "    }\n",
              "\n",
              "    .colab-df-convert {\n",
              "      background-color: #E8F0FE;\n",
              "      border: none;\n",
              "      border-radius: 50%;\n",
              "      cursor: pointer;\n",
              "      display: none;\n",
              "      fill: #1967D2;\n",
              "      height: 32px;\n",
              "      padding: 0 0 0 0;\n",
              "      width: 32px;\n",
              "    }\n",
              "\n",
              "    .colab-df-convert:hover {\n",
              "      background-color: #E2EBFA;\n",
              "      box-shadow: 0px 1px 2px rgba(60, 64, 67, 0.3), 0px 1px 3px 1px rgba(60, 64, 67, 0.15);\n",
              "      fill: #174EA6;\n",
              "    }\n",
              "\n",
              "    [theme=dark] .colab-df-convert {\n",
              "      background-color: #3B4455;\n",
              "      fill: #D2E3FC;\n",
              "    }\n",
              "\n",
              "    [theme=dark] .colab-df-convert:hover {\n",
              "      background-color: #434B5C;\n",
              "      box-shadow: 0px 1px 3px 1px rgba(0, 0, 0, 0.15);\n",
              "      filter: drop-shadow(0px 1px 2px rgba(0, 0, 0, 0.3));\n",
              "      fill: #FFFFFF;\n",
              "    }\n",
              "  </style>\n",
              "\n",
              "      <script>\n",
              "        const buttonEl =\n",
              "          document.querySelector('#df-078f40c5-606b-4430-9e62-87328e6e53b7 button.colab-df-convert');\n",
              "        buttonEl.style.display =\n",
              "          google.colab.kernel.accessAllowed ? 'block' : 'none';\n",
              "\n",
              "        async function convertToInteractive(key) {\n",
              "          const element = document.querySelector('#df-078f40c5-606b-4430-9e62-87328e6e53b7');\n",
              "          const dataTable =\n",
              "            await google.colab.kernel.invokeFunction('convertToInteractive',\n",
              "                                                     [key], {});\n",
              "          if (!dataTable) return;\n",
              "\n",
              "          const docLinkHtml = 'Like what you see? Visit the ' +\n",
              "            '<a target=\"_blank\" href=https://colab.research.google.com/notebooks/data_table.ipynb>data table notebook</a>'\n",
              "            + ' to learn more about interactive tables.';\n",
              "          element.innerHTML = '';\n",
              "          dataTable['output_type'] = 'display_data';\n",
              "          await google.colab.output.renderOutput(dataTable, element);\n",
              "          const docLink = document.createElement('div');\n",
              "          docLink.innerHTML = docLinkHtml;\n",
              "          element.appendChild(docLink);\n",
              "        }\n",
              "      </script>\n",
              "    </div>\n",
              "  </div>\n",
              "  "
            ]
          },
          "metadata": {},
          "execution_count": 579
        }
      ],
      "source": [
        "# Now I can fill NULL values of Station code with corresponding LOCATION value(ex - above dataframe)\n",
        "# I will match the corresponding LOCATION value with other same LOCATION value and insert the value of station code\n",
        "\n",
        "def fill_code(df_cat):\n",
        "    station_null = df_cat[df_cat[\"STATION CODE\"].isnull()]\n",
        "    station_null_indices = station_null.index\n",
        "    for index in station_null_indices:\n",
        "        stat_code = np.nan\n",
        "        location_index = station_null[\"LOCATIONS\"][index]\n",
        "        code_at_location = df_cat[\"STATION CODE\"][df_cat[\"LOCATIONS\"] == location_index]\n",
        "        for index_code in code_at_location.index:\n",
        "            if (code_at_location[index_code] != np.nan):\n",
        "                stat_code = code_at_location[index_code]\n",
        "                break\n",
        "        station_null[\"STATION CODE\"][index] = stat_code\n",
        "    df_cat[df_cat[\"STATION CODE\"].isnull()] = station_null\n",
        "    return\n",
        "\n",
        "fill_code(df_cat_copy)\n",
        "df_cat_copy[df_cat_copy[\"LOCATIONS\"] == \"TAMBIRAPARANI AT ARUMUGANERI, TAMILNADU\"]"
      ]
    },
    {
      "cell_type": "code",
      "execution_count": null,
      "id": "8ee63d14",
      "metadata": {
        "execution": {
          "iopub.execute_input": "2021-09-21T16:06:38.964240Z",
          "iopub.status.busy": "2021-09-21T16:06:38.963186Z",
          "iopub.status.idle": "2021-09-21T16:06:40.082823Z",
          "shell.execute_reply": "2021-09-21T16:06:40.083437Z",
          "shell.execute_reply.started": "2021-09-14T13:36:27.492223Z"
        },
        "papermill": {
          "duration": 1.165132,
          "end_time": "2021-09-21T16:06:40.083616",
          "exception": false,
          "start_time": "2021-09-21T16:06:38.918484",
          "status": "completed"
        },
        "tags": [],
        "colab": {
          "base_uri": "https://localhost:8080/",
          "height": 846
        },
        "id": "8ee63d14",
        "outputId": "d3715f61-a03c-408f-ff4d-4f6a2f5caedc"
      },
      "outputs": [
        {
          "output_type": "execute_result",
          "data": {
            "text/plain": [
              "     STATION CODE                                LOCATIONS      STATE\n",
              "166          1330  TAMBIRAPARANI AT ARUMUGANERI, TAMILNADU  TAMILNADU\n",
              "424          1330  TAMBIRAPARANI AT ARUMUGANERI, TAMILNADU  TAMILNADU\n",
              "677          1330             TAMBIRAPARANI AT ARUMUGANERI  TAMILNADU\n",
              "1168         1330             TAMBIRAPARANI AT ARUMUGANERI  TAMILNADU\n",
              "1351         1330  TAMBIRAPARANI AT ARUMUGANERI, TAMILNADU  TAMILNADU\n",
              "1513         1330  TAMBIRAPARANI AT ARUMUGANERI, TAMILNADU  TAMILNADU\n",
              "1626         1330  TAMBIRAPARANI AT ARUMUGANERI, TAMILNADU  TAMILNADU\n",
              "1745         1330  TAMBIRAPARANI AT ARUMUGANERI, TAMILNADU  TAMILNADU\n",
              "1896         1330  TAMBIRAPARANI AT ARUMUGANERI, TAMILNADU  TAMILNADU"
            ],
            "text/html": [
              "\n",
              "  <div id=\"df-fbccbab1-27ce-4aca-9a7e-59794b8b6f06\">\n",
              "    <div class=\"colab-df-container\">\n",
              "      <div>\n",
              "<style scoped>\n",
              "    .dataframe tbody tr th:only-of-type {\n",
              "        vertical-align: middle;\n",
              "    }\n",
              "\n",
              "    .dataframe tbody tr th {\n",
              "        vertical-align: top;\n",
              "    }\n",
              "\n",
              "    .dataframe thead th {\n",
              "        text-align: right;\n",
              "    }\n",
              "</style>\n",
              "<table border=\"1\" class=\"dataframe\">\n",
              "  <thead>\n",
              "    <tr style=\"text-align: right;\">\n",
              "      <th></th>\n",
              "      <th>STATION CODE</th>\n",
              "      <th>LOCATIONS</th>\n",
              "      <th>STATE</th>\n",
              "    </tr>\n",
              "  </thead>\n",
              "  <tbody>\n",
              "    <tr>\n",
              "      <th>166</th>\n",
              "      <td>1330</td>\n",
              "      <td>TAMBIRAPARANI AT ARUMUGANERI, TAMILNADU</td>\n",
              "      <td>TAMILNADU</td>\n",
              "    </tr>\n",
              "    <tr>\n",
              "      <th>424</th>\n",
              "      <td>1330</td>\n",
              "      <td>TAMBIRAPARANI AT ARUMUGANERI, TAMILNADU</td>\n",
              "      <td>TAMILNADU</td>\n",
              "    </tr>\n",
              "    <tr>\n",
              "      <th>677</th>\n",
              "      <td>1330</td>\n",
              "      <td>TAMBIRAPARANI AT ARUMUGANERI</td>\n",
              "      <td>TAMILNADU</td>\n",
              "    </tr>\n",
              "    <tr>\n",
              "      <th>1168</th>\n",
              "      <td>1330</td>\n",
              "      <td>TAMBIRAPARANI AT ARUMUGANERI</td>\n",
              "      <td>TAMILNADU</td>\n",
              "    </tr>\n",
              "    <tr>\n",
              "      <th>1351</th>\n",
              "      <td>1330</td>\n",
              "      <td>TAMBIRAPARANI AT ARUMUGANERI, TAMILNADU</td>\n",
              "      <td>TAMILNADU</td>\n",
              "    </tr>\n",
              "    <tr>\n",
              "      <th>1513</th>\n",
              "      <td>1330</td>\n",
              "      <td>TAMBIRAPARANI AT ARUMUGANERI, TAMILNADU</td>\n",
              "      <td>TAMILNADU</td>\n",
              "    </tr>\n",
              "    <tr>\n",
              "      <th>1626</th>\n",
              "      <td>1330</td>\n",
              "      <td>TAMBIRAPARANI AT ARUMUGANERI, TAMILNADU</td>\n",
              "      <td>TAMILNADU</td>\n",
              "    </tr>\n",
              "    <tr>\n",
              "      <th>1745</th>\n",
              "      <td>1330</td>\n",
              "      <td>TAMBIRAPARANI AT ARUMUGANERI, TAMILNADU</td>\n",
              "      <td>TAMILNADU</td>\n",
              "    </tr>\n",
              "    <tr>\n",
              "      <th>1896</th>\n",
              "      <td>1330</td>\n",
              "      <td>TAMBIRAPARANI AT ARUMUGANERI, TAMILNADU</td>\n",
              "      <td>TAMILNADU</td>\n",
              "    </tr>\n",
              "  </tbody>\n",
              "</table>\n",
              "</div>\n",
              "      <button class=\"colab-df-convert\" onclick=\"convertToInteractive('df-fbccbab1-27ce-4aca-9a7e-59794b8b6f06')\"\n",
              "              title=\"Convert this dataframe to an interactive table.\"\n",
              "              style=\"display:none;\">\n",
              "        \n",
              "  <svg xmlns=\"http://www.w3.org/2000/svg\" height=\"24px\"viewBox=\"0 0 24 24\"\n",
              "       width=\"24px\">\n",
              "    <path d=\"M0 0h24v24H0V0z\" fill=\"none\"/>\n",
              "    <path d=\"M18.56 5.44l.94 2.06.94-2.06 2.06-.94-2.06-.94-.94-2.06-.94 2.06-2.06.94zm-11 1L8.5 8.5l.94-2.06 2.06-.94-2.06-.94L8.5 2.5l-.94 2.06-2.06.94zm10 10l.94 2.06.94-2.06 2.06-.94-2.06-.94-.94-2.06-.94 2.06-2.06.94z\"/><path d=\"M17.41 7.96l-1.37-1.37c-.4-.4-.92-.59-1.43-.59-.52 0-1.04.2-1.43.59L10.3 9.45l-7.72 7.72c-.78.78-.78 2.05 0 2.83L4 21.41c.39.39.9.59 1.41.59.51 0 1.02-.2 1.41-.59l7.78-7.78 2.81-2.81c.8-.78.8-2.07 0-2.86zM5.41 20L4 18.59l7.72-7.72 1.47 1.35L5.41 20z\"/>\n",
              "  </svg>\n",
              "      </button>\n",
              "      \n",
              "  <style>\n",
              "    .colab-df-container {\n",
              "      display:flex;\n",
              "      flex-wrap:wrap;\n",
              "      gap: 12px;\n",
              "    }\n",
              "\n",
              "    .colab-df-convert {\n",
              "      background-color: #E8F0FE;\n",
              "      border: none;\n",
              "      border-radius: 50%;\n",
              "      cursor: pointer;\n",
              "      display: none;\n",
              "      fill: #1967D2;\n",
              "      height: 32px;\n",
              "      padding: 0 0 0 0;\n",
              "      width: 32px;\n",
              "    }\n",
              "\n",
              "    .colab-df-convert:hover {\n",
              "      background-color: #E2EBFA;\n",
              "      box-shadow: 0px 1px 2px rgba(60, 64, 67, 0.3), 0px 1px 3px 1px rgba(60, 64, 67, 0.15);\n",
              "      fill: #174EA6;\n",
              "    }\n",
              "\n",
              "    [theme=dark] .colab-df-convert {\n",
              "      background-color: #3B4455;\n",
              "      fill: #D2E3FC;\n",
              "    }\n",
              "\n",
              "    [theme=dark] .colab-df-convert:hover {\n",
              "      background-color: #434B5C;\n",
              "      box-shadow: 0px 1px 3px 1px rgba(0, 0, 0, 0.15);\n",
              "      filter: drop-shadow(0px 1px 2px rgba(0, 0, 0, 0.3));\n",
              "      fill: #FFFFFF;\n",
              "    }\n",
              "  </style>\n",
              "\n",
              "      <script>\n",
              "        const buttonEl =\n",
              "          document.querySelector('#df-fbccbab1-27ce-4aca-9a7e-59794b8b6f06 button.colab-df-convert');\n",
              "        buttonEl.style.display =\n",
              "          google.colab.kernel.accessAllowed ? 'block' : 'none';\n",
              "\n",
              "        async function convertToInteractive(key) {\n",
              "          const element = document.querySelector('#df-fbccbab1-27ce-4aca-9a7e-59794b8b6f06');\n",
              "          const dataTable =\n",
              "            await google.colab.kernel.invokeFunction('convertToInteractive',\n",
              "                                                     [key], {});\n",
              "          if (!dataTable) return;\n",
              "\n",
              "          const docLinkHtml = 'Like what you see? Visit the ' +\n",
              "            '<a target=\"_blank\" href=https://colab.research.google.com/notebooks/data_table.ipynb>data table notebook</a>'\n",
              "            + ' to learn more about interactive tables.';\n",
              "          element.innerHTML = '';\n",
              "          dataTable['output_type'] = 'display_data';\n",
              "          await google.colab.output.renderOutput(dataTable, element);\n",
              "          const docLink = document.createElement('div');\n",
              "          docLink.innerHTML = docLinkHtml;\n",
              "          element.appendChild(docLink);\n",
              "        }\n",
              "      </script>\n",
              "    </div>\n",
              "  </div>\n",
              "  "
            ]
          },
          "metadata": {},
          "execution_count": 580
        }
      ],
      "source": [
        "# Filling all state NAN values which have corresponding station code value\n",
        "def fill_state(df_cat):\n",
        "    station_code = df_cat[\"STATION CODE\"].unique()\n",
        "    for index in range(station_code.shape[0]):\n",
        "        if (station_code[index] != np.nan):\n",
        "            df_state = df_cat[\"STATE\"][df_cat[\"STATION CODE\"] == station_code[index]] \n",
        "            state_values = df_cat[\"STATE\"][df_cat[\"STATION CODE\"] == station_code[index]]\n",
        "            state = np.nan\n",
        "            for index_state in range(state_values.shape[0]):\n",
        "                if (state_values.iloc[index_state] != np.nan):\n",
        "                    state = state_values.iloc[index_state]\n",
        "                    break\n",
        "            df_state_fill = df_state.fillna(state) \n",
        "            df_cat[\"STATE\"][df_cat[\"STATION CODE\"] == station_code[index]] = df_state_fill\n",
        "    return\n",
        "fill_state(df_cat_copy)\n",
        "df_cat_copy[df_cat_copy[\"STATION CODE\"] == \"1330\"]"
      ]
    },
    {
      "cell_type": "code",
      "execution_count": null,
      "id": "8b313fff",
      "metadata": {
        "execution": {
          "iopub.execute_input": "2021-09-21T16:06:40.174355Z",
          "iopub.status.busy": "2021-09-21T16:06:40.173297Z",
          "iopub.status.idle": "2021-09-21T16:06:40.182578Z",
          "shell.execute_reply": "2021-09-21T16:06:40.182006Z",
          "shell.execute_reply.started": "2021-09-14T13:36:28.582294Z"
        },
        "papermill": {
          "duration": 0.055855,
          "end_time": "2021-09-21T16:06:40.182745",
          "exception": false,
          "start_time": "2021-09-21T16:06:40.126890",
          "status": "completed"
        },
        "tags": [],
        "colab": {
          "base_uri": "https://localhost:8080/"
        },
        "id": "8b313fff",
        "outputId": "467c5c6e-56d5-4e05-8c52-354bcc367d49"
      },
      "outputs": [
        {
          "output_type": "execute_result",
          "data": {
            "text/plain": [
              "STATION CODE     4\n",
              "LOCATIONS        2\n",
              "STATE           12\n",
              "dtype: int64"
            ]
          },
          "metadata": {},
          "execution_count": 581
        }
      ],
      "source": [
        "df_cat_copy.isnull().sum()"
      ]
    },
    {
      "cell_type": "code",
      "execution_count": null,
      "id": "63da69bc",
      "metadata": {
        "execution": {
          "iopub.execute_input": "2021-09-21T16:06:40.281737Z",
          "iopub.status.busy": "2021-09-21T16:06:40.280775Z",
          "iopub.status.idle": "2021-09-21T16:06:40.285262Z",
          "shell.execute_reply": "2021-09-21T16:06:40.284586Z",
          "shell.execute_reply.started": "2021-09-14T13:36:28.593016Z"
        },
        "papermill": {
          "duration": 0.059304,
          "end_time": "2021-09-21T16:06:40.285424",
          "exception": false,
          "start_time": "2021-09-21T16:06:40.226120",
          "status": "completed"
        },
        "tags": [],
        "colab": {
          "base_uri": "https://localhost:8080/",
          "height": 888
        },
        "id": "63da69bc",
        "outputId": "ffd2dbb7-d839-418d-d615-45e0738031c0"
      },
      "outputs": [
        {
          "output_type": "execute_result",
          "data": {
            "text/plain": [
              "     STATION CODE                                          LOCATIONS STATE\n",
              "260           NaN                                                NaN   NaN\n",
              "431           NaN                                                NaN   NaN\n",
              "1106         1207                              KABBANI AT MUTHANKARA   NaN\n",
              "1107         1208                             BHAVANI AT ELACHIVAZHY   NaN\n",
              "1650         2047                 NNANCHOE (ATTAWA CHOE), CHANDIGARH   NaN\n",
              "1651         2048                         PATIALA KI RAO, CHANDIGARH   NaN\n",
              "1652         2049                            SUKHNA CHOE, CHANDIGARH   NaN\n",
              "1770         2047                             NNANCHOE (ATTAWA CHOE)   NaN\n",
              "1771         2048                                     PATIALA KI RAO   NaN\n",
              "1772         2049                                        SUKHNA CHOE   NaN\n",
              "1784          NaN   DAMANGANGA  AFTER CONFL. OF PIPARIA DRAIN, DAMAN   NaN\n",
              "1785          NaN  DAMANGANGA AT CIRCUIT HOUSE, SILVASA, DADRA AN...   NaN"
            ],
            "text/html": [
              "\n",
              "  <div id=\"df-fb8e7955-e1b8-42f6-8a74-1774235a055b\">\n",
              "    <div class=\"colab-df-container\">\n",
              "      <div>\n",
              "<style scoped>\n",
              "    .dataframe tbody tr th:only-of-type {\n",
              "        vertical-align: middle;\n",
              "    }\n",
              "\n",
              "    .dataframe tbody tr th {\n",
              "        vertical-align: top;\n",
              "    }\n",
              "\n",
              "    .dataframe thead th {\n",
              "        text-align: right;\n",
              "    }\n",
              "</style>\n",
              "<table border=\"1\" class=\"dataframe\">\n",
              "  <thead>\n",
              "    <tr style=\"text-align: right;\">\n",
              "      <th></th>\n",
              "      <th>STATION CODE</th>\n",
              "      <th>LOCATIONS</th>\n",
              "      <th>STATE</th>\n",
              "    </tr>\n",
              "  </thead>\n",
              "  <tbody>\n",
              "    <tr>\n",
              "      <th>260</th>\n",
              "      <td>NaN</td>\n",
              "      <td>NaN</td>\n",
              "      <td>NaN</td>\n",
              "    </tr>\n",
              "    <tr>\n",
              "      <th>431</th>\n",
              "      <td>NaN</td>\n",
              "      <td>NaN</td>\n",
              "      <td>NaN</td>\n",
              "    </tr>\n",
              "    <tr>\n",
              "      <th>1106</th>\n",
              "      <td>1207</td>\n",
              "      <td>KABBANI AT MUTHANKARA</td>\n",
              "      <td>NaN</td>\n",
              "    </tr>\n",
              "    <tr>\n",
              "      <th>1107</th>\n",
              "      <td>1208</td>\n",
              "      <td>BHAVANI AT ELACHIVAZHY</td>\n",
              "      <td>NaN</td>\n",
              "    </tr>\n",
              "    <tr>\n",
              "      <th>1650</th>\n",
              "      <td>2047</td>\n",
              "      <td>NNANCHOE (ATTAWA CHOE), CHANDIGARH</td>\n",
              "      <td>NaN</td>\n",
              "    </tr>\n",
              "    <tr>\n",
              "      <th>1651</th>\n",
              "      <td>2048</td>\n",
              "      <td>PATIALA KI RAO, CHANDIGARH</td>\n",
              "      <td>NaN</td>\n",
              "    </tr>\n",
              "    <tr>\n",
              "      <th>1652</th>\n",
              "      <td>2049</td>\n",
              "      <td>SUKHNA CHOE, CHANDIGARH</td>\n",
              "      <td>NaN</td>\n",
              "    </tr>\n",
              "    <tr>\n",
              "      <th>1770</th>\n",
              "      <td>2047</td>\n",
              "      <td>NNANCHOE (ATTAWA CHOE)</td>\n",
              "      <td>NaN</td>\n",
              "    </tr>\n",
              "    <tr>\n",
              "      <th>1771</th>\n",
              "      <td>2048</td>\n",
              "      <td>PATIALA KI RAO</td>\n",
              "      <td>NaN</td>\n",
              "    </tr>\n",
              "    <tr>\n",
              "      <th>1772</th>\n",
              "      <td>2049</td>\n",
              "      <td>SUKHNA CHOE</td>\n",
              "      <td>NaN</td>\n",
              "    </tr>\n",
              "    <tr>\n",
              "      <th>1784</th>\n",
              "      <td>NaN</td>\n",
              "      <td>DAMANGANGA  AFTER CONFL. OF PIPARIA DRAIN, DAMAN</td>\n",
              "      <td>NaN</td>\n",
              "    </tr>\n",
              "    <tr>\n",
              "      <th>1785</th>\n",
              "      <td>NaN</td>\n",
              "      <td>DAMANGANGA AT CIRCUIT HOUSE, SILVASA, DADRA AN...</td>\n",
              "      <td>NaN</td>\n",
              "    </tr>\n",
              "  </tbody>\n",
              "</table>\n",
              "</div>\n",
              "      <button class=\"colab-df-convert\" onclick=\"convertToInteractive('df-fb8e7955-e1b8-42f6-8a74-1774235a055b')\"\n",
              "              title=\"Convert this dataframe to an interactive table.\"\n",
              "              style=\"display:none;\">\n",
              "        \n",
              "  <svg xmlns=\"http://www.w3.org/2000/svg\" height=\"24px\"viewBox=\"0 0 24 24\"\n",
              "       width=\"24px\">\n",
              "    <path d=\"M0 0h24v24H0V0z\" fill=\"none\"/>\n",
              "    <path d=\"M18.56 5.44l.94 2.06.94-2.06 2.06-.94-2.06-.94-.94-2.06-.94 2.06-2.06.94zm-11 1L8.5 8.5l.94-2.06 2.06-.94-2.06-.94L8.5 2.5l-.94 2.06-2.06.94zm10 10l.94 2.06.94-2.06 2.06-.94-2.06-.94-.94-2.06-.94 2.06-2.06.94z\"/><path d=\"M17.41 7.96l-1.37-1.37c-.4-.4-.92-.59-1.43-.59-.52 0-1.04.2-1.43.59L10.3 9.45l-7.72 7.72c-.78.78-.78 2.05 0 2.83L4 21.41c.39.39.9.59 1.41.59.51 0 1.02-.2 1.41-.59l7.78-7.78 2.81-2.81c.8-.78.8-2.07 0-2.86zM5.41 20L4 18.59l7.72-7.72 1.47 1.35L5.41 20z\"/>\n",
              "  </svg>\n",
              "      </button>\n",
              "      \n",
              "  <style>\n",
              "    .colab-df-container {\n",
              "      display:flex;\n",
              "      flex-wrap:wrap;\n",
              "      gap: 12px;\n",
              "    }\n",
              "\n",
              "    .colab-df-convert {\n",
              "      background-color: #E8F0FE;\n",
              "      border: none;\n",
              "      border-radius: 50%;\n",
              "      cursor: pointer;\n",
              "      display: none;\n",
              "      fill: #1967D2;\n",
              "      height: 32px;\n",
              "      padding: 0 0 0 0;\n",
              "      width: 32px;\n",
              "    }\n",
              "\n",
              "    .colab-df-convert:hover {\n",
              "      background-color: #E2EBFA;\n",
              "      box-shadow: 0px 1px 2px rgba(60, 64, 67, 0.3), 0px 1px 3px 1px rgba(60, 64, 67, 0.15);\n",
              "      fill: #174EA6;\n",
              "    }\n",
              "\n",
              "    [theme=dark] .colab-df-convert {\n",
              "      background-color: #3B4455;\n",
              "      fill: #D2E3FC;\n",
              "    }\n",
              "\n",
              "    [theme=dark] .colab-df-convert:hover {\n",
              "      background-color: #434B5C;\n",
              "      box-shadow: 0px 1px 3px 1px rgba(0, 0, 0, 0.15);\n",
              "      filter: drop-shadow(0px 1px 2px rgba(0, 0, 0, 0.3));\n",
              "      fill: #FFFFFF;\n",
              "    }\n",
              "  </style>\n",
              "\n",
              "      <script>\n",
              "        const buttonEl =\n",
              "          document.querySelector('#df-fb8e7955-e1b8-42f6-8a74-1774235a055b button.colab-df-convert');\n",
              "        buttonEl.style.display =\n",
              "          google.colab.kernel.accessAllowed ? 'block' : 'none';\n",
              "\n",
              "        async function convertToInteractive(key) {\n",
              "          const element = document.querySelector('#df-fb8e7955-e1b8-42f6-8a74-1774235a055b');\n",
              "          const dataTable =\n",
              "            await google.colab.kernel.invokeFunction('convertToInteractive',\n",
              "                                                     [key], {});\n",
              "          if (!dataTable) return;\n",
              "\n",
              "          const docLinkHtml = 'Like what you see? Visit the ' +\n",
              "            '<a target=\"_blank\" href=https://colab.research.google.com/notebooks/data_table.ipynb>data table notebook</a>'\n",
              "            + ' to learn more about interactive tables.';\n",
              "          element.innerHTML = '';\n",
              "          dataTable['output_type'] = 'display_data';\n",
              "          await google.colab.output.renderOutput(dataTable, element);\n",
              "          const docLink = document.createElement('div');\n",
              "          docLink.innerHTML = docLinkHtml;\n",
              "          element.appendChild(docLink);\n",
              "        }\n",
              "      </script>\n",
              "    </div>\n",
              "  </div>\n",
              "  "
            ]
          },
          "metadata": {},
          "execution_count": 582
        }
      ],
      "source": [
        "df_cat_copy[df_cat_copy[\"STATE\"].isnull()]"
      ]
    },
    {
      "cell_type": "markdown",
      "id": "1b8d3fac",
      "metadata": {
        "papermill": {
          "duration": 0.043043,
          "end_time": "2021-09-21T16:06:40.371841",
          "exception": false,
          "start_time": "2021-09-21T16:06:40.328798",
          "status": "completed"
        },
        "tags": [],
        "id": "1b8d3fac"
      },
      "source": [
        "* The above are the missing values which are left and does not satisfy any condition\n",
        "* So, according to the location these values will be filled manually\n"
      ]
    },
    {
      "cell_type": "code",
      "execution_count": null,
      "id": "38c201c9",
      "metadata": {
        "execution": {
          "iopub.execute_input": "2021-09-21T16:06:40.471215Z",
          "iopub.status.busy": "2021-09-21T16:06:40.470144Z",
          "iopub.status.idle": "2021-09-21T16:06:40.473303Z",
          "shell.execute_reply": "2021-09-21T16:06:40.472727Z",
          "shell.execute_reply.started": "2021-09-14T13:36:28.611189Z"
        },
        "papermill": {
          "duration": 0.056112,
          "end_time": "2021-09-21T16:06:40.473447",
          "exception": false,
          "start_time": "2021-09-21T16:06:40.417335",
          "status": "completed"
        },
        "tags": [],
        "id": "38c201c9"
      },
      "outputs": [],
      "source": [
        "# The first location KABBANI AT MUTHANKARA is in STATE Kerela\n",
        "df_cat_copy[\"STATE\"][1106] = \"KERALA\"\n",
        "df_cat_copy[\"STATE\"][1107] = \"KERALA\"\n",
        "df_cat_copy[\"STATE\"][1650] = \"CHANDIGARH\"\n",
        "df_cat_copy[\"STATE\"][1651] = \"CHANDIGARH\"\n",
        "df_cat_copy[\"STATE\"][1652] = \"CHANDIGARH\"\n",
        "df_cat_copy[\"STATE\"][1770] = \"CHANDIGARH\"\n",
        "df_cat_copy[\"STATE\"][1771] = \"CHANDIGARH\"\n",
        "df_cat_copy[\"STATE\"][1772] = \"CHANDIGARH\"\n",
        "df_cat_copy[\"STATE\"][1784] = \"DAMAN & DIU\"\n",
        "df_cat_copy[\"STATE\"][1785] = \"DAMAN & DIU\"\n",
        "df_cat_copy[\"STATION CODE\"][1784] = \"0000\" # I am setting this according to myself\n",
        "df_cat_copy[\"STATION CODE\"][1785] = \"0000\""
      ]
    },
    {
      "cell_type": "code",
      "execution_count": null,
      "id": "55cbe42a",
      "metadata": {
        "execution": {
          "iopub.execute_input": "2021-09-21T16:06:40.568963Z",
          "iopub.status.busy": "2021-09-21T16:06:40.567928Z",
          "iopub.status.idle": "2021-09-21T16:06:40.572085Z",
          "shell.execute_reply": "2021-09-21T16:06:40.571511Z",
          "shell.execute_reply.started": "2021-09-14T13:36:28.623795Z"
        },
        "papermill": {
          "duration": 0.055012,
          "end_time": "2021-09-21T16:06:40.572226",
          "exception": false,
          "start_time": "2021-09-21T16:06:40.517214",
          "status": "completed"
        },
        "tags": [],
        "colab": {
          "base_uri": "https://localhost:8080/"
        },
        "id": "55cbe42a",
        "outputId": "704680b3-197f-4e63-b6fc-118182be7bb0"
      },
      "outputs": [
        {
          "output_type": "execute_result",
          "data": {
            "text/plain": [
              "STATION CODE    2\n",
              "LOCATIONS       2\n",
              "STATE           2\n",
              "dtype: int64"
            ]
          },
          "metadata": {},
          "execution_count": 584
        }
      ],
      "source": [
        "df_cat = df_cat_copy\n",
        "df_cat.isnull().sum()"
      ]
    },
    {
      "cell_type": "markdown",
      "id": "a6f803e9",
      "metadata": {
        "papermill": {
          "duration": 0.043543,
          "end_time": "2021-09-21T16:06:40.659745",
          "exception": false,
          "start_time": "2021-09-21T16:06:40.616202",
          "status": "completed"
        },
        "tags": [],
        "id": "a6f803e9"
      },
      "source": [
        "# Cleaning & removal of Null values"
      ]
    },
    {
      "cell_type": "code",
      "execution_count": null,
      "id": "b5c23502",
      "metadata": {
        "execution": {
          "iopub.execute_input": "2021-09-21T16:06:40.757773Z",
          "iopub.status.busy": "2021-09-21T16:06:40.755210Z",
          "iopub.status.idle": "2021-09-21T16:06:40.762002Z",
          "shell.execute_reply": "2021-09-21T16:06:40.761312Z",
          "shell.execute_reply.started": "2021-09-14T13:36:28.640866Z"
        },
        "papermill": {
          "duration": 0.057767,
          "end_time": "2021-09-21T16:06:40.762152",
          "exception": false,
          "start_time": "2021-09-21T16:06:40.704385",
          "status": "completed"
        },
        "tags": [],
        "colab": {
          "base_uri": "https://localhost:8080/"
        },
        "id": "b5c23502",
        "outputId": "cd90f8c6-d6ba-4e31-84d3-4dc914b3affd"
      },
      "outputs": [
        {
          "output_type": "execute_result",
          "data": {
            "text/plain": [
              "Temp            0\n",
              "DO              0\n",
              "PH              0\n",
              "Conductivity    0\n",
              "BOD             0\n",
              "NI              0\n",
              "Fec_col         0\n",
              "Tot_col         0\n",
              "year            0\n",
              "dtype: int64"
            ]
          },
          "metadata": {},
          "execution_count": 585
        }
      ],
      "source": [
        "df_num.isnull().sum()"
      ]
    },
    {
      "cell_type": "code",
      "execution_count": null,
      "id": "2ca552a6",
      "metadata": {
        "execution": {
          "iopub.execute_input": "2021-09-21T16:06:40.862874Z",
          "iopub.status.busy": "2021-09-21T16:06:40.862137Z",
          "iopub.status.idle": "2021-09-21T16:06:40.865470Z",
          "shell.execute_reply": "2021-09-21T16:06:40.864865Z",
          "shell.execute_reply.started": "2021-09-14T13:36:28.654059Z"
        },
        "papermill": {
          "duration": 0.058398,
          "end_time": "2021-09-21T16:06:40.865761",
          "exception": false,
          "start_time": "2021-09-21T16:06:40.807363",
          "status": "completed"
        },
        "tags": [],
        "colab": {
          "base_uri": "https://localhost:8080/"
        },
        "id": "2ca552a6",
        "outputId": "56cd67fb-0992-4b34-e86e-be89ac14ec9d"
      },
      "outputs": [
        {
          "output_type": "execute_result",
          "data": {
            "text/plain": [
              "STATION CODE    2\n",
              "LOCATIONS       2\n",
              "STATE           2\n",
              "Temp            0\n",
              "DO              0\n",
              "PH              0\n",
              "Conductivity    0\n",
              "BOD             0\n",
              "NI              0\n",
              "Fec_col         0\n",
              "Tot_col         0\n",
              "year            0\n",
              "dtype: int64"
            ]
          },
          "metadata": {},
          "execution_count": 586
        }
      ],
      "source": [
        "df_final = pd.concat([df_cat, df_num], axis=1)\n",
        "df_final.isnull().sum()"
      ]
    },
    {
      "cell_type": "code",
      "execution_count": null,
      "id": "507081fe",
      "metadata": {
        "execution": {
          "iopub.execute_input": "2021-09-21T16:06:40.983942Z",
          "iopub.status.busy": "2021-09-21T16:06:40.968114Z",
          "iopub.status.idle": "2021-09-21T16:06:40.989397Z",
          "shell.execute_reply": "2021-09-21T16:06:40.988762Z",
          "shell.execute_reply.started": "2021-09-14T13:36:28.667399Z"
        },
        "papermill": {
          "duration": 0.078035,
          "end_time": "2021-09-21T16:06:40.989571",
          "exception": false,
          "start_time": "2021-09-21T16:06:40.911536",
          "status": "completed"
        },
        "tags": [],
        "colab": {
          "base_uri": "https://localhost:8080/"
        },
        "id": "507081fe",
        "outputId": "2d8bbdbb-a65b-43c0-c02d-2bb95180a452"
      },
      "outputs": [
        {
          "output_type": "execute_result",
          "data": {
            "text/plain": [
              "    STATION CODE LOCATIONS STATE  Temp   DO   PH  Conductivity     BOD    NI  \\\n",
              "260          NaN       NaN   NaN  27.0  6.7  7.3         198.0  1.8965  0.52   \n",
              "431          NaN       NaN   NaN  27.0  6.7  7.3         198.0  1.8965  0.52   \n",
              "\n",
              "     Fec_col  Tot_col    year  \n",
              "260    233.0    465.0  2013.0  \n",
              "431    233.0    465.0  2013.0  "
            ],
            "text/html": [
              "\n",
              "  <div id=\"df-ebd83386-2024-42f1-93eb-1a2e5f77c4a4\">\n",
              "    <div class=\"colab-df-container\">\n",
              "      <div>\n",
              "<style scoped>\n",
              "    .dataframe tbody tr th:only-of-type {\n",
              "        vertical-align: middle;\n",
              "    }\n",
              "\n",
              "    .dataframe tbody tr th {\n",
              "        vertical-align: top;\n",
              "    }\n",
              "\n",
              "    .dataframe thead th {\n",
              "        text-align: right;\n",
              "    }\n",
              "</style>\n",
              "<table border=\"1\" class=\"dataframe\">\n",
              "  <thead>\n",
              "    <tr style=\"text-align: right;\">\n",
              "      <th></th>\n",
              "      <th>STATION CODE</th>\n",
              "      <th>LOCATIONS</th>\n",
              "      <th>STATE</th>\n",
              "      <th>Temp</th>\n",
              "      <th>DO</th>\n",
              "      <th>PH</th>\n",
              "      <th>Conductivity</th>\n",
              "      <th>BOD</th>\n",
              "      <th>NI</th>\n",
              "      <th>Fec_col</th>\n",
              "      <th>Tot_col</th>\n",
              "      <th>year</th>\n",
              "    </tr>\n",
              "  </thead>\n",
              "  <tbody>\n",
              "    <tr>\n",
              "      <th>260</th>\n",
              "      <td>NaN</td>\n",
              "      <td>NaN</td>\n",
              "      <td>NaN</td>\n",
              "      <td>27.0</td>\n",
              "      <td>6.7</td>\n",
              "      <td>7.3</td>\n",
              "      <td>198.0</td>\n",
              "      <td>1.8965</td>\n",
              "      <td>0.52</td>\n",
              "      <td>233.0</td>\n",
              "      <td>465.0</td>\n",
              "      <td>2013.0</td>\n",
              "    </tr>\n",
              "    <tr>\n",
              "      <th>431</th>\n",
              "      <td>NaN</td>\n",
              "      <td>NaN</td>\n",
              "      <td>NaN</td>\n",
              "      <td>27.0</td>\n",
              "      <td>6.7</td>\n",
              "      <td>7.3</td>\n",
              "      <td>198.0</td>\n",
              "      <td>1.8965</td>\n",
              "      <td>0.52</td>\n",
              "      <td>233.0</td>\n",
              "      <td>465.0</td>\n",
              "      <td>2013.0</td>\n",
              "    </tr>\n",
              "  </tbody>\n",
              "</table>\n",
              "</div>\n",
              "      <button class=\"colab-df-convert\" onclick=\"convertToInteractive('df-ebd83386-2024-42f1-93eb-1a2e5f77c4a4')\"\n",
              "              title=\"Convert this dataframe to an interactive table.\"\n",
              "              style=\"display:none;\">\n",
              "        \n",
              "  <svg xmlns=\"http://www.w3.org/2000/svg\" height=\"24px\"viewBox=\"0 0 24 24\"\n",
              "       width=\"24px\">\n",
              "    <path d=\"M0 0h24v24H0V0z\" fill=\"none\"/>\n",
              "    <path d=\"M18.56 5.44l.94 2.06.94-2.06 2.06-.94-2.06-.94-.94-2.06-.94 2.06-2.06.94zm-11 1L8.5 8.5l.94-2.06 2.06-.94-2.06-.94L8.5 2.5l-.94 2.06-2.06.94zm10 10l.94 2.06.94-2.06 2.06-.94-2.06-.94-.94-2.06-.94 2.06-2.06.94z\"/><path d=\"M17.41 7.96l-1.37-1.37c-.4-.4-.92-.59-1.43-.59-.52 0-1.04.2-1.43.59L10.3 9.45l-7.72 7.72c-.78.78-.78 2.05 0 2.83L4 21.41c.39.39.9.59 1.41.59.51 0 1.02-.2 1.41-.59l7.78-7.78 2.81-2.81c.8-.78.8-2.07 0-2.86zM5.41 20L4 18.59l7.72-7.72 1.47 1.35L5.41 20z\"/>\n",
              "  </svg>\n",
              "      </button>\n",
              "      \n",
              "  <style>\n",
              "    .colab-df-container {\n",
              "      display:flex;\n",
              "      flex-wrap:wrap;\n",
              "      gap: 12px;\n",
              "    }\n",
              "\n",
              "    .colab-df-convert {\n",
              "      background-color: #E8F0FE;\n",
              "      border: none;\n",
              "      border-radius: 50%;\n",
              "      cursor: pointer;\n",
              "      display: none;\n",
              "      fill: #1967D2;\n",
              "      height: 32px;\n",
              "      padding: 0 0 0 0;\n",
              "      width: 32px;\n",
              "    }\n",
              "\n",
              "    .colab-df-convert:hover {\n",
              "      background-color: #E2EBFA;\n",
              "      box-shadow: 0px 1px 2px rgba(60, 64, 67, 0.3), 0px 1px 3px 1px rgba(60, 64, 67, 0.15);\n",
              "      fill: #174EA6;\n",
              "    }\n",
              "\n",
              "    [theme=dark] .colab-df-convert {\n",
              "      background-color: #3B4455;\n",
              "      fill: #D2E3FC;\n",
              "    }\n",
              "\n",
              "    [theme=dark] .colab-df-convert:hover {\n",
              "      background-color: #434B5C;\n",
              "      box-shadow: 0px 1px 3px 1px rgba(0, 0, 0, 0.15);\n",
              "      filter: drop-shadow(0px 1px 2px rgba(0, 0, 0, 0.3));\n",
              "      fill: #FFFFFF;\n",
              "    }\n",
              "  </style>\n",
              "\n",
              "      <script>\n",
              "        const buttonEl =\n",
              "          document.querySelector('#df-ebd83386-2024-42f1-93eb-1a2e5f77c4a4 button.colab-df-convert');\n",
              "        buttonEl.style.display =\n",
              "          google.colab.kernel.accessAllowed ? 'block' : 'none';\n",
              "\n",
              "        async function convertToInteractive(key) {\n",
              "          const element = document.querySelector('#df-ebd83386-2024-42f1-93eb-1a2e5f77c4a4');\n",
              "          const dataTable =\n",
              "            await google.colab.kernel.invokeFunction('convertToInteractive',\n",
              "                                                     [key], {});\n",
              "          if (!dataTable) return;\n",
              "\n",
              "          const docLinkHtml = 'Like what you see? Visit the ' +\n",
              "            '<a target=\"_blank\" href=https://colab.research.google.com/notebooks/data_table.ipynb>data table notebook</a>'\n",
              "            + ' to learn more about interactive tables.';\n",
              "          element.innerHTML = '';\n",
              "          dataTable['output_type'] = 'display_data';\n",
              "          await google.colab.output.renderOutput(dataTable, element);\n",
              "          const docLink = document.createElement('div');\n",
              "          docLink.innerHTML = docLinkHtml;\n",
              "          element.appendChild(docLink);\n",
              "        }\n",
              "      </script>\n",
              "    </div>\n",
              "  </div>\n",
              "  "
            ]
          },
          "metadata": {},
          "execution_count": 587
        }
      ],
      "source": [
        "# These are the samples which don't contain any attribute\n",
        "# The filled attributes are median of corresponding columns\n",
        "# So it is best to remove them\n",
        "df_null = df_final[(df_final[\"STATION CODE\"].isnull()) & (df_final[\"LOCATIONS\"].isnull()) & (df_final[\"STATE\"].isnull())]\n",
        "df_null_indices = df_null.index\n",
        "df_final.drop(df_null_indices, axis=0, inplace=True)\n",
        "df_null"
      ]
    },
    {
      "cell_type": "code",
      "execution_count": null,
      "id": "ff154610",
      "metadata": {
        "execution": {
          "iopub.execute_input": "2021-09-21T16:06:41.092752Z",
          "iopub.status.busy": "2021-09-21T16:06:41.091836Z",
          "iopub.status.idle": "2021-09-21T16:06:41.095562Z",
          "shell.execute_reply": "2021-09-21T16:06:41.096108Z",
          "shell.execute_reply.started": "2021-09-14T13:36:28.69226Z"
        },
        "papermill": {
          "duration": 0.060186,
          "end_time": "2021-09-21T16:06:41.096334",
          "exception": false,
          "start_time": "2021-09-21T16:06:41.036148",
          "status": "completed"
        },
        "tags": [],
        "colab": {
          "base_uri": "https://localhost:8080/"
        },
        "id": "ff154610",
        "outputId": "bd0c4991-1c6e-4f90-b0e2-a6685335935c"
      },
      "outputs": [
        {
          "output_type": "execute_result",
          "data": {
            "text/plain": [
              "STATION CODE    0\n",
              "LOCATIONS       0\n",
              "STATE           0\n",
              "Temp            0\n",
              "DO              0\n",
              "PH              0\n",
              "Conductivity    0\n",
              "BOD             0\n",
              "NI              0\n",
              "Fec_col         0\n",
              "Tot_col         0\n",
              "year            0\n",
              "dtype: int64"
            ]
          },
          "metadata": {},
          "execution_count": 588
        }
      ],
      "source": [
        "df_final.isnull().sum()"
      ]
    },
    {
      "cell_type": "code",
      "execution_count": null,
      "id": "a0c9295f",
      "metadata": {
        "execution": {
          "iopub.execute_input": "2021-09-21T16:06:41.196130Z",
          "iopub.status.busy": "2021-09-21T16:06:41.195366Z",
          "iopub.status.idle": "2021-09-21T16:06:41.199359Z",
          "shell.execute_reply": "2021-09-21T16:06:41.198791Z",
          "shell.execute_reply.started": "2021-09-14T13:36:28.708106Z"
        },
        "papermill": {
          "duration": 0.056317,
          "end_time": "2021-09-21T16:06:41.199516",
          "exception": false,
          "start_time": "2021-09-21T16:06:41.143199",
          "status": "completed"
        },
        "tags": [],
        "colab": {
          "base_uri": "https://localhost:8080/"
        },
        "id": "a0c9295f",
        "outputId": "eb811944-102c-45e4-9dce-ca52787d6367"
      },
      "outputs": [
        {
          "output_type": "execute_result",
          "data": {
            "text/plain": [
              "(1898, 12)"
            ]
          },
          "metadata": {},
          "execution_count": 589
        }
      ],
      "source": [
        "df_final.shape"
      ]
    },
    {
      "cell_type": "markdown",
      "id": "2ab5c14b",
      "metadata": {
        "papermill": {
          "duration": 0.050403,
          "end_time": "2021-09-21T16:06:41.300645",
          "exception": false,
          "start_time": "2021-09-21T16:06:41.250242",
          "status": "completed"
        },
        "tags": [],
        "id": "2ab5c14b"
      },
      "source": [
        "* The final dataset contains 1898 samples and 12 attributes"
      ]
    },
    {
      "cell_type": "markdown",
      "source": [
        "# Visualization of Dataset"
      ],
      "metadata": {
        "id": "2OlQdOmr3NlQ"
      },
      "id": "2OlQdOmr3NlQ"
    },
    {
      "cell_type": "code",
      "execution_count": null,
      "id": "074e2eab",
      "metadata": {
        "execution": {
          "iopub.execute_input": "2021-09-21T16:06:41.423874Z",
          "iopub.status.busy": "2021-09-21T16:06:41.423149Z",
          "iopub.status.idle": "2021-09-21T16:06:43.470623Z",
          "shell.execute_reply": "2021-09-21T16:06:43.469987Z",
          "shell.execute_reply.started": "2021-09-14T13:36:28.720606Z"
        },
        "papermill": {
          "duration": 2.121757,
          "end_time": "2021-09-21T16:06:43.470773",
          "exception": false,
          "start_time": "2021-09-21T16:06:41.349016",
          "status": "completed"
        },
        "tags": [],
        "colab": {
          "base_uri": "https://localhost:8080/"
        },
        "id": "074e2eab",
        "outputId": "ede08941-26f5-4024-f8c8-d3f61f6784f9"
      },
      "outputs": [
        {
          "output_type": "display_data",
          "data": {
            "text/plain": [
              "<Figure size 504x360 with 1 Axes>"
            ],
            "image/png": "[encoded data removed]"
          },
          "metadata": {
            "needs_background": "light"
          }
        },
        {
          "output_type": "display_data",
          "data": {
            "text/plain": [
              "<Figure size 504x360 with 1 Axes>"
            ],
            "image/png": "[encoded data removed]"
          },
          "metadata": {
            "needs_background": "light"
          }
        },
        {
          "output_type": "display_data",
          "data": {
            "text/plain": [
              "<Figure size 504x360 with 1 Axes>"
            ],
            "image/png": "[encoded data removed]"
          },
          "metadata": {
            "needs_background": "light"
          }
        },
        {
          "output_type": "display_data",
          "data": {
            "text/plain": [
              "<Figure size 504x360 with 1 Axes>"
            ],
            "image/png": "[encoded data removed]"
          },
          "metadata": {
            "needs_background": "light"
          }
        },
        {
          "output_type": "display_data",
          "data": {
            "text/plain": [
              "<Figure size 504x360 with 1 Axes>"
            ],
            "image/png": "[encoded data removed]"
          },
          "metadata": {
            "needs_background": "light"
          }
        },
        {
          "output_type": "display_data",
          "data": {
            "text/plain": [
              "<Figure size 504x360 with 1 Axes>"
            ],
            "image/png": "[encoded data removed]"
          },
          "metadata": {
            "needs_background": "light"
          }
        },
        {
          "output_type": "display_data",
          "data": {
            "text/plain": [
              "<Figure size 504x360 with 1 Axes>"
            ],
            "image/png": "[encoded data removed]"
          },
          "metadata": {
            "needs_background": "light"
          }
        },
        {
          "output_type": "display_data",
          "data": {
            "text/plain": [
              "<Figure size 504x360 with 1 Axes>"
            ],
            "image/png": "[encoded data removed]"
          },
          "metadata": {
            "needs_background": "light"
          }
        },
        {
          "output_type": "display_data",
          "data": {
            "text/plain": [
              "<Figure size 504x360 with 1 Axes>"
            ],
            "image/png": "[encoded data removed]"
          },
          "metadata": {
            "needs_background": "light"
          }
        }
      ],
      "source": [
        "# PLotting PDFs of all the numeric attributes in the dataset\n",
        "\n",
        "df_num_final = df_final.select_dtypes(exclude=\"object\")\n",
        "\n",
        "def plot_kde(df):\n",
        "    n_col = df.shape[1]\n",
        "    for index in range(n_col):\n",
        "        col_index = df.iloc[:, index]\n",
        "        fig, ax = plt.subplots(1,1, figsize=(7, 5))\n",
        "        sns.kdeplot(data=df, x=col_index.name)\n",
        "        \n",
        "plot_kde(df_num_final)"
      ]
    },
    {
      "cell_type": "markdown",
      "source": [
        "# Outlier detection and removal"
      ],
      "metadata": {
        "id": "Uo5ZE5gU3Xpw"
      },
      "id": "Uo5ZE5gU3Xpw"
    },
    {
      "cell_type": "code",
      "execution_count": null,
      "id": "c98fcbe7",
      "metadata": {
        "execution": {
          "iopub.execute_input": "2021-09-21T16:06:43.582471Z",
          "iopub.status.busy": "2021-09-21T16:06:43.581686Z",
          "iopub.status.idle": "2021-09-21T16:06:43.622785Z",
          "shell.execute_reply": "2021-09-21T16:06:43.622142Z",
          "shell.execute_reply.started": "2021-09-14T13:36:30.5691Z"
        },
        "papermill": {
          "duration": 0.097579,
          "end_time": "2021-09-21T16:06:43.622934",
          "exception": false,
          "start_time": "2021-09-21T16:06:43.525355",
          "status": "completed"
        },
        "tags": [],
        "colab": {
          "base_uri": "https://localhost:8080/"
        },
        "id": "c98fcbe7",
        "outputId": "cf4b4759-101a-4cc6-e5df-e1231bf29490"
      },
      "outputs": [
        {
          "output_type": "stream",
          "name": "stdout",
          "text": [
            "Number of outliers using Z-Score method- 125\n"
          ]
        },
        {
          "output_type": "execute_result",
          "data": {
            "text/plain": [
              "    STATION CODE                                          LOCATIONS  \\\n",
              "741         2880                          NAMBUL RIVER AT BISHNUPUR   \n",
              "745         2856                 THOUBAL RIVER AT YAIRIPOK, THOUBAL   \n",
              "37          2671  KUNDALIKA RIVER NEAR SALAV BRIDGE (SALINA ZONE...   \n",
              "88          2294                          R KALLAI AT KALLAI BRIDGE   \n",
              "108         2304                             R MOGRAL AT MOGRAL BR.   \n",
              "..           ...                                                ...   \n",
              "432         1023  GHAGGAR AT MUBARAKPUR REST HOUSE (PATIALA), PU...   \n",
              "685         1023         GHAGGAR AT MUBARAKPUR REST HOUSE (PATIALA)   \n",
              "172         3023  VASISTA AT SALEM, D/S OF SAGO INDUSRIES EFFLUE...   \n",
              "432         1023  GHAGGAR AT MUBARAKPUR REST HOUSE (PATIALA), PU...   \n",
              "685         1023         GHAGGAR AT MUBARAKPUR REST HOUSE (PATIALA)   \n",
              "\n",
              "           STATE  Temp   DO   PH  Conductivity    BOD    NI      Fec_col  \\\n",
              "741      MANIPUR  28.0  8.2  7.6         112.0    2.1  0.52        233.0   \n",
              "745      MANIPUR  30.0  9.3  7.6         193.0    2.3  0.52        233.0   \n",
              "37   MAHARASHTRA  25.3  5.3  7.7       24062.0    9.9  1.20        156.0   \n",
              "88        KERALA  26.3  3.7  7.7       32005.0    1.2  0.90      40000.0   \n",
              "108       KERALA  30.0  5.6  7.2       24360.0    2.1  0.30         92.0   \n",
              "..           ...   ...  ...  ...           ...    ...   ...          ...   \n",
              "432       PUNJAB  23.3  5.5  7.2         636.0    9.7  4.00       1328.0   \n",
              "685       PUNJAB  21.0  5.5  7.4         635.0    8.8  5.08       1400.0   \n",
              "172    TAMILNADU  24.3  0.9  7.6        2039.0  104.5  0.90  272521616.0   \n",
              "432       PUNJAB  23.3  5.5  7.2         636.0    9.7  4.00       1328.0   \n",
              "685       PUNJAB  21.0  5.5  7.4         635.0    8.8  5.08       1400.0   \n",
              "\n",
              "         Tot_col    year  \n",
              "741         31.0  2012.0  \n",
              "745         41.0  2012.0  \n",
              "37         304.0  2014.0  \n",
              "88       60392.0  2014.0  \n",
              "108        447.0  2014.0  \n",
              "..           ...     ...  \n",
              "432       4975.0  2013.0  \n",
              "685       5500.0  2012.0  \n",
              "172  511090873.0  2014.0  \n",
              "432       4975.0  2013.0  \n",
              "685       5500.0  2012.0  \n",
              "\n",
              "[125 rows x 12 columns]"
            ],
            "text/html": [
              "\n",
              "  <div id=\"df-1e84ee27-ce8b-400b-ac49-23662466447b\">\n",
              "    <div class=\"colab-df-container\">\n",
              "      <div>\n",
              "<style scoped>\n",
              "    .dataframe tbody tr th:only-of-type {\n",
              "        vertical-align: middle;\n",
              "    }\n",
              "\n",
              "    .dataframe tbody tr th {\n",
              "        vertical-align: top;\n",
              "    }\n",
              "\n",
              "    .dataframe thead th {\n",
              "        text-align: right;\n",
              "    }\n",
              "</style>\n",
              "<table border=\"1\" class=\"dataframe\">\n",
              "  <thead>\n",
              "    <tr style=\"text-align: right;\">\n",
              "      <th></th>\n",
              "      <th>STATION CODE</th>\n",
              "      <th>LOCATIONS</th>\n",
              "      <th>STATE</th>\n",
              "      <th>Temp</th>\n",
              "      <th>DO</th>\n",
              "      <th>PH</th>\n",
              "      <th>Conductivity</th>\n",
              "      <th>BOD</th>\n",
              "      <th>NI</th>\n",
              "      <th>Fec_col</th>\n",
              "      <th>Tot_col</th>\n",
              "      <th>year</th>\n",
              "    </tr>\n",
              "  </thead>\n",
              "  <tbody>\n",
              "    <tr>\n",
              "      <th>741</th>\n",
              "      <td>2880</td>\n",
              "      <td>NAMBUL RIVER AT BISHNUPUR</td>\n",
              "      <td>MANIPUR</td>\n",
              "      <td>28.0</td>\n",
              "      <td>8.2</td>\n",
              "      <td>7.6</td>\n",
              "      <td>112.0</td>\n",
              "      <td>2.1</td>\n",
              "      <td>0.52</td>\n",
              "      <td>233.0</td>\n",
              "      <td>31.0</td>\n",
              "      <td>2012.0</td>\n",
              "    </tr>\n",
              "    <tr>\n",
              "      <th>745</th>\n",
              "      <td>2856</td>\n",
              "      <td>THOUBAL RIVER AT YAIRIPOK, THOUBAL</td>\n",
              "      <td>MANIPUR</td>\n",
              "      <td>30.0</td>\n",
              "      <td>9.3</td>\n",
              "      <td>7.6</td>\n",
              "      <td>193.0</td>\n",
              "      <td>2.3</td>\n",
              "      <td>0.52</td>\n",
              "      <td>233.0</td>\n",
              "      <td>41.0</td>\n",
              "      <td>2012.0</td>\n",
              "    </tr>\n",
              "    <tr>\n",
              "      <th>37</th>\n",
              "      <td>2671</td>\n",
              "      <td>KUNDALIKA RIVER NEAR SALAV BRIDGE (SALINA ZONE...</td>\n",
              "      <td>MAHARASHTRA</td>\n",
              "      <td>25.3</td>\n",
              "      <td>5.3</td>\n",
              "      <td>7.7</td>\n",
              "      <td>24062.0</td>\n",
              "      <td>9.9</td>\n",
              "      <td>1.20</td>\n",
              "      <td>156.0</td>\n",
              "      <td>304.0</td>\n",
              "      <td>2014.0</td>\n",
              "    </tr>\n",
              "    <tr>\n",
              "      <th>88</th>\n",
              "      <td>2294</td>\n",
              "      <td>R KALLAI AT KALLAI BRIDGE</td>\n",
              "      <td>KERALA</td>\n",
              "      <td>26.3</td>\n",
              "      <td>3.7</td>\n",
              "      <td>7.7</td>\n",
              "      <td>32005.0</td>\n",
              "      <td>1.2</td>\n",
              "      <td>0.90</td>\n",
              "      <td>40000.0</td>\n",
              "      <td>60392.0</td>\n",
              "      <td>2014.0</td>\n",
              "    </tr>\n",
              "    <tr>\n",
              "      <th>108</th>\n",
              "      <td>2304</td>\n",
              "      <td>R MOGRAL AT MOGRAL BR.</td>\n",
              "      <td>KERALA</td>\n",
              "      <td>30.0</td>\n",
              "      <td>5.6</td>\n",
              "      <td>7.2</td>\n",
              "      <td>24360.0</td>\n",
              "      <td>2.1</td>\n",
              "      <td>0.30</td>\n",
              "      <td>92.0</td>\n",
              "      <td>447.0</td>\n",
              "      <td>2014.0</td>\n",
              "    </tr>\n",
              "    <tr>\n",
              "      <th>...</th>\n",
              "      <td>...</td>\n",
              "      <td>...</td>\n",
              "      <td>...</td>\n",
              "      <td>...</td>\n",
              "      <td>...</td>\n",
              "      <td>...</td>\n",
              "      <td>...</td>\n",
              "      <td>...</td>\n",
              "      <td>...</td>\n",
              "      <td>...</td>\n",
              "      <td>...</td>\n",
              "      <td>...</td>\n",
              "    </tr>\n",
              "    <tr>\n",
              "      <th>432</th>\n",
              "      <td>1023</td>\n",
              "      <td>GHAGGAR AT MUBARAKPUR REST HOUSE (PATIALA), PU...</td>\n",
              "      <td>PUNJAB</td>\n",
              "      <td>23.3</td>\n",
              "      <td>5.5</td>\n",
              "      <td>7.2</td>\n",
              "      <td>636.0</td>\n",
              "      <td>9.7</td>\n",
              "      <td>4.00</td>\n",
              "      <td>1328.0</td>\n",
              "      <td>4975.0</td>\n",
              "      <td>2013.0</td>\n",
              "    </tr>\n",
              "    <tr>\n",
              "      <th>685</th>\n",
              "      <td>1023</td>\n",
              "      <td>GHAGGAR AT MUBARAKPUR REST HOUSE (PATIALA)</td>\n",
              "      <td>PUNJAB</td>\n",
              "      <td>21.0</td>\n",
              "      <td>5.5</td>\n",
              "      <td>7.4</td>\n",
              "      <td>635.0</td>\n",
              "      <td>8.8</td>\n",
              "      <td>5.08</td>\n",
              "      <td>1400.0</td>\n",
              "      <td>5500.0</td>\n",
              "      <td>2012.0</td>\n",
              "    </tr>\n",
              "    <tr>\n",
              "      <th>172</th>\n",
              "      <td>3023</td>\n",
              "      <td>VASISTA AT SALEM, D/S OF SAGO INDUSRIES EFFLUE...</td>\n",
              "      <td>TAMILNADU</td>\n",
              "      <td>24.3</td>\n",
              "      <td>0.9</td>\n",
              "      <td>7.6</td>\n",
              "      <td>2039.0</td>\n",
              "      <td>104.5</td>\n",
              "      <td>0.90</td>\n",
              "      <td>272521616.0</td>\n",
              "      <td>511090873.0</td>\n",
              "      <td>2014.0</td>\n",
              "    </tr>\n",
              "    <tr>\n",
              "      <th>432</th>\n",
              "      <td>1023</td>\n",
              "      <td>GHAGGAR AT MUBARAKPUR REST HOUSE (PATIALA), PU...</td>\n",
              "      <td>PUNJAB</td>\n",
              "      <td>23.3</td>\n",
              "      <td>5.5</td>\n",
              "      <td>7.2</td>\n",
              "      <td>636.0</td>\n",
              "      <td>9.7</td>\n",
              "      <td>4.00</td>\n",
              "      <td>1328.0</td>\n",
              "      <td>4975.0</td>\n",
              "      <td>2013.0</td>\n",
              "    </tr>\n",
              "    <tr>\n",
              "      <th>685</th>\n",
              "      <td>1023</td>\n",
              "      <td>GHAGGAR AT MUBARAKPUR REST HOUSE (PATIALA)</td>\n",
              "      <td>PUNJAB</td>\n",
              "      <td>21.0</td>\n",
              "      <td>5.5</td>\n",
              "      <td>7.4</td>\n",
              "      <td>635.0</td>\n",
              "      <td>8.8</td>\n",
              "      <td>5.08</td>\n",
              "      <td>1400.0</td>\n",
              "      <td>5500.0</td>\n",
              "      <td>2012.0</td>\n",
              "    </tr>\n",
              "  </tbody>\n",
              "</table>\n",
              "<p>125 rows × 12 columns</p>\n",
              "</div>\n",
              "      <button class=\"colab-df-convert\" onclick=\"convertToInteractive('df-1e84ee27-ce8b-400b-ac49-23662466447b')\"\n",
              "              title=\"Convert this dataframe to an interactive table.\"\n",
              "              style=\"display:none;\">\n",
              "        \n",
              "  <svg xmlns=\"http://www.w3.org/2000/svg\" height=\"24px\"viewBox=\"0 0 24 24\"\n",
              "       width=\"24px\">\n",
              "    <path d=\"M0 0h24v24H0V0z\" fill=\"none\"/>\n",
              "    <path d=\"M18.56 5.44l.94 2.06.94-2.06 2.06-.94-2.06-.94-.94-2.06-.94 2.06-2.06.94zm-11 1L8.5 8.5l.94-2.06 2.06-.94-2.06-.94L8.5 2.5l-.94 2.06-2.06.94zm10 10l.94 2.06.94-2.06 2.06-.94-2.06-.94-.94-2.06-.94 2.06-2.06.94z\"/><path d=\"M17.41 7.96l-1.37-1.37c-.4-.4-.92-.59-1.43-.59-.52 0-1.04.2-1.43.59L10.3 9.45l-7.72 7.72c-.78.78-.78 2.05 0 2.83L4 21.41c.39.39.9.59 1.41.59.51 0 1.02-.2 1.41-.59l7.78-7.78 2.81-2.81c.8-.78.8-2.07 0-2.86zM5.41 20L4 18.59l7.72-7.72 1.47 1.35L5.41 20z\"/>\n",
              "  </svg>\n",
              "      </button>\n",
              "      \n",
              "  <style>\n",
              "    .colab-df-container {\n",
              "      display:flex;\n",
              "      flex-wrap:wrap;\n",
              "      gap: 12px;\n",
              "    }\n",
              "\n",
              "    .colab-df-convert {\n",
              "      background-color: #E8F0FE;\n",
              "      border: none;\n",
              "      border-radius: 50%;\n",
              "      cursor: pointer;\n",
              "      display: none;\n",
              "      fill: #1967D2;\n",
              "      height: 32px;\n",
              "      padding: 0 0 0 0;\n",
              "      width: 32px;\n",
              "    }\n",
              "\n",
              "    .colab-df-convert:hover {\n",
              "      background-color: #E2EBFA;\n",
              "      box-shadow: 0px 1px 2px rgba(60, 64, 67, 0.3), 0px 1px 3px 1px rgba(60, 64, 67, 0.15);\n",
              "      fill: #174EA6;\n",
              "    }\n",
              "\n",
              "    [theme=dark] .colab-df-convert {\n",
              "      background-color: #3B4455;\n",
              "      fill: #D2E3FC;\n",
              "    }\n",
              "\n",
              "    [theme=dark] .colab-df-convert:hover {\n",
              "      background-color: #434B5C;\n",
              "      box-shadow: 0px 1px 3px 1px rgba(0, 0, 0, 0.15);\n",
              "      filter: drop-shadow(0px 1px 2px rgba(0, 0, 0, 0.3));\n",
              "      fill: #FFFFFF;\n",
              "    }\n",
              "  </style>\n",
              "\n",
              "      <script>\n",
              "        const buttonEl =\n",
              "          document.querySelector('#df-1e84ee27-ce8b-400b-ac49-23662466447b button.colab-df-convert');\n",
              "        buttonEl.style.display =\n",
              "          google.colab.kernel.accessAllowed ? 'block' : 'none';\n",
              "\n",
              "        async function convertToInteractive(key) {\n",
              "          const element = document.querySelector('#df-1e84ee27-ce8b-400b-ac49-23662466447b');\n",
              "          const dataTable =\n",
              "            await google.colab.kernel.invokeFunction('convertToInteractive',\n",
              "                                                     [key], {});\n",
              "          if (!dataTable) return;\n",
              "\n",
              "          const docLinkHtml = 'Like what you see? Visit the ' +\n",
              "            '<a target=\"_blank\" href=https://colab.research.google.com/notebooks/data_table.ipynb>data table notebook</a>'\n",
              "            + ' to learn more about interactive tables.';\n",
              "          element.innerHTML = '';\n",
              "          dataTable['output_type'] = 'display_data';\n",
              "          await google.colab.output.renderOutput(dataTable, element);\n",
              "          const docLink = document.createElement('div');\n",
              "          docLink.innerHTML = docLinkHtml;\n",
              "          element.appendChild(docLink);\n",
              "        }\n",
              "      </script>\n",
              "    </div>\n",
              "  </div>\n",
              "  "
            ]
          },
          "metadata": {},
          "execution_count": 591
        }
      ],
      "source": [
        "# Here, almost all kde plots are Gaussian Like \n",
        "# Using Z-Score Normalization to detect outliers\n",
        "\n",
        "df_num_final_norm = zscore(df_num_final, axis=0)\n",
        "\n",
        "\n",
        "def indices_of_greater_than_3(df_norm):\n",
        "    indices_arr = []\n",
        "    n_col = df_norm.shape[1]\n",
        "    for index in range(n_col):\n",
        "        col_index = df_norm.iloc[: ,index]\n",
        "        greater_than_3 = df_norm[col_index > 3]\n",
        "        greater_than_3_index = greater_than_3.index\n",
        "        indices_arr.extend(greater_than_3_index)\n",
        "    return indices_arr\n",
        "\n",
        "indices_arr = indices_of_greater_than_3(df_num_final_norm)\n",
        "print(\"Number of outliers using Z-Score method-\",len(indices_arr))\n",
        "df_final.iloc[indices_arr, :]"
      ]
    },
    {
      "cell_type": "code",
      "execution_count": null,
      "id": "df48a9ed",
      "metadata": {
        "execution": {
          "iopub.execute_input": "2021-09-21T16:06:43.738525Z",
          "iopub.status.busy": "2021-09-21T16:06:43.737856Z",
          "iopub.status.idle": "2021-09-21T16:06:43.743470Z",
          "shell.execute_reply": "2021-09-21T16:06:43.742862Z",
          "shell.execute_reply.started": "2021-09-14T13:36:30.6135Z"
        },
        "papermill": {
          "duration": 0.064876,
          "end_time": "2021-09-21T16:06:43.743611",
          "exception": false,
          "start_time": "2021-09-21T16:06:43.678735",
          "status": "completed"
        },
        "tags": [],
        "colab": {
          "base_uri": "https://localhost:8080/"
        },
        "id": "df48a9ed",
        "outputId": "29588cdb-4e21-4876-aa55-e40a3fb2c20d"
      },
      "outputs": [
        {
          "output_type": "execute_result",
          "data": {
            "text/plain": [
              "(1785, 12)"
            ]
          },
          "metadata": {},
          "execution_count": 592
        }
      ],
      "source": [
        "df_final.drop(indices_arr, axis=0, inplace=True)\n",
        "df_final.shape"
      ]
    },
    {
      "cell_type": "code",
      "execution_count": null,
      "id": "42305901",
      "metadata": {
        "execution": {
          "iopub.execute_input": "2021-09-21T16:06:43.876156Z",
          "iopub.status.busy": "2021-09-21T16:06:43.875435Z",
          "iopub.status.idle": "2021-09-21T16:06:45.822554Z",
          "shell.execute_reply": "2021-09-21T16:06:45.821897Z",
          "shell.execute_reply.started": "2021-09-14T13:36:30.62653Z"
        },
        "papermill": {
          "duration": 2.024221,
          "end_time": "2021-09-21T16:06:45.822732",
          "exception": false,
          "start_time": "2021-09-21T16:06:43.798511",
          "status": "completed"
        },
        "tags": [],
        "colab": {
          "base_uri": "https://localhost:8080/"
        },
        "id": "42305901",
        "outputId": "c81de1a3-9b6b-4675-c40f-ffbcbe1c3ec6"
      },
      "outputs": [
        {
          "output_type": "display_data",
          "data": {
            "text/plain": [
              "<Figure size 504x360 with 1 Axes>"
            ],
            "image/png": "[encoded data removed]"
          },
          "metadata": {
            "needs_background": "light"
          }
        },
        {
          "output_type": "display_data",
          "data": {
            "text/plain": [
              "<Figure size 504x360 with 1 Axes>"
            ],
            "image/png": "[encoded data removed]"
          },
          "metadata": {
            "needs_background": "light"
          }
        },
        {
          "output_type": "display_data",
          "data": {
            "text/plain": [
              "<Figure size 504x360 with 1 Axes>"
            ],
            "image/png": "[encoded data removed]"
          },
          "metadata": {
            "needs_background": "light"
          }
        },
        {
          "output_type": "display_data",
          "data": {
            "text/plain": [
              "<Figure size 504x360 with 1 Axes>"
            ],
            "image/png": "[encoded data removed]"
          },
          "metadata": {
            "needs_background": "light"
          }
        },
        {
          "output_type": "display_data",
          "data": {
            "text/plain": [
              "<Figure size 504x360 with 1 Axes>"
            ],
            "image/png": "[encoded data removed]"
          },
          "metadata": {
            "needs_background": "light"
          }
        },
        {
          "output_type": "display_data",
          "data": {
            "text/plain": [
              "<Figure size 504x360 with 1 Axes>"
            ],
            "image/png": "[encoded data removed]"
          },
          "metadata": {
            "needs_background": "light"
          }
        },
        {
          "output_type": "display_data",
          "data": {
            "text/plain": [
              "<Figure size 504x360 with 1 Axes>"
            ],
            "image/png": "[encoded data removed]"
          },
          "metadata": {
            "needs_background": "light"
          }
        },
        {
          "output_type": "display_data",
          "data": {
            "text/plain": [
              "<Figure size 504x360 with 1 Axes>"
            ],
            "image/png": "[encoded data removed]"
          },
          "metadata": {
            "needs_background": "light"
          }
        },
        {
          "output_type": "display_data",
          "data": {
            "text/plain": [
              "<Figure size 504x360 with 1 Axes>"
            ],
            "image/png": "[encoded data removed]"
          },
          "metadata": {
            "needs_background": "light"
          }
        }
      ],
      "source": [
        "# KDE plots after removal of outliers\n",
        "plot_kde(df_final.select_dtypes(exclude=\"object\"))"
      ]
    },
    {
      "cell_type": "markdown",
      "source": [
        "# Water Quality Index Calculation"
      ],
      "metadata": {
        "id": "PP_zelVx3j_L"
      },
      "id": "PP_zelVx3j_L"
    },
    {
      "cell_type": "markdown",
      "id": "bed1fcdf",
      "metadata": {
        "papermill": {
          "duration": 0.062228,
          "end_time": "2021-09-21T16:06:45.948456",
          "exception": false,
          "start_time": "2021-09-21T16:06:45.886228",
          "status": "completed"
        },
        "tags": [],
        "id": "bed1fcdf"
      },
      "source": [
        "\n",
        "\n",
        "I will be using \"Weighted Arithmetic Water Quality Index Method\" to calculate WQI of each water sample. The formula to calculate WQI is - \n",
        "\n",
        "**WQI = ∑ qi × wi / ∑ wi**\n",
        "\n",
        "Here wi - Unit weight of ith parameter\n",
        "\n",
        "     qi - Quality estimate scale of each parameter, it is calculated with the formula - \n",
        "\n",
        "**qi = 100 × ( Vi − VIdeal / Si − VIdeal )**\n",
        "\n",
        "Here Vi - Measured value of ith parameter\n",
        "\n",
        "     Videal - Ideal value of ith parameter in pure water\n",
        "     \n",
        "     Si - Standard value recommended for ith parameter\n",
        "\n",
        "wi is calculated by the formula - \n",
        "\n",
        "**wi = K /  Si**\n",
        "\n",
        "Here K is proportionality constant which is - \n",
        "\n",
        " **K = 1 /  ∑ Si**"
      ]
    },
    {
      "cell_type": "markdown",
      "id": "9235a75d",
      "metadata": {
        "papermill": {
          "duration": 0.062479,
          "end_time": "2021-09-21T16:06:46.074303",
          "exception": false,
          "start_time": "2021-09-21T16:06:46.011824",
          "status": "completed"
        },
        "tags": [],
        "id": "9235a75d"
      },
      "source": [
        "##### Standard value recommended for parameters (Si) - \n",
        "\n",
        "Dissolved oxygen, mg/L               10\n",
        "\n",
        "pH                                   8.5\n",
        "\n",
        "Conductivity, µS/cm                  1000\n",
        "\n",
        "Biological oxygen demand, mg/L       5\n",
        "\n",
        "Nitrate, mg/L                        45\n",
        "\n",
        "Fecal coliform/100 mL                100\n",
        "\n",
        "Total coliform/100 mL                1000"
      ]
    },
    {
      "cell_type": "markdown",
      "id": "81369832",
      "metadata": {
        "papermill": {
          "duration": 0.06218,
          "end_time": "2021-09-21T16:06:46.199590",
          "exception": false,
          "start_time": "2021-09-21T16:06:46.137410",
          "status": "completed"
        },
        "tags": [],
        "id": "81369832"
      },
      "source": [
        "##### Values of unit weights for each parameter (wi) - \n",
        "\n",
        "Dissolved Oxygen                     0.2213\n",
        "\n",
        "pH                                   0.2604\n",
        "\n",
        "Conductivity                         0.0022\n",
        "\n",
        "Biological Oxygen Demand             0.4426\n",
        "\n",
        "Nitrate                              0.0492\n",
        "\n",
        "Fecal Coliform                       0.0221\n",
        "\n",
        "Total Coliform                       0.0022"
      ]
    },
    {
      "cell_type": "markdown",
      "id": "9f5a638d",
      "metadata": {
        "papermill": {
          "duration": 0.063473,
          "end_time": "2021-09-21T16:06:46.328570",
          "exception": false,
          "start_time": "2021-09-21T16:06:46.265097",
          "status": "completed"
        },
        "tags": [],
        "id": "9f5a638d"
      },
      "source": [
        "##### Ideal value of parameters (Videal) - \n",
        "\n",
        "Dissolved Oxygen                     14.6\n",
        "\n",
        "pH                                   7.0\n",
        "\n",
        "Conductivity                         0\n",
        "\n",
        "Biological Oxygen Demand             0\n",
        "\n",
        "Nitrate                              0\n",
        "\n",
        "Fecal Coliform                       0\n",
        "\n",
        "Total Coliform                       0"
      ]
    },
    {
      "cell_type": "code",
      "execution_count": null,
      "id": "68024503",
      "metadata": {
        "execution": {
          "iopub.execute_input": "2021-09-21T16:06:46.469170Z",
          "iopub.status.busy": "2021-09-21T16:06:46.468206Z",
          "iopub.status.idle": "2021-09-21T16:06:46.471062Z",
          "shell.execute_reply": "2021-09-21T16:06:46.470488Z",
          "shell.execute_reply.started": "2021-09-14T13:36:32.352844Z"
        },
        "papermill": {
          "duration": 0.078316,
          "end_time": "2021-09-21T16:06:46.471214",
          "exception": false,
          "start_time": "2021-09-21T16:06:46.392898",
          "status": "completed"
        },
        "tags": [],
        "id": "68024503"
      },
      "outputs": [],
      "source": [
        "# Calculating Water Quality Index of each sample\n",
        "df_num_final = df_final.select_dtypes(exclude=\"object\")\n",
        "# Dropping year and Temp attribute because they are not used for computing WQI\n",
        "df_num_final.drop([\"year\", \"Temp\"], axis=1, inplace=True)\n",
        "\n",
        "# Weight Vector(wi)\n",
        "wi = np.array([0.2213, 0.2604, 0.0022, 0.4426, 0.0492, 0.0221, 0.0022])\n",
        "\n",
        "# Standard values of parameters(si)\n",
        "si = np.array([10, 8.5, 1000, 5, 45, 100, 1000])\n",
        "\n",
        "# Ideal values of paramters(vIdeal)\n",
        "vIdeal = np.array([14.6, 7, 0, 0, 0, 0, 0])\n",
        "\n",
        "def calc_wqi(sample):\n",
        "    wqi_sample = 0\n",
        "    num_col = 7\n",
        "    for index in range(num_col):\n",
        "        v_index = sample[index] # Obeserved value of sample at index\n",
        "        v_index_ideal = vIdeal[index] # Ideal value of obeserved value\n",
        "        w_index = wi[index] # weight of corresponding parameter of obeserved value\n",
        "        std_index = si[index] # Standard value recommended for obeserved value\n",
        "        q_index = (v_index - v_index_ideal) / (std_index - v_index_ideal)\n",
        "        q_index = q_index * 100 # Final qi value of obeserved value\n",
        "        wqi_sample += q_index*w_index\n",
        "    return wqi_sample"
      ]
    },
    {
      "cell_type": "code",
      "execution_count": null,
      "id": "a070ebe8",
      "metadata": {
        "execution": {
          "iopub.execute_input": "2021-09-21T16:06:46.604536Z",
          "iopub.status.busy": "2021-09-21T16:06:46.603842Z",
          "iopub.status.idle": "2021-09-21T16:06:46.605773Z",
          "shell.execute_reply": "2021-09-21T16:06:46.606408Z",
          "shell.execute_reply.started": "2021-09-14T13:36:32.368701Z"
        },
        "papermill": {
          "duration": 0.071881,
          "end_time": "2021-09-21T16:06:46.606594",
          "exception": false,
          "start_time": "2021-09-21T16:06:46.534713",
          "status": "completed"
        },
        "tags": [],
        "id": "a070ebe8"
      },
      "outputs": [],
      "source": [
        "# Computing WQI for the whole dataset\n",
        "def calc_wqi_for_df(df):\n",
        "    wqi_arr = []\n",
        "    for index in range(df.shape[0]):\n",
        "        index_row = df.iloc[index, :]\n",
        "        wqi_row = calc_wqi(index_row)\n",
        "        wqi_arr.append(wqi_row)\n",
        "    return wqi_arr"
      ]
    },
    {
      "cell_type": "code",
      "execution_count": null,
      "id": "917dfed5",
      "metadata": {
        "execution": {
          "iopub.execute_input": "2021-09-21T16:06:46.747577Z",
          "iopub.status.busy": "2021-09-21T16:06:46.736605Z",
          "iopub.status.idle": "2021-09-21T16:06:47.039491Z",
          "shell.execute_reply": "2021-09-21T16:06:47.038891Z",
          "shell.execute_reply.started": "2021-09-14T13:36:32.378509Z"
        },
        "papermill": {
          "duration": 0.36995,
          "end_time": "2021-09-21T16:06:47.039786",
          "exception": false,
          "start_time": "2021-09-21T16:06:46.669836",
          "status": "completed"
        },
        "tags": [],
        "id": "917dfed5"
      },
      "outputs": [],
      "source": [
        "wqi_arr = calc_wqi_for_df(df_num_final)\n",
        "# Converting oridnary array to numpy array\n",
        "wqi_arr = np.array(wqi_arr)\n",
        "wqi_arr = np.reshape(wqi_arr, (-1, 1))\n",
        "\n",
        "# Resetting index values of the dataframes\n",
        "wqi_arr_df = pd.DataFrame(wqi_arr, columns=[\"WQI\"]).reset_index()\n",
        "df_final = df_final.reset_index()"
      ]
    },
    {
      "cell_type": "code",
      "execution_count": null,
      "id": "76e22860",
      "metadata": {
        "execution": {
          "iopub.execute_input": "2021-09-21T16:06:47.174431Z",
          "iopub.status.busy": "2021-09-21T16:06:47.173554Z",
          "iopub.status.idle": "2021-09-21T16:06:47.179230Z",
          "shell.execute_reply": "2021-09-21T16:06:47.179862Z",
          "shell.execute_reply.started": "2021-09-14T13:36:32.632886Z"
        },
        "papermill": {
          "duration": 0.075109,
          "end_time": "2021-09-21T16:06:47.180052",
          "exception": false,
          "start_time": "2021-09-21T16:06:47.104943",
          "status": "completed"
        },
        "tags": [],
        "colab": {
          "base_uri": "https://localhost:8080/"
        },
        "id": "76e22860",
        "outputId": "baae3290-b7bc-44cf-8c95-60a4abcac2e1"
      },
      "outputs": [
        {
          "output_type": "execute_result",
          "data": {
            "text/plain": [
              "(1785, 13)"
            ]
          },
          "metadata": {},
          "execution_count": 597
        }
      ],
      "source": [
        "# Combining dataframe of WQI and dataframe of attributes \n",
        "df_wqi = pd.concat([df_final, pd.DataFrame(wqi_arr, columns=[\"WQI\"])], axis=1)\n",
        "df_wqi.drop(\"index\", axis=1, inplace=True)\n",
        "df_wqi.shape"
      ]
    },
    {
      "cell_type": "code",
      "execution_count": null,
      "id": "1ecbc44e",
      "metadata": {
        "execution": {
          "iopub.execute_input": "2021-09-21T16:06:47.310347Z",
          "iopub.status.busy": "2021-09-21T16:06:47.309614Z",
          "iopub.status.idle": "2021-09-21T16:06:47.333246Z",
          "shell.execute_reply": "2021-09-21T16:06:47.332678Z",
          "shell.execute_reply.started": "2021-09-14T13:36:32.645849Z"
        },
        "papermill": {
          "duration": 0.090457,
          "end_time": "2021-09-21T16:06:47.333421",
          "exception": false,
          "start_time": "2021-09-21T16:06:47.242964",
          "status": "completed"
        },
        "tags": [],
        "colab": {
          "base_uri": "https://localhost:8080/"
        },
        "id": "1ecbc44e",
        "outputId": "0cfe7686-bf38-47fe-f55c-cca7d2f2d15f"
      },
      "outputs": [
        {
          "output_type": "execute_result",
          "data": {
            "text/plain": [
              "    STATION CODE                                      LOCATIONS        STATE  \\\n",
              "196         3375  LUKHA RIVER AT MYNDIHATI (TRIBUTARY OF LUNAR)    MEGHALAYA   \n",
              "231            2           DAMANGANGA AT D/S OF MADHUBAN, DAMAN  DAMAN & DIU   \n",
              "234         1865                        RIVER DHADAR AT KOTHADA      GUJARAT   \n",
              "446         3375                                    LUKHA RIVER    MEGHALAYA   \n",
              "719         3375  LUKHA RIVER AT MYNDIHATI (TRIBUTARY OF LUNAR)    MEGHALAYA   \n",
              "\n",
              "     Temp   DO   PH  Conductivity     BOD    NI  Fec_col  Tot_col    year  \\\n",
              "196  20.5  6.7  2.7        1350.0  3.3000  1.10      7.0     16.0  2014.0   \n",
              "231  27.0  6.7  0.0         208.0  1.8965  0.52    233.0    465.0  2013.0   \n",
              "234  27.0  6.7  0.0         506.0  1.8965  6.00     26.0    227.0  2013.0   \n",
              "446  21.3  6.8  2.7        1074.0  3.2000  2.33      4.0     11.0  2013.0   \n",
              "719  25.0  6.9  2.6        1072.0  3.2000  1.17      3.0     21.0  2012.0   \n",
              "\n",
              "           WQI  \n",
              "196  -6.855044  \n",
              "231 -61.372099  \n",
              "234 -65.334452  \n",
              "446  -8.214971  \n",
              "719 -10.579224  "
            ],
            "text/html": [
              "\n",
              "  <div id=\"df-a79a0523-ef96-4aa8-8737-8aaf036f7ede\">\n",
              "    <div class=\"colab-df-container\">\n",
              "      <div>\n",
              "<style scoped>\n",
              "    .dataframe tbody tr th:only-of-type {\n",
              "        vertical-align: middle;\n",
              "    }\n",
              "\n",
              "    .dataframe tbody tr th {\n",
              "        vertical-align: top;\n",
              "    }\n",
              "\n",
              "    .dataframe thead th {\n",
              "        text-align: right;\n",
              "    }\n",
              "</style>\n",
              "<table border=\"1\" class=\"dataframe\">\n",
              "  <thead>\n",
              "    <tr style=\"text-align: right;\">\n",
              "      <th></th>\n",
              "      <th>STATION CODE</th>\n",
              "      <th>LOCATIONS</th>\n",
              "      <th>STATE</th>\n",
              "      <th>Temp</th>\n",
              "      <th>DO</th>\n",
              "      <th>PH</th>\n",
              "      <th>Conductivity</th>\n",
              "      <th>BOD</th>\n",
              "      <th>NI</th>\n",
              "      <th>Fec_col</th>\n",
              "      <th>Tot_col</th>\n",
              "      <th>year</th>\n",
              "      <th>WQI</th>\n",
              "    </tr>\n",
              "  </thead>\n",
              "  <tbody>\n",
              "    <tr>\n",
              "      <th>196</th>\n",
              "      <td>3375</td>\n",
              "      <td>LUKHA RIVER AT MYNDIHATI (TRIBUTARY OF LUNAR)</td>\n",
              "      <td>MEGHALAYA</td>\n",
              "      <td>20.5</td>\n",
              "      <td>6.7</td>\n",
              "      <td>2.7</td>\n",
              "      <td>1350.0</td>\n",
              "      <td>3.3000</td>\n",
              "      <td>1.10</td>\n",
              "      <td>7.0</td>\n",
              "      <td>16.0</td>\n",
              "      <td>2014.0</td>\n",
              "      <td>-6.855044</td>\n",
              "    </tr>\n",
              "    <tr>\n",
              "      <th>231</th>\n",
              "      <td>2</td>\n",
              "      <td>DAMANGANGA AT D/S OF MADHUBAN, DAMAN</td>\n",
              "      <td>DAMAN &amp; DIU</td>\n",
              "      <td>27.0</td>\n",
              "      <td>6.7</td>\n",
              "      <td>0.0</td>\n",
              "      <td>208.0</td>\n",
              "      <td>1.8965</td>\n",
              "      <td>0.52</td>\n",
              "      <td>233.0</td>\n",
              "      <td>465.0</td>\n",
              "      <td>2013.0</td>\n",
              "      <td>-61.372099</td>\n",
              "    </tr>\n",
              "    <tr>\n",
              "      <th>234</th>\n",
              "      <td>1865</td>\n",
              "      <td>RIVER DHADAR AT KOTHADA</td>\n",
              "      <td>GUJARAT</td>\n",
              "      <td>27.0</td>\n",
              "      <td>6.7</td>\n",
              "      <td>0.0</td>\n",
              "      <td>506.0</td>\n",
              "      <td>1.8965</td>\n",
              "      <td>6.00</td>\n",
              "      <td>26.0</td>\n",
              "      <td>227.0</td>\n",
              "      <td>2013.0</td>\n",
              "      <td>-65.334452</td>\n",
              "    </tr>\n",
              "    <tr>\n",
              "      <th>446</th>\n",
              "      <td>3375</td>\n",
              "      <td>LUKHA RIVER</td>\n",
              "      <td>MEGHALAYA</td>\n",
              "      <td>21.3</td>\n",
              "      <td>6.8</td>\n",
              "      <td>2.7</td>\n",
              "      <td>1074.0</td>\n",
              "      <td>3.2000</td>\n",
              "      <td>2.33</td>\n",
              "      <td>4.0</td>\n",
              "      <td>11.0</td>\n",
              "      <td>2013.0</td>\n",
              "      <td>-8.214971</td>\n",
              "    </tr>\n",
              "    <tr>\n",
              "      <th>719</th>\n",
              "      <td>3375</td>\n",
              "      <td>LUKHA RIVER AT MYNDIHATI (TRIBUTARY OF LUNAR)</td>\n",
              "      <td>MEGHALAYA</td>\n",
              "      <td>25.0</td>\n",
              "      <td>6.9</td>\n",
              "      <td>2.6</td>\n",
              "      <td>1072.0</td>\n",
              "      <td>3.2000</td>\n",
              "      <td>1.17</td>\n",
              "      <td>3.0</td>\n",
              "      <td>21.0</td>\n",
              "      <td>2012.0</td>\n",
              "      <td>-10.579224</td>\n",
              "    </tr>\n",
              "  </tbody>\n",
              "</table>\n",
              "</div>\n",
              "      <button class=\"colab-df-convert\" onclick=\"convertToInteractive('df-a79a0523-ef96-4aa8-8737-8aaf036f7ede')\"\n",
              "              title=\"Convert this dataframe to an interactive table.\"\n",
              "              style=\"display:none;\">\n",
              "        \n",
              "  <svg xmlns=\"http://www.w3.org/2000/svg\" height=\"24px\"viewBox=\"0 0 24 24\"\n",
              "       width=\"24px\">\n",
              "    <path d=\"M0 0h24v24H0V0z\" fill=\"none\"/>\n",
              "    <path d=\"M18.56 5.44l.94 2.06.94-2.06 2.06-.94-2.06-.94-.94-2.06-.94 2.06-2.06.94zm-11 1L8.5 8.5l.94-2.06 2.06-.94-2.06-.94L8.5 2.5l-.94 2.06-2.06.94zm10 10l.94 2.06.94-2.06 2.06-.94-2.06-.94-.94-2.06-.94 2.06-2.06.94z\"/><path d=\"M17.41 7.96l-1.37-1.37c-.4-.4-.92-.59-1.43-.59-.52 0-1.04.2-1.43.59L10.3 9.45l-7.72 7.72c-.78.78-.78 2.05 0 2.83L4 21.41c.39.39.9.59 1.41.59.51 0 1.02-.2 1.41-.59l7.78-7.78 2.81-2.81c.8-.78.8-2.07 0-2.86zM5.41 20L4 18.59l7.72-7.72 1.47 1.35L5.41 20z\"/>\n",
              "  </svg>\n",
              "      </button>\n",
              "      \n",
              "  <style>\n",
              "    .colab-df-container {\n",
              "      display:flex;\n",
              "      flex-wrap:wrap;\n",
              "      gap: 12px;\n",
              "    }\n",
              "\n",
              "    .colab-df-convert {\n",
              "      background-color: #E8F0FE;\n",
              "      border: none;\n",
              "      border-radius: 50%;\n",
              "      cursor: pointer;\n",
              "      display: none;\n",
              "      fill: #1967D2;\n",
              "      height: 32px;\n",
              "      padding: 0 0 0 0;\n",
              "      width: 32px;\n",
              "    }\n",
              "\n",
              "    .colab-df-convert:hover {\n",
              "      background-color: #E2EBFA;\n",
              "      box-shadow: 0px 1px 2px rgba(60, 64, 67, 0.3), 0px 1px 3px 1px rgba(60, 64, 67, 0.15);\n",
              "      fill: #174EA6;\n",
              "    }\n",
              "\n",
              "    [theme=dark] .colab-df-convert {\n",
              "      background-color: #3B4455;\n",
              "      fill: #D2E3FC;\n",
              "    }\n",
              "\n",
              "    [theme=dark] .colab-df-convert:hover {\n",
              "      background-color: #434B5C;\n",
              "      box-shadow: 0px 1px 3px 1px rgba(0, 0, 0, 0.15);\n",
              "      filter: drop-shadow(0px 1px 2px rgba(0, 0, 0, 0.3));\n",
              "      fill: #FFFFFF;\n",
              "    }\n",
              "  </style>\n",
              "\n",
              "      <script>\n",
              "        const buttonEl =\n",
              "          document.querySelector('#df-a79a0523-ef96-4aa8-8737-8aaf036f7ede button.colab-df-convert');\n",
              "        buttonEl.style.display =\n",
              "          google.colab.kernel.accessAllowed ? 'block' : 'none';\n",
              "\n",
              "        async function convertToInteractive(key) {\n",
              "          const element = document.querySelector('#df-a79a0523-ef96-4aa8-8737-8aaf036f7ede');\n",
              "          const dataTable =\n",
              "            await google.colab.kernel.invokeFunction('convertToInteractive',\n",
              "                                                     [key], {});\n",
              "          if (!dataTable) return;\n",
              "\n",
              "          const docLinkHtml = 'Like what you see? Visit the ' +\n",
              "            '<a target=\"_blank\" href=https://colab.research.google.com/notebooks/data_table.ipynb>data table notebook</a>'\n",
              "            + ' to learn more about interactive tables.';\n",
              "          element.innerHTML = '';\n",
              "          dataTable['output_type'] = 'display_data';\n",
              "          await google.colab.output.renderOutput(dataTable, element);\n",
              "          const docLink = document.createElement('div');\n",
              "          docLink.innerHTML = docLinkHtml;\n",
              "          element.appendChild(docLink);\n",
              "        }\n",
              "      </script>\n",
              "    </div>\n",
              "  </div>\n",
              "  "
            ]
          },
          "metadata": {},
          "execution_count": 598
        }
      ],
      "source": [
        "# These are samples with negative WQI\n",
        "df_wqi[(df_wqi[\"WQI\"] < 0)]"
      ]
    },
    {
      "cell_type": "code",
      "execution_count": null,
      "id": "7be48c8e",
      "metadata": {
        "execution": {
          "iopub.execute_input": "2021-09-21T16:06:47.470223Z",
          "iopub.status.busy": "2021-09-21T16:06:47.469367Z",
          "iopub.status.idle": "2021-09-21T16:06:47.472989Z",
          "shell.execute_reply": "2021-09-21T16:06:47.472444Z",
          "shell.execute_reply.started": "2021-09-14T13:36:32.671484Z"
        },
        "papermill": {
          "duration": 0.074072,
          "end_time": "2021-09-21T16:06:47.473148",
          "exception": false,
          "start_time": "2021-09-21T16:06:47.399076",
          "status": "completed"
        },
        "tags": [],
        "id": "7be48c8e"
      },
      "outputs": [],
      "source": [
        "# Removing the samples with negative WQI\n",
        "df_neg_indices = df_wqi[(df_wqi[\"WQI\"] < 0)].index\n",
        "df_wqi.drop(df_neg_indices, axis=0, inplace=True)"
      ]
    },
    {
      "cell_type": "markdown",
      "source": [
        "# Classification based on WQI"
      ],
      "metadata": {
        "id": "phL8_1W-30YC"
      },
      "id": "phL8_1W-30YC"
    },
    {
      "cell_type": "markdown",
      "id": "c5827a17",
      "metadata": {
        "papermill": {
          "duration": 0.063964,
          "end_time": "2021-09-21T16:06:47.600424",
          "exception": false,
          "start_time": "2021-09-21T16:06:47.536460",
          "status": "completed"
        },
        "tags": [],
        "id": "c5827a17"
      },
      "source": [
        "Now I will set level of water contamination based on WQI -\n",
        "\n",
        "          WQI Range                   Classification\n",
        "\n",
        "         Less than 25                  Excellent(3)\n",
        "            26–50                         Good(2)\n",
        "            51-75                         Poor(1)\n",
        "        Greater than 75                 Very Poor(0)"
      ]
    },
    {
      "cell_type": "code",
      "execution_count": null,
      "id": "39e3ec0b",
      "metadata": {
        "execution": {
          "iopub.execute_input": "2021-09-21T16:06:47.737037Z",
          "iopub.status.busy": "2021-09-21T16:06:47.736330Z",
          "iopub.status.idle": "2021-09-21T16:06:47.739029Z",
          "shell.execute_reply": "2021-09-21T16:06:47.738446Z",
          "shell.execute_reply.started": "2021-09-14T13:36:32.686376Z"
        },
        "papermill": {
          "duration": 0.075269,
          "end_time": "2021-09-21T16:06:47.739189",
          "exception": false,
          "start_time": "2021-09-21T16:06:47.663920",
          "status": "completed"
        },
        "tags": [],
        "id": "39e3ec0b"
      },
      "outputs": [],
      "source": [
        "df_wqi[\"Label\"] = df_wqi[\"WQI\"].apply(lambda x: (3 if (x <= 25)  \n",
        "                                        else(2 if (26<=x<=50) \n",
        "                                        else(1 if (51<=x<=75) \n",
        "                                        else 0))))"
      ]
    },
    {
      "cell_type": "code",
      "execution_count": null,
      "id": "0b3ed2d8",
      "metadata": {
        "execution": {
          "iopub.execute_input": "2021-09-21T16:06:47.873718Z",
          "iopub.status.busy": "2021-09-21T16:06:47.872992Z",
          "iopub.status.idle": "2021-09-21T16:06:47.895303Z",
          "shell.execute_reply": "2021-09-21T16:06:47.895938Z",
          "shell.execute_reply.started": "2021-09-14T13:36:32.701739Z"
        },
        "papermill": {
          "duration": 0.091825,
          "end_time": "2021-09-21T16:06:47.896119",
          "exception": false,
          "start_time": "2021-09-21T16:06:47.804294",
          "status": "completed"
        },
        "tags": [],
        "colab": {
          "base_uri": "https://localhost:8080/",
          "height": 372
        },
        "id": "0b3ed2d8",
        "outputId": "e80e00c6-d057-4dc1-df74-30356214ec7d"
      },
      "outputs": [
        {
          "output_type": "execute_result",
          "data": {
            "text/plain": [
              "     STATION CODE                                          LOCATIONS  \\\n",
              "1780         1329  TAMBIRAPARANI AT RAIL BDG. NR. AMBASAMUDAM, TA...   \n",
              "1781         1330            TAMBIRAPARANI AT ARUMUGANERI, TAMILNADU   \n",
              "1782         1450  PALAR AT VANIYAMBADI WATER SUPPLY HEAD WORK, T...   \n",
              "1783         1403                 GUMTI AT U/S SOUTH TRIPURA,TRIPURA   \n",
              "1784         1404                GUMTI AT D/S SOUTH TRIPURA, TRIPURA   \n",
              "\n",
              "          STATE  Temp   DO    PH  Conductivity    BOD     NI  Fec_col  \\\n",
              "1780  TAMILNADU  27.0  7.4  7.00          88.5  0.977  0.186     27.0   \n",
              "1781  TAMILNADU  27.0  6.6  7.81         603.2  2.675  0.263     40.0   \n",
              "1782  TAMILNADU  28.0  6.6  7.49         571.5  2.091  0.256    151.0   \n",
              "1783    TRIPURA  28.0  5.4  7.16          75.8  2.092  0.520    404.0   \n",
              "1784    TRIPURA  30.0  5.4  7.37         104.8  1.802  0.215    456.0   \n",
              "\n",
              "      Tot_col    year        WQI  Label  \n",
              "1780    105.0  2005.0  43.946271      2  \n",
              "1781    191.0  2005.0  77.315135      0  \n",
              "1782    273.0  2005.0  69.053768      1  \n",
              "1783    513.0  2005.0  74.670773      1  \n",
              "1784    557.0  2005.0  76.881207      0  "
            ],
            "text/html": [
              "\n",
              "  <div id=\"df-d4d3857e-c163-4ddb-93ab-b4ccd24ee8b8\">\n",
              "    <div class=\"colab-df-container\">\n",
              "      <div>\n",
              "<style scoped>\n",
              "    .dataframe tbody tr th:only-of-type {\n",
              "        vertical-align: middle;\n",
              "    }\n",
              "\n",
              "    .dataframe tbody tr th {\n",
              "        vertical-align: top;\n",
              "    }\n",
              "\n",
              "    .dataframe thead th {\n",
              "        text-align: right;\n",
              "    }\n",
              "</style>\n",
              "<table border=\"1\" class=\"dataframe\">\n",
              "  <thead>\n",
              "    <tr style=\"text-align: right;\">\n",
              "      <th></th>\n",
              "      <th>STATION CODE</th>\n",
              "      <th>LOCATIONS</th>\n",
              "      <th>STATE</th>\n",
              "      <th>Temp</th>\n",
              "      <th>DO</th>\n",
              "      <th>PH</th>\n",
              "      <th>Conductivity</th>\n",
              "      <th>BOD</th>\n",
              "      <th>NI</th>\n",
              "      <th>Fec_col</th>\n",
              "      <th>Tot_col</th>\n",
              "      <th>year</th>\n",
              "      <th>WQI</th>\n",
              "      <th>Label</th>\n",
              "    </tr>\n",
              "  </thead>\n",
              "  <tbody>\n",
              "    <tr>\n",
              "      <th>1780</th>\n",
              "      <td>1329</td>\n",
              "      <td>TAMBIRAPARANI AT RAIL BDG. NR. AMBASAMUDAM, TA...</td>\n",
              "      <td>TAMILNADU</td>\n",
              "      <td>27.0</td>\n",
              "      <td>7.4</td>\n",
              "      <td>7.00</td>\n",
              "      <td>88.5</td>\n",
              "      <td>0.977</td>\n",
              "      <td>0.186</td>\n",
              "      <td>27.0</td>\n",
              "      <td>105.0</td>\n",
              "      <td>2005.0</td>\n",
              "      <td>43.946271</td>\n",
              "      <td>2</td>\n",
              "    </tr>\n",
              "    <tr>\n",
              "      <th>1781</th>\n",
              "      <td>1330</td>\n",
              "      <td>TAMBIRAPARANI AT ARUMUGANERI, TAMILNADU</td>\n",
              "      <td>TAMILNADU</td>\n",
              "      <td>27.0</td>\n",
              "      <td>6.6</td>\n",
              "      <td>7.81</td>\n",
              "      <td>603.2</td>\n",
              "      <td>2.675</td>\n",
              "      <td>0.263</td>\n",
              "      <td>40.0</td>\n",
              "      <td>191.0</td>\n",
              "      <td>2005.0</td>\n",
              "      <td>77.315135</td>\n",
              "      <td>0</td>\n",
              "    </tr>\n",
              "    <tr>\n",
              "      <th>1782</th>\n",
              "      <td>1450</td>\n",
              "      <td>PALAR AT VANIYAMBADI WATER SUPPLY HEAD WORK, T...</td>\n",
              "      <td>TAMILNADU</td>\n",
              "      <td>28.0</td>\n",
              "      <td>6.6</td>\n",
              "      <td>7.49</td>\n",
              "      <td>571.5</td>\n",
              "      <td>2.091</td>\n",
              "      <td>0.256</td>\n",
              "      <td>151.0</td>\n",
              "      <td>273.0</td>\n",
              "      <td>2005.0</td>\n",
              "      <td>69.053768</td>\n",
              "      <td>1</td>\n",
              "    </tr>\n",
              "    <tr>\n",
              "      <th>1783</th>\n",
              "      <td>1403</td>\n",
              "      <td>GUMTI AT U/S SOUTH TRIPURA,TRIPURA</td>\n",
              "      <td>TRIPURA</td>\n",
              "      <td>28.0</td>\n",
              "      <td>5.4</td>\n",
              "      <td>7.16</td>\n",
              "      <td>75.8</td>\n",
              "      <td>2.092</td>\n",
              "      <td>0.520</td>\n",
              "      <td>404.0</td>\n",
              "      <td>513.0</td>\n",
              "      <td>2005.0</td>\n",
              "      <td>74.670773</td>\n",
              "      <td>1</td>\n",
              "    </tr>\n",
              "    <tr>\n",
              "      <th>1784</th>\n",
              "      <td>1404</td>\n",
              "      <td>GUMTI AT D/S SOUTH TRIPURA, TRIPURA</td>\n",
              "      <td>TRIPURA</td>\n",
              "      <td>30.0</td>\n",
              "      <td>5.4</td>\n",
              "      <td>7.37</td>\n",
              "      <td>104.8</td>\n",
              "      <td>1.802</td>\n",
              "      <td>0.215</td>\n",
              "      <td>456.0</td>\n",
              "      <td>557.0</td>\n",
              "      <td>2005.0</td>\n",
              "      <td>76.881207</td>\n",
              "      <td>0</td>\n",
              "    </tr>\n",
              "  </tbody>\n",
              "</table>\n",
              "</div>\n",
              "      <button class=\"colab-df-convert\" onclick=\"convertToInteractive('df-d4d3857e-c163-4ddb-93ab-b4ccd24ee8b8')\"\n",
              "              title=\"Convert this dataframe to an interactive table.\"\n",
              "              style=\"display:none;\">\n",
              "        \n",
              "  <svg xmlns=\"http://www.w3.org/2000/svg\" height=\"24px\"viewBox=\"0 0 24 24\"\n",
              "       width=\"24px\">\n",
              "    <path d=\"M0 0h24v24H0V0z\" fill=\"none\"/>\n",
              "    <path d=\"M18.56 5.44l.94 2.06.94-2.06 2.06-.94-2.06-.94-.94-2.06-.94 2.06-2.06.94zm-11 1L8.5 8.5l.94-2.06 2.06-.94-2.06-.94L8.5 2.5l-.94 2.06-2.06.94zm10 10l.94 2.06.94-2.06 2.06-.94-2.06-.94-.94-2.06-.94 2.06-2.06.94z\"/><path d=\"M17.41 7.96l-1.37-1.37c-.4-.4-.92-.59-1.43-.59-.52 0-1.04.2-1.43.59L10.3 9.45l-7.72 7.72c-.78.78-.78 2.05 0 2.83L4 21.41c.39.39.9.59 1.41.59.51 0 1.02-.2 1.41-.59l7.78-7.78 2.81-2.81c.8-.78.8-2.07 0-2.86zM5.41 20L4 18.59l7.72-7.72 1.47 1.35L5.41 20z\"/>\n",
              "  </svg>\n",
              "      </button>\n",
              "      \n",
              "  <style>\n",
              "    .colab-df-container {\n",
              "      display:flex;\n",
              "      flex-wrap:wrap;\n",
              "      gap: 12px;\n",
              "    }\n",
              "\n",
              "    .colab-df-convert {\n",
              "      background-color: #E8F0FE;\n",
              "      border: none;\n",
              "      border-radius: 50%;\n",
              "      cursor: pointer;\n",
              "      display: none;\n",
              "      fill: #1967D2;\n",
              "      height: 32px;\n",
              "      padding: 0 0 0 0;\n",
              "      width: 32px;\n",
              "    }\n",
              "\n",
              "    .colab-df-convert:hover {\n",
              "      background-color: #E2EBFA;\n",
              "      box-shadow: 0px 1px 2px rgba(60, 64, 67, 0.3), 0px 1px 3px 1px rgba(60, 64, 67, 0.15);\n",
              "      fill: #174EA6;\n",
              "    }\n",
              "\n",
              "    [theme=dark] .colab-df-convert {\n",
              "      background-color: #3B4455;\n",
              "      fill: #D2E3FC;\n",
              "    }\n",
              "\n",
              "    [theme=dark] .colab-df-convert:hover {\n",
              "      background-color: #434B5C;\n",
              "      box-shadow: 0px 1px 3px 1px rgba(0, 0, 0, 0.15);\n",
              "      filter: drop-shadow(0px 1px 2px rgba(0, 0, 0, 0.3));\n",
              "      fill: #FFFFFF;\n",
              "    }\n",
              "  </style>\n",
              "\n",
              "      <script>\n",
              "        const buttonEl =\n",
              "          document.querySelector('#df-d4d3857e-c163-4ddb-93ab-b4ccd24ee8b8 button.colab-df-convert');\n",
              "        buttonEl.style.display =\n",
              "          google.colab.kernel.accessAllowed ? 'block' : 'none';\n",
              "\n",
              "        async function convertToInteractive(key) {\n",
              "          const element = document.querySelector('#df-d4d3857e-c163-4ddb-93ab-b4ccd24ee8b8');\n",
              "          const dataTable =\n",
              "            await google.colab.kernel.invokeFunction('convertToInteractive',\n",
              "                                                     [key], {});\n",
              "          if (!dataTable) return;\n",
              "\n",
              "          const docLinkHtml = 'Like what you see? Visit the ' +\n",
              "            '<a target=\"_blank\" href=https://colab.research.google.com/notebooks/data_table.ipynb>data table notebook</a>'\n",
              "            + ' to learn more about interactive tables.';\n",
              "          element.innerHTML = '';\n",
              "          dataTable['output_type'] = 'display_data';\n",
              "          await google.colab.output.renderOutput(dataTable, element);\n",
              "          const docLink = document.createElement('div');\n",
              "          docLink.innerHTML = docLinkHtml;\n",
              "          element.appendChild(docLink);\n",
              "        }\n",
              "      </script>\n",
              "    </div>\n",
              "  </div>\n",
              "  "
            ]
          },
          "metadata": {},
          "execution_count": 601
        }
      ],
      "source": [
        "df_wqi.tail()"
      ]
    },
    {
      "cell_type": "code",
      "source": [
        "df_wqi"
      ],
      "metadata": {
        "colab": {
          "base_uri": "https://localhost:8080/",
          "height": 676
        },
        "id": "cBuCgL4cB_ej",
        "outputId": "3b6686ef-a6b4-4104-b056-062e5960c5a6"
      },
      "id": "cBuCgL4cB_ej",
      "execution_count": null,
      "outputs": [
        {
          "output_type": "execute_result",
          "data": {
            "text/plain": [
              "     STATION CODE                                          LOCATIONS  \\\n",
              "0            1393               DAMANGANGA AT D/S OF MADHUBAN, DAMAN   \n",
              "1            1399  ZUARI AT D/S OF PT. WHERE KUMBARJRIA CANAL JOI...   \n",
              "2            1475                                ZUARI AT PANCHAWADI   \n",
              "3            3181                        RIVER ZUARI AT BORIM BRIDGE   \n",
              "4            3182                       RIVER ZUARI AT MARCAIM JETTY   \n",
              "...           ...                                                ...   \n",
              "1780         1329  TAMBIRAPARANI AT RAIL BDG. NR. AMBASAMUDAM, TA...   \n",
              "1781         1330            TAMBIRAPARANI AT ARUMUGANERI, TAMILNADU   \n",
              "1782         1450  PALAR AT VANIYAMBADI WATER SUPPLY HEAD WORK, T...   \n",
              "1783         1403                 GUMTI AT U/S SOUTH TRIPURA,TRIPURA   \n",
              "1784         1404                GUMTI AT D/S SOUTH TRIPURA, TRIPURA   \n",
              "\n",
              "            STATE  Temp   DO    PH  Conductivity     BOD     NI  Fec_col  \\\n",
              "0     DAMAN & DIU  30.6  6.7  7.50         203.0  1.8965  0.100     11.0   \n",
              "1             GOA  29.8  5.7  7.20         189.0  2.0000  0.200   4953.0   \n",
              "2             GOA  29.5  6.3  6.90         179.0  1.7000  0.100   3243.0   \n",
              "3             GOA  29.7  5.8  6.90          64.0  3.8000  0.500   5382.0   \n",
              "4             GOA  29.5  5.8  7.30          83.0  1.9000  0.400   3428.0   \n",
              "...           ...   ...  ...   ...           ...     ...    ...      ...   \n",
              "1780    TAMILNADU  27.0  7.4  7.00          88.5  0.9770  0.186     27.0   \n",
              "1781    TAMILNADU  27.0  6.6  7.81         603.2  2.6750  0.263     40.0   \n",
              "1782    TAMILNADU  28.0  6.6  7.49         571.5  2.0910  0.256    151.0   \n",
              "1783      TRIPURA  28.0  5.4  7.16          75.8  2.0920  0.520    404.0   \n",
              "1784      TRIPURA  30.0  5.4  7.37         104.8  1.8020  0.215    456.0   \n",
              "\n",
              "      Tot_col    year         WQI  Label  \n",
              "0        27.0  2014.0   63.778321      1  \n",
              "1      8391.0  2014.0  175.363506      0  \n",
              "2      5330.0  2014.0  126.135831      0  \n",
              "3      8443.0  2014.0  195.105659      0  \n",
              "4      5500.0  2014.0  141.393246      0  \n",
              "...       ...     ...         ...    ...  \n",
              "1780    105.0  2005.0   43.946271      2  \n",
              "1781    191.0  2005.0   77.315135      0  \n",
              "1782    273.0  2005.0   69.053768      1  \n",
              "1783    513.0  2005.0   74.670773      1  \n",
              "1784    557.0  2005.0   76.881207      0  \n",
              "\n",
              "[1780 rows x 14 columns]"
            ],
            "text/html": [
              "\n",
              "  <div id=\"df-149308dc-caae-4322-9079-0e07a1e28e18\">\n",
              "    <div class=\"colab-df-container\">\n",
              "      <div>\n",
              "<style scoped>\n",
              "    .dataframe tbody tr th:only-of-type {\n",
              "        vertical-align: middle;\n",
              "    }\n",
              "\n",
              "    .dataframe tbody tr th {\n",
              "        vertical-align: top;\n",
              "    }\n",
              "\n",
              "    .dataframe thead th {\n",
              "        text-align: right;\n",
              "    }\n",
              "</style>\n",
              "<table border=\"1\" class=\"dataframe\">\n",
              "  <thead>\n",
              "    <tr style=\"text-align: right;\">\n",
              "      <th></th>\n",
              "      <th>STATION CODE</th>\n",
              "      <th>LOCATIONS</th>\n",
              "      <th>STATE</th>\n",
              "      <th>Temp</th>\n",
              "      <th>DO</th>\n",
              "      <th>PH</th>\n",
              "      <th>Conductivity</th>\n",
              "      <th>BOD</th>\n",
              "      <th>NI</th>\n",
              "      <th>Fec_col</th>\n",
              "      <th>Tot_col</th>\n",
              "      <th>year</th>\n",
              "      <th>WQI</th>\n",
              "      <th>Label</th>\n",
              "    </tr>\n",
              "  </thead>\n",
              "  <tbody>\n",
              "    <tr>\n",
              "      <th>0</th>\n",
              "      <td>1393</td>\n",
              "      <td>DAMANGANGA AT D/S OF MADHUBAN, DAMAN</td>\n",
              "      <td>DAMAN &amp; DIU</td>\n",
              "      <td>30.6</td>\n",
              "      <td>6.7</td>\n",
              "      <td>7.50</td>\n",
              "      <td>203.0</td>\n",
              "      <td>1.8965</td>\n",
              "      <td>0.100</td>\n",
              "      <td>11.0</td>\n",
              "      <td>27.0</td>\n",
              "      <td>2014.0</td>\n",
              "      <td>63.778321</td>\n",
              "      <td>1</td>\n",
              "    </tr>\n",
              "    <tr>\n",
              "      <th>1</th>\n",
              "      <td>1399</td>\n",
              "      <td>ZUARI AT D/S OF PT. WHERE KUMBARJRIA CANAL JOI...</td>\n",
              "      <td>GOA</td>\n",
              "      <td>29.8</td>\n",
              "      <td>5.7</td>\n",
              "      <td>7.20</td>\n",
              "      <td>189.0</td>\n",
              "      <td>2.0000</td>\n",
              "      <td>0.200</td>\n",
              "      <td>4953.0</td>\n",
              "      <td>8391.0</td>\n",
              "      <td>2014.0</td>\n",
              "      <td>175.363506</td>\n",
              "      <td>0</td>\n",
              "    </tr>\n",
              "    <tr>\n",
              "      <th>2</th>\n",
              "      <td>1475</td>\n",
              "      <td>ZUARI AT PANCHAWADI</td>\n",
              "      <td>GOA</td>\n",
              "      <td>29.5</td>\n",
              "      <td>6.3</td>\n",
              "      <td>6.90</td>\n",
              "      <td>179.0</td>\n",
              "      <td>1.7000</td>\n",
              "      <td>0.100</td>\n",
              "      <td>3243.0</td>\n",
              "      <td>5330.0</td>\n",
              "      <td>2014.0</td>\n",
              "      <td>126.135831</td>\n",
              "      <td>0</td>\n",
              "    </tr>\n",
              "    <tr>\n",
              "      <th>3</th>\n",
              "      <td>3181</td>\n",
              "      <td>RIVER ZUARI AT BORIM BRIDGE</td>\n",
              "      <td>GOA</td>\n",
              "      <td>29.7</td>\n",
              "      <td>5.8</td>\n",
              "      <td>6.90</td>\n",
              "      <td>64.0</td>\n",
              "      <td>3.8000</td>\n",
              "      <td>0.500</td>\n",
              "      <td>5382.0</td>\n",
              "      <td>8443.0</td>\n",
              "      <td>2014.0</td>\n",
              "      <td>195.105659</td>\n",
              "      <td>0</td>\n",
              "    </tr>\n",
              "    <tr>\n",
              "      <th>4</th>\n",
              "      <td>3182</td>\n",
              "      <td>RIVER ZUARI AT MARCAIM JETTY</td>\n",
              "      <td>GOA</td>\n",
              "      <td>29.5</td>\n",
              "      <td>5.8</td>\n",
              "      <td>7.30</td>\n",
              "      <td>83.0</td>\n",
              "      <td>1.9000</td>\n",
              "      <td>0.400</td>\n",
              "      <td>3428.0</td>\n",
              "      <td>5500.0</td>\n",
              "      <td>2014.0</td>\n",
              "      <td>141.393246</td>\n",
              "      <td>0</td>\n",
              "    </tr>\n",
              "    <tr>\n",
              "      <th>...</th>\n",
              "      <td>...</td>\n",
              "      <td>...</td>\n",
              "      <td>...</td>\n",
              "      <td>...</td>\n",
              "      <td>...</td>\n",
              "      <td>...</td>\n",
              "      <td>...</td>\n",
              "      <td>...</td>\n",
              "      <td>...</td>\n",
              "      <td>...</td>\n",
              "      <td>...</td>\n",
              "      <td>...</td>\n",
              "      <td>...</td>\n",
              "      <td>...</td>\n",
              "    </tr>\n",
              "    <tr>\n",
              "      <th>1780</th>\n",
              "      <td>1329</td>\n",
              "      <td>TAMBIRAPARANI AT RAIL BDG. NR. AMBASAMUDAM, TA...</td>\n",
              "      <td>TAMILNADU</td>\n",
              "      <td>27.0</td>\n",
              "      <td>7.4</td>\n",
              "      <td>7.00</td>\n",
              "      <td>88.5</td>\n",
              "      <td>0.9770</td>\n",
              "      <td>0.186</td>\n",
              "      <td>27.0</td>\n",
              "      <td>105.0</td>\n",
              "      <td>2005.0</td>\n",
              "      <td>43.946271</td>\n",
              "      <td>2</td>\n",
              "    </tr>\n",
              "    <tr>\n",
              "      <th>1781</th>\n",
              "      <td>1330</td>\n",
              "      <td>TAMBIRAPARANI AT ARUMUGANERI, TAMILNADU</td>\n",
              "      <td>TAMILNADU</td>\n",
              "      <td>27.0</td>\n",
              "      <td>6.6</td>\n",
              "      <td>7.81</td>\n",
              "      <td>603.2</td>\n",
              "      <td>2.6750</td>\n",
              "      <td>0.263</td>\n",
              "      <td>40.0</td>\n",
              "      <td>191.0</td>\n",
              "      <td>2005.0</td>\n",
              "      <td>77.315135</td>\n",
              "      <td>0</td>\n",
              "    </tr>\n",
              "    <tr>\n",
              "      <th>1782</th>\n",
              "      <td>1450</td>\n",
              "      <td>PALAR AT VANIYAMBADI WATER SUPPLY HEAD WORK, T...</td>\n",
              "      <td>TAMILNADU</td>\n",
              "      <td>28.0</td>\n",
              "      <td>6.6</td>\n",
              "      <td>7.49</td>\n",
              "      <td>571.5</td>\n",
              "      <td>2.0910</td>\n",
              "      <td>0.256</td>\n",
              "      <td>151.0</td>\n",
              "      <td>273.0</td>\n",
              "      <td>2005.0</td>\n",
              "      <td>69.053768</td>\n",
              "      <td>1</td>\n",
              "    </tr>\n",
              "    <tr>\n",
              "      <th>1783</th>\n",
              "      <td>1403</td>\n",
              "      <td>GUMTI AT U/S SOUTH TRIPURA,TRIPURA</td>\n",
              "      <td>TRIPURA</td>\n",
              "      <td>28.0</td>\n",
              "      <td>5.4</td>\n",
              "      <td>7.16</td>\n",
              "      <td>75.8</td>\n",
              "      <td>2.0920</td>\n",
              "      <td>0.520</td>\n",
              "      <td>404.0</td>\n",
              "      <td>513.0</td>\n",
              "      <td>2005.0</td>\n",
              "      <td>74.670773</td>\n",
              "      <td>1</td>\n",
              "    </tr>\n",
              "    <tr>\n",
              "      <th>1784</th>\n",
              "      <td>1404</td>\n",
              "      <td>GUMTI AT D/S SOUTH TRIPURA, TRIPURA</td>\n",
              "      <td>TRIPURA</td>\n",
              "      <td>30.0</td>\n",
              "      <td>5.4</td>\n",
              "      <td>7.37</td>\n",
              "      <td>104.8</td>\n",
              "      <td>1.8020</td>\n",
              "      <td>0.215</td>\n",
              "      <td>456.0</td>\n",
              "      <td>557.0</td>\n",
              "      <td>2005.0</td>\n",
              "      <td>76.881207</td>\n",
              "      <td>0</td>\n",
              "    </tr>\n",
              "  </tbody>\n",
              "</table>\n",
              "<p>1780 rows × 14 columns</p>\n",
              "</div>\n",
              "      <button class=\"colab-df-convert\" onclick=\"convertToInteractive('df-149308dc-caae-4322-9079-0e07a1e28e18')\"\n",
              "              title=\"Convert this dataframe to an interactive table.\"\n",
              "              style=\"display:none;\">\n",
              "        \n",
              "  <svg xmlns=\"http://www.w3.org/2000/svg\" height=\"24px\"viewBox=\"0 0 24 24\"\n",
              "       width=\"24px\">\n",
              "    <path d=\"M0 0h24v24H0V0z\" fill=\"none\"/>\n",
              "    <path d=\"M18.56 5.44l.94 2.06.94-2.06 2.06-.94-2.06-.94-.94-2.06-.94 2.06-2.06.94zm-11 1L8.5 8.5l.94-2.06 2.06-.94-2.06-.94L8.5 2.5l-.94 2.06-2.06.94zm10 10l.94 2.06.94-2.06 2.06-.94-2.06-.94-.94-2.06-.94 2.06-2.06.94z\"/><path d=\"M17.41 7.96l-1.37-1.37c-.4-.4-.92-.59-1.43-.59-.52 0-1.04.2-1.43.59L10.3 9.45l-7.72 7.72c-.78.78-.78 2.05 0 2.83L4 21.41c.39.39.9.59 1.41.59.51 0 1.02-.2 1.41-.59l7.78-7.78 2.81-2.81c.8-.78.8-2.07 0-2.86zM5.41 20L4 18.59l7.72-7.72 1.47 1.35L5.41 20z\"/>\n",
              "  </svg>\n",
              "      </button>\n",
              "      \n",
              "  <style>\n",
              "    .colab-df-container {\n",
              "      display:flex;\n",
              "      flex-wrap:wrap;\n",
              "      gap: 12px;\n",
              "    }\n",
              "\n",
              "    .colab-df-convert {\n",
              "      background-color: #E8F0FE;\n",
              "      border: none;\n",
              "      border-radius: 50%;\n",
              "      cursor: pointer;\n",
              "      display: none;\n",
              "      fill: #1967D2;\n",
              "      height: 32px;\n",
              "      padding: 0 0 0 0;\n",
              "      width: 32px;\n",
              "    }\n",
              "\n",
              "    .colab-df-convert:hover {\n",
              "      background-color: #E2EBFA;\n",
              "      box-shadow: 0px 1px 2px rgba(60, 64, 67, 0.3), 0px 1px 3px 1px rgba(60, 64, 67, 0.15);\n",
              "      fill: #174EA6;\n",
              "    }\n",
              "\n",
              "    [theme=dark] .colab-df-convert {\n",
              "      background-color: #3B4455;\n",
              "      fill: #D2E3FC;\n",
              "    }\n",
              "\n",
              "    [theme=dark] .colab-df-convert:hover {\n",
              "      background-color: #434B5C;\n",
              "      box-shadow: 0px 1px 3px 1px rgba(0, 0, 0, 0.15);\n",
              "      filter: drop-shadow(0px 1px 2px rgba(0, 0, 0, 0.3));\n",
              "      fill: #FFFFFF;\n",
              "    }\n",
              "  </style>\n",
              "\n",
              "      <script>\n",
              "        const buttonEl =\n",
              "          document.querySelector('#df-149308dc-caae-4322-9079-0e07a1e28e18 button.colab-df-convert');\n",
              "        buttonEl.style.display =\n",
              "          google.colab.kernel.accessAllowed ? 'block' : 'none';\n",
              "\n",
              "        async function convertToInteractive(key) {\n",
              "          const element = document.querySelector('#df-149308dc-caae-4322-9079-0e07a1e28e18');\n",
              "          const dataTable =\n",
              "            await google.colab.kernel.invokeFunction('convertToInteractive',\n",
              "                                                     [key], {});\n",
              "          if (!dataTable) return;\n",
              "\n",
              "          const docLinkHtml = 'Like what you see? Visit the ' +\n",
              "            '<a target=\"_blank\" href=https://colab.research.google.com/notebooks/data_table.ipynb>data table notebook</a>'\n",
              "            + ' to learn more about interactive tables.';\n",
              "          element.innerHTML = '';\n",
              "          dataTable['output_type'] = 'display_data';\n",
              "          await google.colab.output.renderOutput(dataTable, element);\n",
              "          const docLink = document.createElement('div');\n",
              "          docLink.innerHTML = docLinkHtml;\n",
              "          element.appendChild(docLink);\n",
              "        }\n",
              "      </script>\n",
              "    </div>\n",
              "  </div>\n",
              "  "
            ]
          },
          "metadata": {},
          "execution_count": 602
        }
      ]
    },
    {
      "cell_type": "code",
      "execution_count": null,
      "id": "27c768c4",
      "metadata": {
        "execution": {
          "iopub.execute_input": "2021-09-21T16:06:48.040933Z",
          "iopub.status.busy": "2021-09-21T16:06:48.040130Z",
          "iopub.status.idle": "2021-09-21T16:06:48.098156Z",
          "shell.execute_reply": "2021-09-21T16:06:48.098873Z",
          "shell.execute_reply.started": "2021-09-14T13:36:32.732323Z"
        },
        "papermill": {
          "duration": 0.137895,
          "end_time": "2021-09-21T16:06:48.099060",
          "exception": false,
          "start_time": "2021-09-21T16:06:47.961165",
          "status": "completed"
        },
        "tags": [],
        "colab": {
          "base_uri": "https://localhost:8080/",
          "height": 364
        },
        "id": "27c768c4",
        "outputId": "62c17654-e401-4182-9993-ab021f4d764a"
      },
      "outputs": [
        {
          "output_type": "execute_result",
          "data": {
            "text/plain": [
              "              Temp           DO           PH  Conductivity          BOD  \\\n",
              "count  1780.000000  1780.000000  1780.000000   1780.000000  1780.000000   \n",
              "mean     26.241931     6.432263     7.228045   1006.325691     3.961788   \n",
              "std       3.231044     1.258875     0.582761   2764.600752     7.130494   \n",
              "min      10.000000     0.000000     2.900000     11.000000     0.100000   \n",
              "25%      25.000000     6.000000     6.900000     83.000000     1.100000   \n",
              "50%      27.000000     6.700000     7.224500    183.000000     1.800000   \n",
              "75%      28.200000     7.200000     7.600000    489.250000     3.400000   \n",
              "max      35.000000    10.000000     9.010000  18569.000000    88.000000   \n",
              "\n",
              "                NI        Fec_col        Tot_col         year          WQI  \\\n",
              "count  1780.000000    1780.000000    1780.000000  1780.000000  1780.000000   \n",
              "mean      1.119716    2264.420646    7242.598876  2010.380337   130.303409   \n",
              "std       1.629483    8259.474360   40230.193629     2.704223   222.261326   \n",
              "min       0.000000       0.000000       0.000000  2005.000000    16.795814   \n",
              "25%       0.263000      46.000000     108.750000  2008.000000    54.641036   \n",
              "50%       0.520000     233.000000     465.000000  2011.000000    69.840286   \n",
              "75%       1.100000     672.500000    1650.000000  2013.000000    94.348696   \n",
              "max      13.200000  150250.000000  967500.000000  2014.000000  3524.421534   \n",
              "\n",
              "             Label  \n",
              "count  1780.000000  \n",
              "mean      0.715169  \n",
              "std       0.731754  \n",
              "min       0.000000  \n",
              "25%       0.000000  \n",
              "50%       1.000000  \n",
              "75%       1.000000  \n",
              "max       3.000000  "
            ],
            "text/html": [
              "\n",
              "  <div id=\"df-f99980a4-3ae1-4bcd-8099-0bf53e1c469e\">\n",
              "    <div class=\"colab-df-container\">\n",
              "      <div>\n",
              "<style scoped>\n",
              "    .dataframe tbody tr th:only-of-type {\n",
              "        vertical-align: middle;\n",
              "    }\n",
              "\n",
              "    .dataframe tbody tr th {\n",
              "        vertical-align: top;\n",
              "    }\n",
              "\n",
              "    .dataframe thead th {\n",
              "        text-align: right;\n",
              "    }\n",
              "</style>\n",
              "<table border=\"1\" class=\"dataframe\">\n",
              "  <thead>\n",
              "    <tr style=\"text-align: right;\">\n",
              "      <th></th>\n",
              "      <th>Temp</th>\n",
              "      <th>DO</th>\n",
              "      <th>PH</th>\n",
              "      <th>Conductivity</th>\n",
              "      <th>BOD</th>\n",
              "      <th>NI</th>\n",
              "      <th>Fec_col</th>\n",
              "      <th>Tot_col</th>\n",
              "      <th>year</th>\n",
              "      <th>WQI</th>\n",
              "      <th>Label</th>\n",
              "    </tr>\n",
              "  </thead>\n",
              "  <tbody>\n",
              "    <tr>\n",
              "      <th>count</th>\n",
              "      <td>1780.000000</td>\n",
              "      <td>1780.000000</td>\n",
              "      <td>1780.000000</td>\n",
              "      <td>1780.000000</td>\n",
              "      <td>1780.000000</td>\n",
              "      <td>1780.000000</td>\n",
              "      <td>1780.000000</td>\n",
              "      <td>1780.000000</td>\n",
              "      <td>1780.000000</td>\n",
              "      <td>1780.000000</td>\n",
              "      <td>1780.000000</td>\n",
              "    </tr>\n",
              "    <tr>\n",
              "      <th>mean</th>\n",
              "      <td>26.241931</td>\n",
              "      <td>6.432263</td>\n",
              "      <td>7.228045</td>\n",
              "      <td>1006.325691</td>\n",
              "      <td>3.961788</td>\n",
              "      <td>1.119716</td>\n",
              "      <td>2264.420646</td>\n",
              "      <td>7242.598876</td>\n",
              "      <td>2010.380337</td>\n",
              "      <td>130.303409</td>\n",
              "      <td>0.715169</td>\n",
              "    </tr>\n",
              "    <tr>\n",
              "      <th>std</th>\n",
              "      <td>3.231044</td>\n",
              "      <td>1.258875</td>\n",
              "      <td>0.582761</td>\n",
              "      <td>2764.600752</td>\n",
              "      <td>7.130494</td>\n",
              "      <td>1.629483</td>\n",
              "      <td>8259.474360</td>\n",
              "      <td>40230.193629</td>\n",
              "      <td>2.704223</td>\n",
              "      <td>222.261326</td>\n",
              "      <td>0.731754</td>\n",
              "    </tr>\n",
              "    <tr>\n",
              "      <th>min</th>\n",
              "      <td>10.000000</td>\n",
              "      <td>0.000000</td>\n",
              "      <td>2.900000</td>\n",
              "      <td>11.000000</td>\n",
              "      <td>0.100000</td>\n",
              "      <td>0.000000</td>\n",
              "      <td>0.000000</td>\n",
              "      <td>0.000000</td>\n",
              "      <td>2005.000000</td>\n",
              "      <td>16.795814</td>\n",
              "      <td>0.000000</td>\n",
              "    </tr>\n",
              "    <tr>\n",
              "      <th>25%</th>\n",
              "      <td>25.000000</td>\n",
              "      <td>6.000000</td>\n",
              "      <td>6.900000</td>\n",
              "      <td>83.000000</td>\n",
              "      <td>1.100000</td>\n",
              "      <td>0.263000</td>\n",
              "      <td>46.000000</td>\n",
              "      <td>108.750000</td>\n",
              "      <td>2008.000000</td>\n",
              "      <td>54.641036</td>\n",
              "      <td>0.000000</td>\n",
              "    </tr>\n",
              "    <tr>\n",
              "      <th>50%</th>\n",
              "      <td>27.000000</td>\n",
              "      <td>6.700000</td>\n",
              "      <td>7.224500</td>\n",
              "      <td>183.000000</td>\n",
              "      <td>1.800000</td>\n",
              "      <td>0.520000</td>\n",
              "      <td>233.000000</td>\n",
              "      <td>465.000000</td>\n",
              "      <td>2011.000000</td>\n",
              "      <td>69.840286</td>\n",
              "      <td>1.000000</td>\n",
              "    </tr>\n",
              "    <tr>\n",
              "      <th>75%</th>\n",
              "      <td>28.200000</td>\n",
              "      <td>7.200000</td>\n",
              "      <td>7.600000</td>\n",
              "      <td>489.250000</td>\n",
              "      <td>3.400000</td>\n",
              "      <td>1.100000</td>\n",
              "      <td>672.500000</td>\n",
              "      <td>1650.000000</td>\n",
              "      <td>2013.000000</td>\n",
              "      <td>94.348696</td>\n",
              "      <td>1.000000</td>\n",
              "    </tr>\n",
              "    <tr>\n",
              "      <th>max</th>\n",
              "      <td>35.000000</td>\n",
              "      <td>10.000000</td>\n",
              "      <td>9.010000</td>\n",
              "      <td>18569.000000</td>\n",
              "      <td>88.000000</td>\n",
              "      <td>13.200000</td>\n",
              "      <td>150250.000000</td>\n",
              "      <td>967500.000000</td>\n",
              "      <td>2014.000000</td>\n",
              "      <td>3524.421534</td>\n",
              "      <td>3.000000</td>\n",
              "    </tr>\n",
              "  </tbody>\n",
              "</table>\n",
              "</div>\n",
              "      <button class=\"colab-df-convert\" onclick=\"convertToInteractive('df-f99980a4-3ae1-4bcd-8099-0bf53e1c469e')\"\n",
              "              title=\"Convert this dataframe to an interactive table.\"\n",
              "              style=\"display:none;\">\n",
              "        \n",
              "  <svg xmlns=\"http://www.w3.org/2000/svg\" height=\"24px\"viewBox=\"0 0 24 24\"\n",
              "       width=\"24px\">\n",
              "    <path d=\"M0 0h24v24H0V0z\" fill=\"none\"/>\n",
              "    <path d=\"M18.56 5.44l.94 2.06.94-2.06 2.06-.94-2.06-.94-.94-2.06-.94 2.06-2.06.94zm-11 1L8.5 8.5l.94-2.06 2.06-.94-2.06-.94L8.5 2.5l-.94 2.06-2.06.94zm10 10l.94 2.06.94-2.06 2.06-.94-2.06-.94-.94-2.06-.94 2.06-2.06.94z\"/><path d=\"M17.41 7.96l-1.37-1.37c-.4-.4-.92-.59-1.43-.59-.52 0-1.04.2-1.43.59L10.3 9.45l-7.72 7.72c-.78.78-.78 2.05 0 2.83L4 21.41c.39.39.9.59 1.41.59.51 0 1.02-.2 1.41-.59l7.78-7.78 2.81-2.81c.8-.78.8-2.07 0-2.86zM5.41 20L4 18.59l7.72-7.72 1.47 1.35L5.41 20z\"/>\n",
              "  </svg>\n",
              "      </button>\n",
              "      \n",
              "  <style>\n",
              "    .colab-df-container {\n",
              "      display:flex;\n",
              "      flex-wrap:wrap;\n",
              "      gap: 12px;\n",
              "    }\n",
              "\n",
              "    .colab-df-convert {\n",
              "      background-color: #E8F0FE;\n",
              "      border: none;\n",
              "      border-radius: 50%;\n",
              "      cursor: pointer;\n",
              "      display: none;\n",
              "      fill: #1967D2;\n",
              "      height: 32px;\n",
              "      padding: 0 0 0 0;\n",
              "      width: 32px;\n",
              "    }\n",
              "\n",
              "    .colab-df-convert:hover {\n",
              "      background-color: #E2EBFA;\n",
              "      box-shadow: 0px 1px 2px rgba(60, 64, 67, 0.3), 0px 1px 3px 1px rgba(60, 64, 67, 0.15);\n",
              "      fill: #174EA6;\n",
              "    }\n",
              "\n",
              "    [theme=dark] .colab-df-convert {\n",
              "      background-color: #3B4455;\n",
              "      fill: #D2E3FC;\n",
              "    }\n",
              "\n",
              "    [theme=dark] .colab-df-convert:hover {\n",
              "      background-color: #434B5C;\n",
              "      box-shadow: 0px 1px 3px 1px rgba(0, 0, 0, 0.15);\n",
              "      filter: drop-shadow(0px 1px 2px rgba(0, 0, 0, 0.3));\n",
              "      fill: #FFFFFF;\n",
              "    }\n",
              "  </style>\n",
              "\n",
              "      <script>\n",
              "        const buttonEl =\n",
              "          document.querySelector('#df-f99980a4-3ae1-4bcd-8099-0bf53e1c469e button.colab-df-convert');\n",
              "        buttonEl.style.display =\n",
              "          google.colab.kernel.accessAllowed ? 'block' : 'none';\n",
              "\n",
              "        async function convertToInteractive(key) {\n",
              "          const element = document.querySelector('#df-f99980a4-3ae1-4bcd-8099-0bf53e1c469e');\n",
              "          const dataTable =\n",
              "            await google.colab.kernel.invokeFunction('convertToInteractive',\n",
              "                                                     [key], {});\n",
              "          if (!dataTable) return;\n",
              "\n",
              "          const docLinkHtml = 'Like what you see? Visit the ' +\n",
              "            '<a target=\"_blank\" href=https://colab.research.google.com/notebooks/data_table.ipynb>data table notebook</a>'\n",
              "            + ' to learn more about interactive tables.';\n",
              "          element.innerHTML = '';\n",
              "          dataTable['output_type'] = 'display_data';\n",
              "          await google.colab.output.renderOutput(dataTable, element);\n",
              "          const docLink = document.createElement('div');\n",
              "          docLink.innerHTML = docLinkHtml;\n",
              "          element.appendChild(docLink);\n",
              "        }\n",
              "      </script>\n",
              "    </div>\n",
              "  </div>\n",
              "  "
            ]
          },
          "metadata": {},
          "execution_count": 603
        }
      ],
      "source": [
        "df_wqi.describe()"
      ]
    },
    {
      "cell_type": "code",
      "source": [
        "df_wqi.dtypes"
      ],
      "metadata": {
        "colab": {
          "base_uri": "https://localhost:8080/"
        },
        "id": "StNIojy6jI01",
        "outputId": "3cf29d1d-c43a-4cfe-8055-e2e6ca10f93b"
      },
      "id": "StNIojy6jI01",
      "execution_count": null,
      "outputs": [
        {
          "output_type": "execute_result",
          "data": {
            "text/plain": [
              "STATION CODE     object\n",
              "LOCATIONS        object\n",
              "STATE            object\n",
              "Temp            float64\n",
              "DO              float64\n",
              "PH              float64\n",
              "Conductivity    float64\n",
              "BOD             float64\n",
              "NI              float64\n",
              "Fec_col         float64\n",
              "Tot_col         float64\n",
              "year            float64\n",
              "WQI             float64\n",
              "Label             int64\n",
              "dtype: object"
            ]
          },
          "metadata": {},
          "execution_count": 604
        }
      ]
    },
    {
      "cell_type": "markdown",
      "source": [
        "# Prediction - 5 Algorithms\n",
        "#  & Model Evaluation "
      ],
      "metadata": {
        "id": "lNQJq8856CVW"
      },
      "id": "lNQJq8856CVW"
    },
    {
      "cell_type": "code",
      "source": [
        "pip install sklearn"
      ],
      "metadata": {
        "colab": {
          "base_uri": "https://localhost:8080/"
        },
        "id": "aVwSV3cR-K95",
        "outputId": "d4f98f2f-a4c8-4456-d083-880ba4d55783"
      },
      "id": "aVwSV3cR-K95",
      "execution_count": null,
      "outputs": [
        {
          "output_type": "stream",
          "name": "stdout",
          "text": [
            "Looking in indexes: https://pypi.org/simple, https://us-python.pkg.dev/colab-wheels/public/simple/\n",
            "Requirement already satisfied: sklearn in /usr/local/lib/python3.7/dist-packages (0.0.post1)\n"
          ]
        }
      ]
    },
    {
      "cell_type": "code",
      "source": [
        "X= df_wqi[['Temp', 'DO', 'PH', 'Conductivity','BOD','NI','Fec_col','Tot_col']]  \n",
        "df_wqi['WQI'] = df_wqi['WQI'].astype(int)\n",
        "Y= df_wqi[['WQI']]  "
      ],
      "metadata": {
        "id": "vs5yX7AEBQVi"
      },
      "id": "vs5yX7AEBQVi",
      "execution_count": null,
      "outputs": []
    },
    {
      "cell_type": "code",
      "source": [
        "from sklearn.model_selection import train_test_split\n",
        "from sklearn.tree import DecisionTreeClassifier\n",
        "from sklearn.neighbors import KNeighborsClassifier\n",
        "from sklearn.neural_network import MLPClassifier\n",
        "from sklearn.ensemble import RandomForestClassifier\n",
        "from sklearn import linear_model\n",
        "from sklearn import metrics \n",
        "import math\n",
        "from sklearn.metrics import mean_squared_error\n",
        "\n",
        "X_train, X_test, Y_train, Y_test = train_test_split( X, Y, train_size=0.75,test_size=0.25, random_state=42)\n",
        "\n",
        "#from sklearn.preprocessing import StandardScaler\n",
        "#sc_X = StandardScaler()\n",
        "#X_train = sc_X.fit_transform(X_train)\n",
        "#X_test = sc_X.transform(X_test)\n",
        "\n",
        "#{Decision Tree Model}\n",
        "clf = DecisionTreeClassifier()\n",
        "clf = clf.fit(X_train,Y_train)\n",
        "clf_pred=clf.predict(X_test)\n",
        "clf_accuracy=metrics.accuracy_score(Y_test,clf_pred)\n",
        "print(\"1) Using Decision Tree Prediction, Accuracy is \" + str(clf_accuracy))\n",
        "\n",
        "#{K Neighbors Classifier}\n",
        "knn = KNeighborsClassifier(n_neighbors=7)\n",
        "knn=knn.fit(X_train,Y_train.values.ravel())\n",
        "knn_pred=knn.predict(X_test)\n",
        "knn_accuracy=metrics.accuracy_score(Y_test,knn_pred)\n",
        "print (\"2) Using K Neighbors Classifier Prediction, Accuracy is \" + str(knn_accuracy))\n",
        "\n",
        "#{using MLPClassifier}\n",
        "mlpc = MLPClassifier()\n",
        "mlpc.fit(X_train,Y_train.values.ravel())\n",
        "mlpc_pred=mlpc.predict(X_test)\n",
        "mlpc_accuracy=metrics.accuracy_score(Y_test,mlpc_pred)\n",
        "print (\"3) Using MLPC Classifier Prediction, Accuracy is \" + str(mlpc_accuracy))\n",
        "\n",
        "#{using MLPClassifier}\n",
        "rfor = RandomForestClassifier()\n",
        "rfor.fit(X_train,Y_train.values.ravel())\n",
        "rfor_pred=rfor.predict(X_test)\n",
        "rfor_accuracy=metrics.accuracy_score(Y_test,rfor_pred)\n",
        "print (\"4) Using RandomForest Classifier Prediction, Accuracy is \" + str(rfor_accuracy))\n",
        "\n",
        "#{using Linear Regression}\n",
        "linreg=linear_model.LinearRegression()\n",
        "linreg.fit(X_train,Y_train)\n",
        "linreg_pred=rfor.predict(X_test)\n",
        "linreg_accuracy=metrics.accuracy_score(Y_test,linreg_pred)\n",
        "rmse = math.sqrt(mean_squared_error(Y_test,linreg_pred))\n",
        "print (\"5) Using Linear Regression Prediction, Accuracy is \" + str(linreg_accuracy))"
      ],
      "metadata": {
        "colab": {
          "base_uri": "https://localhost:8080/"
        },
        "id": "4TeIelwF6CHO",
        "outputId": "c48961cf-0908-4894-83a3-6fd98251c15a"
      },
      "id": "4TeIelwF6CHO",
      "execution_count": null,
      "outputs": [
        {
          "output_type": "stream",
          "name": "stdout",
          "text": [
            "1) Using Decision Tree Prediction, Accuracy is 0.06292134831460675\n",
            "2) Using K Neighbors Classifier Prediction, Accuracy is 0.017977528089887642\n",
            "3) Using MLPC Classifier Prediction, Accuracy is 0.015730337078651686\n",
            "4) Using RandomForest Classifier Prediction, Accuracy is 0.07415730337078652\n",
            "5) Using Linear Regression Prediction, Accuracy is 0.07415730337078652\n"
          ]
        }
      ]
    },
    {
      "cell_type": "markdown",
      "source": [
        "# Accuracy found maximum in Decision Tree"
      ],
      "metadata": {
        "id": "CIbYREaFCJCd"
      },
      "id": "CIbYREaFCJCd"
    },
    {
      "cell_type": "markdown",
      "source": [
        "\n",
        "# Saving the model"
      ],
      "metadata": {
        "id": "lCfYhonbAu7c"
      },
      "id": "lCfYhonbAu7c"
    },
    {
      "cell_type": "code",
      "source": [
        "pip install sklearn"
      ],
      "metadata": {
        "colab": {
          "base_uri": "https://localhost:8080/"
        },
        "id": "EU1-Bq2MF6bm",
        "outputId": "e78a9d5a-22ba-4f6a-ed3a-21d424db0dfc"
      },
      "id": "EU1-Bq2MF6bm",
      "execution_count": null,
      "outputs": [
        {
          "output_type": "stream",
          "name": "stdout",
          "text": [
            "Looking in indexes: https://pypi.org/simple, https://us-python.pkg.dev/colab-wheels/public/simple/\n",
            "Requirement already satisfied: sklearn in /usr/local/lib/python3.7/dist-packages (0.0.post1)\n"
          ]
        }
      ]
    },
    {
      "cell_type": "code",
      "source": [
        "# loading library\n",
        "import pickle\n",
        "# create an iterator object with write permission - model.pkl\n",
        "with open('WQ_DC_Model.pkl', 'wb') as files:\n",
        "    pickle.dump(rfor, files)"
      ],
      "metadata": {
        "id": "xB32vQKnAyhO"
      },
      "id": "xB32vQKnAyhO",
      "execution_count": null,
      "outputs": []
    },
    {
      "cell_type": "markdown",
      "source": [
        "# Example"
      ],
      "metadata": {
        "id": "cBaNMvXV6PmO"
      },
      "id": "cBaNMvXV6PmO"
    },
    {
      "cell_type": "code",
      "source": [
        "#Working out on input values\n",
        "t=[[ 30.6,6.7,7.50,203.0,1.8965,0.100,11.0,\t27.0]]\n",
        "output=clf.predict(t)\n",
        "output\n"
      ],
      "metadata": {
        "colab": {
          "base_uri": "https://localhost:8080/"
        },
        "id": "Ir0pzc6LB1q2",
        "outputId": "afbdd69e-d6a3-4fba-b98c-3884b1120313"
      },
      "id": "Ir0pzc6LB1q2",
      "execution_count": null,
      "outputs": [
        {
          "output_type": "stream",
          "name": "stderr",
          "text": [
            "/usr/local/lib/python3.7/dist-packages/sklearn/base.py:451: UserWarning: X does not have valid feature names, but DecisionTreeClassifier was fitted with feature names\n",
            "  \"X does not have valid feature names, but\"\n"
          ]
        },
        {
          "output_type": "execute_result",
          "data": {
            "text/plain": [
              "array([63])"
            ]
          },
          "metadata": {},
          "execution_count": 610
        }
      ]
    }
  ],
  "metadata": {
    "kernelspec": {
      "display_name": "Python 3",
      "language": "python",
      "name": "python3"
    },
    "language_info": {
      "codemirror_mode": {
        "name": "ipython",
        "version": 3
      },
      "file_extension": ".py",
      "mimetype": "text/x-python",
      "name": "python",
      "nbconvert_exporter": "python",
      "pygments_lexer": "ipython3",
      "version": "3.7.10"
    },
    "papermill": {
      "default_parameters": {},
      "duration": 21.833294,
      "end_time": "2021-09-21T16:06:49.842380",
      "environment_variables": {},
      "exception": null,
      "input_path": "__notebook__.ipynb",
      "output_path": "__notebook__.ipynb",
      "parameters": {},
      "start_time": "2021-09-21T16:06:28.009086",
      "version": "2.3.3"
    },
    "colab": {
      "provenance": [],
      "collapsed_sections": [
        "a6f803e9",
        "2OlQdOmr3NlQ",
        "Uo5ZE5gU3Xpw",
        "PP_zelVx3j_L"
      ]
    }
  },
  "nbformat": 4,
  "nbformat_minor": 5
}